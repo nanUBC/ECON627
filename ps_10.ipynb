{
 "cells": [
  {
   "cell_type": "markdown",
   "metadata": {},
   "source": [
    "# Econometrics Assignment 10\n",
    "## Nicolas Wesseler"
   ]
  },
  {
   "cell_type": "markdown",
   "metadata": {},
   "source": [
    "### Activate Environment"
   ]
  },
  {
   "cell_type": "code",
   "execution_count": 12,
   "metadata": {},
   "outputs": [
    {
     "name": "stderr",
     "output_type": "stream",
     "text": [
      "\u001b[32m\u001b[1m  Activating\u001b[22m\u001b[39m project at `~/Desktop/MachineLearning`\n"
     ]
    },
    {
     "data": {
      "text/plain": [
       "TaskLocalRNG()"
      ]
     },
     "execution_count": 12,
     "metadata": {},
     "output_type": "execute_result"
    }
   ],
   "source": [
    "using Pkg\n",
    "Pkg.activate(joinpath(pwd(),\"..\"))\n",
    "using Random, Distributions, PrettyTables, SCS, Plots, LinearAlgebra, Convex\n",
    "using Base.Threads: @threads, @spawn\n",
    "Random.seed!(1234)"
   ]
  },
  {
   "cell_type": "markdown",
   "metadata": {},
   "source": [
    "### Install missing packages"
   ]
  },
  {
   "cell_type": "markdown",
   "metadata": {},
   "source": [
    "### Load Packages"
   ]
  },
  {
   "cell_type": "markdown",
   "metadata": {},
   "source": [
    "### Ensure Replicability of Simulations"
   ]
  },
  {
   "cell_type": "code",
   "execution_count": 13,
   "metadata": {},
   "outputs": [],
   "source": [
    "const k = 50;\n",
    "const α = 1;\n",
    "const n = 300;"
   ]
  },
  {
   "cell_type": "markdown",
   "metadata": {},
   "source": [
    "## Generate the data"
   ]
  },
  {
   "cell_type": "markdown",
   "metadata": {},
   "source": [
    "## a)"
   ]
  },
  {
   "cell_type": "code",
   "execution_count": 14,
   "metadata": {},
   "outputs": [
    {
     "data": {
      "text/plain": [
       "dgp (generic function with 1 method)"
      ]
     },
     "execution_count": 14,
     "metadata": {},
     "output_type": "execute_result"
    }
   ],
   "source": [
    "function dgp(ρ, σ, β1, β2)\n",
    "\n",
    "    # create X\n",
    "    means = zeros(50)\n",
    "    cov  = fill(ρ, (k,k))\n",
    "    cov[diagind(cov)] .= 1\n",
    "    normal = MvNormal(means,cov)\n",
    "    X = rand(normal,n)'\n",
    "\n",
    "    # create Y \n",
    "    U = rand(Normal(0, σ^2), n)\n",
    "    Y = α .+ β1 * X[:,1] .+ β2 * X[:,2] .+ U\n",
    "    \n",
    "    return (Y = Y, X = X)\n",
    "end"
   ]
  },
  {
   "cell_type": "code",
   "execution_count": 97,
   "metadata": {},
   "outputs": [],
   "source": [
    "Y,X = dgp(0.2,0.1,0.1,0.1);"
   ]
  },
  {
   "cell_type": "markdown",
   "metadata": {},
   "source": [
    "## b) "
   ]
  },
  {
   "cell_type": "code",
   "execution_count": 16,
   "metadata": {},
   "outputs": [
    {
     "data": {
      "text/plain": [
       "Lasso (generic function with 2 methods)"
      ]
     },
     "execution_count": 16,
     "metadata": {},
     "output_type": "execute_result"
    }
   ],
   "source": [
    "MOI=Convex.MOI\n",
    "opt = MOI.OptimizerWithAttributes(SCS.Optimizer, \"eps_abs\"=>1.0e-08,\"eps_rel\"=>1.0e-08, MOI.Silent() => true)\n",
    "\n",
    "function Lasso(Y, X, λ)\n",
    "\n",
    "    #define variables to optimize over\n",
    "    N,K = size(X) \n",
    "    X=[X ones(N,1)]\n",
    "    \n",
    "    b = Variable(K+1) \n",
    "    \n",
    "    Q=X'X/N;\n",
    "    c=X'Y/N;\n",
    "    \n",
    "    L1=quadform(b, Q)/2  \n",
    "    L2 = dot(c, b) \n",
    "    L3 = norm(b[1:K], 1)\n",
    "\n",
    "    Sol=minimize(L1-L2+λ*L3)\n",
    "    \n",
    "    solve!(Sol, opt, verbose=false)\n",
    "    \n",
    "    estr=round.(vec(evaluate(b)),digits=5)\n",
    "\n",
    "    return estr\n",
    "end"
   ]
  },
  {
   "cell_type": "markdown",
   "metadata": {},
   "source": [
    "## TEST THE SPEED OF ONE ITERATION"
   ]
  },
  {
   "cell_type": "code",
   "execution_count": 31,
   "metadata": {},
   "outputs": [
    {
     "name": "stdout",
     "output_type": "stream",
     "text": [
      "  0.239240 seconds (4.65 k allocations: 1021.234 KiB)\n"
     ]
    },
    {
     "data": {
      "text/plain": [
       "1.0"
      ]
     },
     "execution_count": 31,
     "metadata": {},
     "output_type": "execute_result"
    }
   ],
   "source": [
    "Y,X = dgp(0.2,2.0,2.0,2.0)\n",
    "lambda =  1.1 * 2.0 * sqrt((2 * log(n * k)) / n)\n",
    "@time Lasso(Y, X, lambda)\n",
    "test = 0\n",
    "test += b_i[1] != 0 && b_i[2] != 0 && sum((b_i[3:50] .!= 0) ) > 0 ? 1.0 : 0.0"
   ]
  },
  {
   "cell_type": "markdown",
   "metadata": {},
   "source": [
    "## c)"
   ]
  },
  {
   "cell_type": "code",
   "execution_count": 217,
   "metadata": {},
   "outputs": [
    {
     "data": {
      "text/plain": [
       "simulation (generic function with 1 method)"
      ]
     },
     "metadata": {},
     "output_type": "display_data"
    }
   ],
   "source": [
    "function simulation(ρ, σ, β1, β2)\n",
    "\n",
    "    Y,X = dgp(ρ,σ,β1,β2)\n",
    "\n",
    "    λ = 1.1 * σ * sqrt((2 * log(n * k)) / n)\n",
    "\n",
    "    b_i = Lasso(Y, X, λ)\n",
    "    \n",
    "    count_1 = 0\n",
    "    count_1 += b_i[1] != 0 ? 1.0 : 0.0\n",
    "\n",
    "    count_2 = 0\n",
    "    count_2 += b_i[2] != 0 ? 1.0 : 0.0\n",
    "\n",
    "    count_3 = 0\n",
    "    count_3 += b_i[1] != 0 && b_i[2] != 0 && sum((b_i[3:50] .!= 0) ) > 0 ? 1.0 : 0.0\n",
    "\n",
    "    return (count_1 = count_1, count_2 = count_2, count_3 = count_3)\n",
    "end"
   ]
  },
  {
   "cell_type": "code",
   "execution_count": 218,
   "metadata": {},
   "outputs": [
    {
     "data": {
      "text/plain": [
       "0.7682"
      ]
     },
     "metadata": {},
     "output_type": "display_data"
    }
   ],
   "source": [
    "sto_1_c = 0\n",
    "sto_2_c = 0\n",
    "sto_3_c = 0\n",
    "\n",
    "R = 10000\n",
    "\n",
    "for i = 1:R\n",
    "\n",
    "    @unpack count_1, count_2, count_3 = simulation(0.2,2.0,2.0,2.0)\n",
    "    sto_1_c += count_1\n",
    "    sto_2_c += count_2\n",
    "    sto_3_c += count_3\n",
    "\n",
    "end\n",
    "\n",
    "sto_1_c = sto_1_c / R\n",
    "sto_2_c = sto_2_c / R\n",
    "sto_3_c = sto_3_c / R"
   ]
  },
  {
   "cell_type": "markdown",
   "metadata": {},
   "source": [
    "## d)"
   ]
  },
  {
   "cell_type": "code",
   "execution_count": 219,
   "metadata": {},
   "outputs": [
    {
     "data": {
      "text/plain": [
       "0.0"
      ]
     },
     "metadata": {},
     "output_type": "display_data"
    }
   ],
   "source": [
    "sto_1_d = 0\n",
    "sto_2_d = 0\n",
    "sto_3_d = 0\n",
    "\n",
    "R = 10000\n",
    "\n",
    "for i = 1:R\n",
    "\n",
    "    count_1, count_2, count_3 = simulation(0.2,0.1,0.1,0.1)\n",
    "    sto_1_d += count_1\n",
    "    sto_2_d += count_2\n",
    "    sto_3_d += count_3\n",
    "\n",
    "end\n",
    "\n",
    "sto_1_d = sto_1_d / R\n",
    "sto_2_d = sto_2_d / R\n",
    "sto_3_d = sto_3_d / R"
   ]
  },
  {
   "cell_type": "markdown",
   "metadata": {},
   "source": [
    "## e)"
   ]
  },
  {
   "cell_type": "code",
   "execution_count": 220,
   "metadata": {},
   "outputs": [
    {
     "data": {
      "text/plain": [
       "0.0832"
      ]
     },
     "metadata": {},
     "output_type": "display_data"
    }
   ],
   "source": [
    "sto_1_e = 0\n",
    "sto_2_e = 0\n",
    "sto_3_e = 0\n",
    "\n",
    "R = 10000\n",
    "\n",
    "for i = 1:R\n",
    "\n",
    "    count_1, count_2, count_3 = simulation(0.2,2.0,2.0,0.2)\n",
    "    sto_1_e += count_1\n",
    "    sto_2_e += count_2\n",
    "    sto_3_e += count_3\n",
    "\n",
    "end\n",
    "\n",
    "sto_1_e = sto_1_e / R\n",
    "sto_2_e = sto_2_e / R\n",
    "sto_3_e = sto_3_e / R"
   ]
  },
  {
   "cell_type": "markdown",
   "metadata": {},
   "source": [
    "## f)"
   ]
  },
  {
   "cell_type": "code",
   "execution_count": 221,
   "metadata": {},
   "outputs": [
    {
     "data": {
      "text/plain": [
       "0.8561"
      ]
     },
     "metadata": {},
     "output_type": "display_data"
    }
   ],
   "source": [
    "sto_1_f = 0\n",
    "sto_2_f = 0\n",
    "sto_3_f = 0\n",
    "\n",
    "R = 10000\n",
    "\n",
    "for i = 1:R\n",
    "\n",
    "    count_1, count_2, count_3 = simulation(0.9,2.0,2.0,2.0)\n",
    "    sto_1_f += count_1\n",
    "    sto_2_f += count_2\n",
    "    sto_3_f += count_3\n",
    "\n",
    "end\n",
    "\n",
    "sto_1_f = sto_1_f / R\n",
    "sto_2_f = sto_2_f / R\n",
    "sto_3_f = sto_3_f / R"
   ]
  },
  {
   "cell_type": "code",
   "execution_count": 222,
   "metadata": {},
   "outputs": [
    {
     "name": "stdout",
     "output_type": "stream",
     "text": [
      "┌───────────────┬───────────────┬───────────────┬───────────────┐\n",
      "│\u001b[1m Specification \u001b[0m│\u001b[1m Probability 1 \u001b[0m│\u001b[1m Probability 2 \u001b[0m│\u001b[1m Probability 3 \u001b[0m│\n",
      "├───────────────┼───────────────┼───────────────┼───────────────┤\n",
      "│            c) │           1.0 │           1.0 │        0.7682 │\n",
      "│            d) │           1.0 │           1.0 │           0.0 │\n",
      "│            e) │           1.0 │        0.1132 │        0.0832 │\n",
      "│            f) │         0.931 │        0.9347 │        0.8561 │\n",
      "└───────────────┴───────────────┴───────────────┴───────────────┘\n"
     ]
    }
   ],
   "source": [
    "table_header = [\"Specification\",\"Probability 1\", \"Probability 2\", \"Probability 3\"]\n",
    "content = [\"c)\" sto_1_c sto_2_c sto_3_c ; \"d)\" sto_1_d sto_2_d sto_3_d ; \"e)\" sto_1_e sto_2_e sto_3_e ; \"f)\" sto_1_f sto_2_f sto_3_f]\n",
    "pretty_table(content, table_header)"
   ]
  }
 ],
 "metadata": {
  "interpreter": {
   "hash": "6f3459a7eaad7388d7351a557bbe5239a0aa1912c8a80cc899cc91528b7b4fb5"
  },
  "kernelspec": {
   "display_name": "Julia(10 threads) 1.7.2",
   "language": "julia",
   "name": "julia(10-threads)-1.7"
  },
  "language_info": {
   "file_extension": ".jl",
   "mimetype": "application/julia",
   "name": "julia",
   "version": "1.7.2"
  }
 },
 "nbformat": 4,
 "nbformat_minor": 2
}
