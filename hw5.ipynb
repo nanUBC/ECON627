{
 "cells": [
  {
   "cell_type": "code",
   "execution_count": 62,
   "metadata": {},
   "outputs": [
    {
     "name": "stderr",
     "output_type": "stream",
     "text": [
      "\u001b[32m\u001b[1m  Activating\u001b[22m\u001b[39m environment at `~/Desktop/ECON 627/Project.toml`\n"
     ]
    },
    {
     "data": {
      "text/plain": [
       "MersenneTwister(1234)"
      ]
     },
     "metadata": {},
     "output_type": "display_data"
    }
   ],
   "source": [
    "using Pkg\n",
    "Pkg.activate(joinpath(pwd(),\"..\"))\n",
    "using Random, Distributions, PrettyTables, Printf\n",
    "Random.seed!(1234)"
   ]
  },
  {
   "cell_type": "markdown",
   "metadata": {},
   "source": [
    "# Part (a): Data Generating"
   ]
  },
  {
   "cell_type": "code",
   "execution_count": 3,
   "metadata": {},
   "outputs": [
    {
     "data": {
      "text/plain": [
       "0.9"
      ]
     },
     "metadata": {},
     "output_type": "display_data"
    }
   ],
   "source": [
    "const β = 1\n",
    "const pi = [1;1]\n",
    "const ρ = 0.9"
   ]
  },
  {
   "cell_type": "code",
   "execution_count": 100,
   "metadata": {},
   "outputs": [
    {
     "data": {
      "text/plain": [
       "gendata (generic function with 1 method)"
      ]
     },
     "metadata": {},
     "output_type": "display_data"
    }
   ],
   "source": [
    "function gendata(n)\n",
    "    #generate z1, z2\n",
    "    mvnormal_z = MvNormal([0;0], [1 0 ; 0 1])\n",
    "    Z = rand(mvnormal_z,n)'\n",
    "\n",
    "    #generate ϵ, v and u\n",
    "    mvnormal = MvNormal([0;0], [1 ρ ; ρ 1])\n",
    "    err = rand(mvnormal, n)'\n",
    "\n",
    "    e = err[:,1]\n",
    "    V = err[:,2]\n",
    "\n",
    "    U = (Z1 .+ Z2) .* e\n",
    "\n",
    "    #generate X and y\n",
    "    X = Z * pi + V\n",
    "    Y = X * β + U\n",
    "\n",
    "    return (Y = Y, X = X, Z = Z)\n",
    "end\n"
   ]
  },
  {
   "cell_type": "markdown",
   "metadata": {},
   "source": [
    "# Part (b): Efficient GMM Estimator"
   ]
  },
  {
   "cell_type": "code",
   "execution_count": 5,
   "metadata": {},
   "outputs": [
    {
     "data": {
      "text/plain": [
       "est2SLS (generic function with 1 method)"
      ]
     },
     "metadata": {},
     "output_type": "display_data"
    }
   ],
   "source": [
    "function est2SLS(y, x, z)\n",
    "    # Set some parameter\n",
    "    n = size(y,1)\n",
    "    Q = (z'* x)/n\n",
    "    W = inv(z' * z/n)\n",
    "\n",
    "    #Beta\n",
    "    beta2SLS = (Q' * W * Q)^(-1) * Q' * W * (z' * y)/n\n",
    "\n",
    "    # Asymptotic variance and standard error  \n",
    "    u = y - x * beta2SLS\n",
    "    zu = z .* u\n",
    "    Omega = (zu' * zu)/n\n",
    "\n",
    "    var = (Q' * W * Q)^(-1) * Q' * W * Omega * W * Q * (Q' * W * Q)^(-1)\n",
    "    \n",
    "    sd2SLS = sqrt(var/n)\n",
    "\n",
    "\n",
    "    return (beta2SLS=beta2SLS, sd2SLS = sd2SLS)\n",
    "end"
   ]
  },
  {
   "cell_type": "code",
   "execution_count": 6,
   "metadata": {},
   "outputs": [
    {
     "data": {
      "text/plain": [
       "estGMM (generic function with 1 method)"
      ]
     },
     "metadata": {},
     "output_type": "display_data"
    }
   ],
   "source": [
    "function estGMM(y,x,z)\n",
    "    n=size(y,1)\n",
    "    Q = (z'* x)/n\n",
    "    W = inv(z' * z/n)\n",
    "\n",
    "    #First Step\n",
    "    (beta2SLS, sd) = est2SLS(y,x,z)\n",
    "\n",
    "    #Second Step\n",
    "    u = y - x * beta2SLS\n",
    "    zu = z .* u\n",
    "    Omega = (zu' * zu)/n\n",
    "    betaGMM = (Q' * inv(Omega) * Q)^(-1) * Q' * inv(Omega) * (z' * y)/n\n",
    "\n",
    "    avar = (Q' * inv(Omega) * Q)^(-1)  \n",
    "    sdGMM = sqrt(avar)/sqrt(n)\n",
    "\n",
    "    return (betaGMM =betaGMM, sdGMM = sdGMM)\n",
    "end"
   ]
  },
  {
   "cell_type": "code",
   "execution_count": 7,
   "metadata": {},
   "outputs": [
    {
     "data": {
      "text/plain": [
       "(betaGMM = 0.9553209754408782, sdGMM = 0.13768093796415887)"
      ]
     },
     "metadata": {},
     "output_type": "display_data"
    }
   ],
   "source": [
    "(Y,X,Z) = gendata(100)\n",
    "estGMM(Y,X,Z)"
   ]
  },
  {
   "cell_type": "markdown",
   "metadata": {},
   "source": [
    "# Part (c)"
   ]
  },
  {
   "cell_type": "code",
   "execution_count": 8,
   "metadata": {},
   "outputs": [
    {
     "data": {
      "text/plain": [
       "stat (generic function with 1 method)"
      ]
     },
     "metadata": {},
     "output_type": "display_data"
    }
   ],
   "source": [
    "function stat(n)\n",
    "    #generate data\n",
    "    (y,x,z) = gendata(n)\n",
    "\n",
    "    #compute weighting matrix\n",
    "    (betaGMM, sdGMM) = estGMM(y,x,z)\n",
    "    u = y - x * betaGMM\n",
    "    zu = z .* u\n",
    "    Omega = (zu' * zu)/n\n",
    "\n",
    "    #compute J\n",
    "    z1 = z[:,1]\n",
    "    z2 = z[:,2]\n",
    "    z1u = z1' * u\n",
    "    z2u = z2' * u\n",
    "    c = [z1u ; z2u]\n",
    "    J = 1/n * c' * inv(Omega) * c\n",
    "\n",
    "    return (Omega = Omega, J = J)\n",
    "end"
   ]
  },
  {
   "cell_type": "code",
   "execution_count": 99,
   "metadata": {},
   "outputs": [
    {
     "name": "stdout",
     "output_type": "stream",
     "text": [
      "The Efficient Weighting Matirx is [0.3790574832482154 0.3149306592480312; 0.3149306592480312 0.33063494129476695]\n",
      "We should not reject the H0\n"
     ]
    }
   ],
   "source": [
    "(Omega, J) = stat(100)\n",
    "reject = J > quantile(Chisq(1), .95) ? 1 : 0\n",
    "println(\"The Efficient Weighting Matirx is \", Omega)\n",
    "println(\"We should not reject the H0\")"
   ]
  },
  {
   "cell_type": "markdown",
   "metadata": {},
   "source": [
    "# Part (d)"
   ]
  },
  {
   "cell_type": "code",
   "execution_count": 10,
   "metadata": {},
   "outputs": [
    {
     "data": {
      "text/plain": [
       "RejectionRate (generic function with 1 method)"
      ]
     },
     "metadata": {},
     "output_type": "display_data"
    }
   ],
   "source": [
    "function RejectionRate(n,R)\n",
    "    result = zeros(R)\n",
    "    for i = 1:R\n",
    "        (Omega, J) = stat(n)\n",
    "        result[i] = J > quantile(Chisq(1), .95) ? 1 : 0\n",
    "    end\n",
    "    rate = mean(result)\n",
    "    return (rate = rate)\n",
    "end"
   ]
  },
  {
   "cell_type": "code",
   "execution_count": 12,
   "metadata": {},
   "outputs": [
    {
     "data": {
      "text/plain": [
       "0.0513"
      ]
     },
     "metadata": {},
     "output_type": "display_data"
    }
   ],
   "source": [
    "rate = RejectionRate(100,10000)"
   ]
  },
  {
   "cell_type": "markdown",
   "metadata": {},
   "source": [
    "It is very close to 5\\%"
   ]
  },
  {
   "cell_type": "markdown",
   "metadata": {},
   "source": [
    "# Part (e) - (i)"
   ]
  },
  {
   "cell_type": "markdown",
   "metadata": {},
   "source": [
    "$E[Z_i \\epsilon_i] = E[Z_i U_i] + E[Z_i Z_i'] \\delta = I_d \\delta$\n",
    "\n",
    "$E[Z_i X_i] = E[Z_i Z_i']\\pi + E[Z_i V_i] = I_d \\pi$\n",
    "\n"
   ]
  },
  {
   "cell_type": "code",
   "execution_count": 101,
   "metadata": {},
   "outputs": [
    {
     "data": {
      "text/plain": [
       "gendata2 (generic function with 1 method)"
      ]
     },
     "metadata": {},
     "output_type": "display_data"
    }
   ],
   "source": [
    "function gendata2(n, δ)\n",
    "    mvnormal_z = MvNormal([0;0], [1 0 ; 0 1])\n",
    "    Z = rand(mvnormal_z,n)'\n",
    "\n",
    "    #generate ϵ, v and u\n",
    "    mvnormal = MvNormal([0;0], [1 ρ ; ρ 1])\n",
    "    err = rand(mvnormal, n)'\n",
    "\n",
    "    e = err[:,1]\n",
    "    V = err[:,2]\n",
    "\n",
    "    U = (Z1 .+ Z2) .* e\n",
    "\n",
    "    ϵ = U + Z * δ\n",
    "\n",
    "    #generate X and y\n",
    "    X = Z * pi + V\n",
    "    Y = X * β + ϵ\n",
    "\n",
    "    return (Y = Y, X = X, Z = Z)\n",
    "end\n",
    "    "
   ]
  },
  {
   "cell_type": "code",
   "execution_count": 18,
   "metadata": {},
   "outputs": [
    {
     "data": {
      "text/plain": [
       "genstat2 (generic function with 1 method)"
      ]
     },
     "metadata": {},
     "output_type": "display_data"
    }
   ],
   "source": [
    "function genstat2(n,δ)\n",
    "    #generate data\n",
    "    (y,x,z) = gendata2(n,δ)\n",
    "\n",
    "    #compute weighting matrix\n",
    "    (betaGMM, sdGMM) = estGMM(y,x,z)\n",
    "    u = y - x .* betaGMM\n",
    "    zu = z .* u\n",
    "    Omega = (zu' * zu)/n\n",
    "\n",
    "    #compute J\n",
    "    z1 = z[:,1]\n",
    "    z2 = z[:,2]\n",
    "    z1u = z1' * u\n",
    "    z2u = z2' * u\n",
    "    c = [z1u ; z2u]\n",
    "    J = 1/n * c' * inv(Omega) * c\n",
    "\n",
    "\n",
    "    return (Omega = Omega, J = J)\n",
    "end"
   ]
  },
  {
   "cell_type": "code",
   "execution_count": 19,
   "metadata": {},
   "outputs": [
    {
     "data": {
      "text/plain": [
       "genRejectionRate2 (generic function with 1 method)"
      ]
     },
     "metadata": {},
     "output_type": "display_data"
    }
   ],
   "source": [
    "function genRejectionRate2(n,R,δ)\n",
    "    result2 = zeros(R)\n",
    "    for i = 1:R\n",
    "        (Omega, J) = genstat2(n,δ)\n",
    "        result2[i] = J > quantile(Chisq(1), .95) ? 1 : 0\n",
    "    end\n",
    "    rate = mean(result2)\n",
    "    return (rate = rate)\n",
    "end"
   ]
  },
  {
   "cell_type": "code",
   "execution_count": 102,
   "metadata": {},
   "outputs": [
    {
     "name": "stdout",
     "output_type": "stream",
     "text": [
      "[0.2, -0.2]Rejection Rate is 0.7009\n"
     ]
    },
    {
     "name": "stdout",
     "output_type": "stream",
     "text": [
      "[1.0, -1.0]Rejection Rate is 1.0\n"
     ]
    },
    {
     "name": "stdout",
     "output_type": "stream",
     "text": [
      "[20.0, 20.0]Rejection Rate is 0.0515\n"
     ]
    }
   ],
   "source": [
    "Δ = [0.2 1 20; -0.2 -1 20]\n",
    "for i in 1:3\n",
    "    δ = Δ[:,i]\n",
    "    rate = genRejectionRate2(100, 10000, δ)\n",
    "    println( δ,  \"Rejection Rate is \", rate)\n",
    "end\n"
   ]
  },
  {
   "cell_type": "markdown",
   "metadata": {},
   "source": [
    "The rejection probability for $\\delta = [0.2, -0.2]$ and $\\delta = [1, -1]$ are larger than previous case, however, when $\\delta = [20,20]$, we have similar rejection probability. It is possible that for $\\delta = k * [1,1]$, where $k$ is a positive constant, the asymptotic distribution of the J statistics is the same as the previous one."
   ]
  }
 ],
 "metadata": {
  "kernelspec": {
   "display_name": "Julia 1.6.2",
   "language": "julia",
   "name": "julia-1.6"
  },
  "language_info": {
   "file_extension": ".jl",
   "mimetype": "application/julia",
   "name": "julia",
   "version": "1.6.2"
  },
  "orig_nbformat": 4
 },
 "nbformat": 4,
 "nbformat_minor": 2
}
