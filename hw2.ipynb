{
 "cells": [
  {
   "cell_type": "code",
   "execution_count": 4,
   "metadata": {},
   "outputs": [],
   "source": [
    "using Pkg\n",
    "# Pkg.activate(joinpath(pwd(),\"..\"))\n",
    "# Pkg.add(\"Optim\")\n",
    "# Pkg.add(\"ForwardDiff\")\n",
    "# Pkg.add(\"PrettyTables\")\n",
    "# Pkg.add(\"Parameters\")\n",
    "# Pkg.add(\"Distributions\")"
   ]
  },
  {
   "cell_type": "code",
   "execution_count": 5,
   "metadata": {},
   "outputs": [],
   "source": [
    "using Parameters, Optim, ForwardDiff, LinearAlgebra, Distributions, Random, PrettyTables"
   ]
  },
  {
   "cell_type": "code",
   "execution_count": 6,
   "metadata": {},
   "outputs": [
    {
     "data": {
      "text/plain": [
       "MersenneTwister(123)"
      ]
     },
     "execution_count": 6,
     "metadata": {},
     "output_type": "execute_result"
    }
   ],
   "source": [
    "Random.seed!(123)"
   ]
  },
  {
   "cell_type": "code",
   "execution_count": 7,
   "metadata": {},
   "outputs": [
    {
     "name": "stderr",
     "output_type": "stream",
     "text": [
      "WARNING: redefinition of constant pi. This may fail, cause incorrect answers, or produce other errors.\n",
      "WARNING: redefinition of constant gamma. This may fail, cause incorrect answers, or produce other errors.\n"
     ]
    },
    {
     "data": {
      "text/plain": [
       "10000"
      ]
     },
     "execution_count": 7,
     "metadata": {},
     "output_type": "execute_result"
    }
   ],
   "source": [
    "const beta  = 1\n",
    "const pi = [1,1]\n",
    "const gamma = [1,1]\n",
    "const rho = 0.95\n",
    "const n = 500\n",
    "const R = 10000"
   ]
  },
  {
   "cell_type": "markdown",
   "metadata": {},
   "source": [
    "Define the sample generating function."
   ]
  },
  {
   "cell_type": "code",
   "execution_count": 8,
   "metadata": {},
   "outputs": [
    {
     "data": {
      "text/plain": [
       "generate_data_Q1 (generic function with 1 method)"
      ]
     },
     "execution_count": 8,
     "metadata": {},
     "output_type": "execute_result"
    }
   ],
   "source": [
    "function generate_data_Q1(n)\n",
    "    #Define the Multivariate Normal Distribution instance\n",
    "    mvnormal = MvNormal([0;0], [1 rho ; rho 1])\n",
    "    mvnormal_z = MvNormal([0;0], [1 0;0 1])\n",
    "\n",
    "    #Matrix Z\n",
    "    Z = rand(mvnormal_z,n)'\n",
    "    error = rand(mvnormal,n)'\n",
    "\n",
    "    epsilon = error[:,1]\n",
    "    V = error[:,2]\n",
    "    \n",
    "    U = exp.(Z*gamma).* epsilon\n",
    "\n",
    "    X = Z * pi + V\n",
    "\n",
    "    Y = X * beta + U\n",
    "\n",
    "    return ( Y = Y, X = X , Z = Z)\n",
    "end"
   ]
  },
  {
   "cell_type": "markdown",
   "metadata": {},
   "source": [
    "Define the 2SLS estimator"
   ]
  },
  {
   "cell_type": "code",
   "execution_count": 38,
   "metadata": {},
   "outputs": [
    {
     "data": {
      "text/plain": [
       "est2SLS (generic function with 1 method)"
      ]
     },
     "execution_count": 38,
     "metadata": {},
     "output_type": "execute_result"
    }
   ],
   "source": [
    "function est2SLS(y, x, z)\n",
    "    n=size(y,1)\n",
    "    \n",
    "    #Coef\n",
    "    Pz = z*inv(z'*z)*z'\n",
    "    beta2SLS = inv(x'*Pz*x) * (x'*Pz*y)\n",
    "\n",
    "    # Asymptotic variance and standard error   \n",
    "    u = y .- x*beta2SLS;\n",
    "    sd2SLS = abs(inv(x'*z*inv(z'*z)*z'*x)*x'*z*inv(z'*z)*z'u)/sqrt(n)\n",
    "      \n",
    "    \n",
    "\n",
    "    return (beta2SLS=beta2SLS, sd2SLS = sd2SLS)\n",
    "end"
   ]
  },
  {
   "cell_type": "markdown",
   "metadata": {},
   "source": [
    "Define GMM estimator"
   ]
  },
  {
   "cell_type": "code",
   "execution_count": 28,
   "metadata": {},
   "outputs": [
    {
     "data": {
      "text/plain": [
       "estGMM (generic function with 1 method)"
      ]
     },
     "execution_count": 28,
     "metadata": {},
     "output_type": "execute_result"
    }
   ],
   "source": [
    "function estGMM(y,x,z)\n",
    "    n=size(y,1)\n",
    "\n",
    "    #First Step\n",
    "    An = [1 0;0 1]\n",
    "    betaAn = (x'*z*An*z'*x)^(-1)*x'*z*An*z'*y\n",
    "\n",
    "    #Second Step\n",
    "    res = y - x*betaAn\n",
    "    Omega = res'*z*z'*res.*(1/n)\n",
    "    betaGMM = (x'*z*inv(Omega)*z'*x)^(-1)*x'*z*inv(Omega)*z'*y\n",
    "\n",
    "    Q = z'x/n;\n",
    "    avar = inv((Q'inv(Omega))*Q)\n",
    "    sdGMM = sqrt(avar)/sqrt(n)\n",
    "\n",
    "    return (betaGMM =betaGMM, sdGMM = sdGMM)\n",
    "end"
   ]
  },
  {
   "cell_type": "code",
   "execution_count": 24,
   "metadata": {},
   "outputs": [
    {
     "data": {
      "text/plain": [
       "data (generic function with 1 method)"
      ]
     },
     "execution_count": 24,
     "metadata": {},
     "output_type": "execute_result"
    }
   ],
   "source": [
    "function data(r)\n",
    "    result = zeros(r,10)\n",
    "    for i in 1:r\n",
    "        (Y,X,Z) = generate_data_Q1(n)\n",
    "        (beta2SLS, sd2SLS) = est2SLS(Y,X,Z)\n",
    "        (betaGMM, sdGMM) = estGMM(Y,X,Z)\n",
    "        result[i,1] = abs(beta2SLS - beta)\n",
    "        result[i,2] = abs(betaGMM - beta)\n",
    "        result[i,3] = beta2SLS - sd2SLS\n",
    "        result[i,4] = beta2SLS + sd2SLS\n",
    "        result[i,5] = betaGMM -  sdGMM\n",
    "        result[i,6] = betaGMM + sdGMM\n",
    "        result[i,7] = sd2SLS\n",
    "        result[i,8] = sdGMM\n",
    "        if result[i,1] < 1.96*result[i,7] \n",
    "            result[i,9] = 1\n",
    "        else\n",
    "            result[i,9] = 0\n",
    "        end\n",
    "    \n",
    "        if result[i,2] < 1.96*result[i,8]\n",
    "            result[1,10] = 1\n",
    "        else\n",
    "            result[i,10] = 0\n",
    "        end\n",
    "    end\n",
    "\n",
    "    return (result = result)\n",
    "end"
   ]
  },
  {
   "cell_type": "code",
   "execution_count": 39,
   "metadata": {},
   "outputs": [
    {
     "name": "stdout",
     "output_type": "stream",
     "text": [
      "┌──────────────────────┬─────────┬──────────┐\n",
      "│\u001b[1m                      \u001b[0m│\u001b[1m    2SLS \u001b[0m│\u001b[1m      GMM \u001b[0m│\n",
      "├──────────────────────┼─────────┼──────────┤\n",
      "│         Average Bias │ 0.45754 │ 0.457627 │\n",
      "│         Average S.D. │     0.0 │ 0.169037 │\n",
      "│ Coverage Probability │     0.0 │   0.0001 │\n",
      "└──────────────────────┴─────────┴──────────┘\n"
     ]
    }
   ],
   "source": [
    "result = data(R)\n",
    "table= [\"Average Bias\" round(mean(result[:,1]), digits = 7)  round(mean(result[:,2]), digits = 7); \"Average S.D.\" round(mean(result[:,7]), digits = 7) round(mean(result[:,8]), digits = 7); \"Coverage Probability\" round(mean(result[:,9]), digits = 7)    round(mean(result[:,10]), digits = 7)]\n",
    "\n",
    "header = [\" \", \"2SLS\", \"GMM\"]\n",
    "pretty_table(table; header = header)"
   ]
  },
  {
   "cell_type": "code",
   "execution_count": null,
   "metadata": {},
   "outputs": [],
   "source": []
  }
 ],
 "metadata": {
  "kernelspec": {
   "display_name": "Julia 1.6.2",
   "language": "julia",
   "name": "julia-1.6"
  },
  "language_info": {
   "file_extension": ".jl",
   "mimetype": "application/julia",
   "name": "julia",
   "version": "1.6.2"
  },
  "orig_nbformat": 4
 },
 "nbformat": 4,
 "nbformat_minor": 2
}
