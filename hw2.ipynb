{
 "cells": [
  {
   "cell_type": "code",
   "execution_count": 1,
   "metadata": {},
   "outputs": [],
   "source": [
    "using Pkg\n",
    "# Pkg.activate(joinpath(pwd(),\"..\"))\n",
    "# Pkg.add(\"Optim\")\n",
    "# Pkg.add(\"ForwardDiff\")\n",
    "# Pkg.add(\"PrettyTables\")\n",
    "# Pkg.add(\"Parameters\")\n",
    "# Pkg.add(\"Distributions\")"
   ]
  },
  {
   "cell_type": "code",
   "execution_count": 2,
   "metadata": {},
   "outputs": [],
   "source": [
    "using Parameters, Optim, ForwardDiff, LinearAlgebra, Distributions, Random, PrettyTables"
   ]
  },
  {
   "cell_type": "code",
   "execution_count": 3,
   "metadata": {},
   "outputs": [
    {
     "data": {
      "text/plain": [
       "MersenneTwister(123)"
      ]
     },
     "execution_count": 3,
     "metadata": {},
     "output_type": "execute_result"
    }
   ],
   "source": [
    "Random.seed!(123)"
   ]
  },
  {
   "cell_type": "code",
   "execution_count": 4,
   "metadata": {},
   "outputs": [
    {
     "data": {
      "text/plain": [
       "10000"
      ]
     },
     "execution_count": 4,
     "metadata": {},
     "output_type": "execute_result"
    }
   ],
   "source": [
    "const beta  = 1\n",
    "const pi = [1,1]\n",
    "const gamma = [1,1]\n",
    "const rho = 0.95\n",
    "const n = 500\n",
    "const R = 10000"
   ]
  },
  {
   "cell_type": "markdown",
   "metadata": {},
   "source": [
    "(a) Define the sample generating function."
   ]
  },
  {
   "cell_type": "code",
   "execution_count": 5,
   "metadata": {},
   "outputs": [
    {
     "data": {
      "text/plain": [
       "generate_data_Q1 (generic function with 1 method)"
      ]
     },
     "execution_count": 5,
     "metadata": {},
     "output_type": "execute_result"
    }
   ],
   "source": [
    "function generate_data_Q1(n)\n",
    "    #Define the Multivariate Normal Distribution instance\n",
    "    mvnormal = MvNormal([0;0], [1 rho ; rho 1])\n",
    "    mvnormal_z = MvNormal([0;0], [1 0;0 1])\n",
    "\n",
    "    #Matrix Z\n",
    "    Z = rand(mvnormal_z,n)'\n",
    "    error = rand(mvnormal,n)'\n",
    "\n",
    "    epsilon = error[:,1]\n",
    "    V = error[:,2]\n",
    "    \n",
    "    U = exp.(Z*gamma).* epsilon\n",
    "\n",
    "    X = Z * pi + V\n",
    "\n",
    "    Y = X * beta + U\n",
    "\n",
    "    return ( Y = Y, X = X , Z = Z)\n",
    "end"
   ]
  },
  {
   "cell_type": "markdown",
   "metadata": {},
   "source": [
    "(b) Define the 2SLS estimator"
   ]
  },
  {
   "cell_type": "code",
   "execution_count": 6,
   "metadata": {},
   "outputs": [
    {
     "data": {
      "text/plain": [
       "est2SLS (generic function with 1 method)"
      ]
     },
     "execution_count": 6,
     "metadata": {},
     "output_type": "execute_result"
    }
   ],
   "source": [
    "function est2SLS(y, x, z)\n",
    "\n",
    "    # Set some parameter\n",
    "    n=size(y,1)\n",
    "    Q = (z'* x)/n\n",
    "    W = inv(z' * z/n)\n",
    "\n",
    "    #Beta\n",
    "    \n",
    "    beta2SLS = (Q' * W * Q)^(-1) * Q' * W * (z' * y)/n\n",
    "\n",
    "    # Asymptotic variance and standard error  \n",
    "    u = y - x * beta2SLS\n",
    "    zu = z .* u\n",
    "    Omega = (zu' * zu)/n\n",
    "\n",
    "    var = (Q' * W * Q)^(-1) * Q' * W * Omega * W * Q * (Q' * W * Q)^(-1)\n",
    "    \n",
    "    sd2SLS = sqrt(var/n)\n",
    "\n",
    "    return (beta2SLS=beta2SLS, sd2SLS = sd2SLS)\n",
    "end"
   ]
  },
  {
   "cell_type": "markdown",
   "metadata": {},
   "source": [
    "(c) Define GMM estimator"
   ]
  },
  {
   "cell_type": "code",
   "execution_count": 7,
   "metadata": {},
   "outputs": [
    {
     "data": {
      "text/plain": [
       "estGMM (generic function with 1 method)"
      ]
     },
     "execution_count": 7,
     "metadata": {},
     "output_type": "execute_result"
    }
   ],
   "source": [
    "function estGMM(y,x,z)\n",
    "    n=size(y,1)\n",
    "    Q = (z'* x)/n\n",
    "    W = inv(z' * z/n)\n",
    "\n",
    "    #First Step\n",
    "    An = [1 0;0 1]\n",
    "    betaAn = (Q' * An * Q)^(-1) * Q' * An * (z'* y)/n\n",
    "\n",
    "    #Second Step\n",
    "    u = y - x * betaAn\n",
    "    zu = z .* u\n",
    "    Omega = (zu' * zu)/n\n",
    "    betaGMM = (Q' * inv(Omega) * Q)^(-1) * Q' * inv(Omega) * (z' * y)/n\n",
    "\n",
    "    avar = (Q' * inv(Omega) * Q)^(-1)  \n",
    "    sdGMM = sqrt(avar)/sqrt(n)\n",
    "\n",
    "    return (betaGMM =betaGMM, sdGMM = sdGMM)\n",
    "end"
   ]
  },
  {
   "cell_type": "markdown",
   "metadata": {},
   "source": [
    "(d) Compute statistics and store all the result"
   ]
  },
  {
   "cell_type": "code",
   "execution_count": 8,
   "metadata": {},
   "outputs": [
    {
     "data": {
      "text/plain": [
       "data (generic function with 1 method)"
      ]
     },
     "execution_count": 8,
     "metadata": {},
     "output_type": "execute_result"
    }
   ],
   "source": [
    "function data(r)\n",
    "    result = zeros(r,10)\n",
    "    for i in 1:r\n",
    "        (Y,X,Z) = generate_data_Q1(n)\n",
    "        (beta2SLS, sd2SLS) = est2SLS(Y,X,Z)\n",
    "        (betaGMM, sdGMM) = estGMM(Y,X,Z)\n",
    "        result[i,1] = abs(beta2SLS - beta)\n",
    "        result[i,2] = abs(betaGMM - beta)\n",
    "        result[i,3] = beta2SLS - sd2SLS\n",
    "        result[i,4] = beta2SLS + sd2SLS\n",
    "        result[i,5] = betaGMM - sdGMM\n",
    "        result[i,6] = betaGMM + sdGMM\n",
    "        result[i,7] = sd2SLS\n",
    "        result[i,8] = sdGMM\n",
    "        result[i,9] = abs(beta2SLS - beta) < 1.96 * sd2SLS ? 1 : 0\n",
    "        result[i,10] = abs(betaGMM - beta) < 1.96 * sdGMM ? 1 : 0\n",
    "    end\n",
    "    \n",
    "\n",
    "    return (result = result)\n",
    "end"
   ]
  },
  {
   "cell_type": "markdown",
   "metadata": {},
   "source": [
    "(e) Use the result to generate the table"
   ]
  },
  {
   "cell_type": "code",
   "execution_count": 9,
   "metadata": {},
   "outputs": [
    {
     "name": "stdout",
     "output_type": "stream",
     "text": [
      "┌──────────────────────┬──────────┬──────────┐\n",
      "│\u001b[1m                      \u001b[0m│\u001b[1m     2SLS \u001b[0m│\u001b[1m      GMM \u001b[0m│\n",
      "├──────────────────────┼──────────┼──────────┤\n",
      "│         Average Bias │ 0.456862 │ 0.373941 │\n",
      "│         Average S.D. │ 0.523279 │ 0.447052 │\n",
      "│ Coverage Probability │    0.955 │   0.9479 │\n",
      "└──────────────────────┴──────────┴──────────┘\n"
     ]
    }
   ],
   "source": [
    "result = data(R)\n",
    "table= [\"Average Bias\" round(mean(result[:,1]), digits = 7)  round(mean(result[:,2]), digits = 7); \"Average S.D.\" round(mean(result[:,7]), digits = 7) round(mean(result[:,8]), digits = 7); \"Coverage Probability\" round(mean(result[:,9]), digits = 7)    round(mean(result[:,10]), digits = 7)]\n",
    "\n",
    "header = [\" \", \"2SLS\", \"GMM\"]\n",
    "pretty_table(table; header = header)\n"
   ]
  },
  {
   "cell_type": "markdown",
   "metadata": {},
   "source": [
    "Compared with 2SlS, GMM estimator has less bias and less standard error, which means it's more accurate and more stable. GMM is prefered"
   ]
  },
  {
   "cell_type": "code",
   "execution_count": 15,
   "metadata": {},
   "outputs": [
    {
     "name": "stdout",
     "output_type": "stream",
     "text": [
      "┌──────────────────────┬──────────┬──────────┐\n",
      "│\u001b[1m                      \u001b[0m│\u001b[1m     2SLS \u001b[0m│\u001b[1m      GMM \u001b[0m│\n",
      "├──────────────────────┼──────────┼──────────┤\n",
      "│         Average Bias │ 0.413595 │ 0.343832 │\n",
      "│         Average S.D. │ 0.495333 │ 0.437977 │\n",
      "│ Coverage Probability │     0.97 │     0.96 │\n",
      "└──────────────────────┴──────────┴──────────┘\n"
     ]
    }
   ],
   "source": [
    "result = data(100)\n",
    "table= [\"Average Bias\" round(mean(result[:,1]), digits = 7)  round(mean(result[:,2]), digits = 7); \"Average S.D.\" round(mean(result[:,7]), digits = 7) round(mean(result[:,8]), digits = 7); \"Coverage Probability\" round(mean(result[:,9]), digits = 7)    round(mean(result[:,10]), digits = 7)]\n",
    "\n",
    "header = [\" \", \"2SLS\", \"GMM\"]\n",
    "pretty_table(table; header = header)"
   ]
  },
  {
   "cell_type": "markdown",
   "metadata": {},
   "source": [
    "The results are relatively the same, but can sometimes be far away from what we estimated. For example, we expect the coverage probability to be 0.95 according to our setting, but when n = 100, some time we get the number larger or smaller. When n = 500, the coverage probabilities are stick to 0.95."
   ]
  },
  {
   "cell_type": "code",
   "execution_count": null,
   "metadata": {},
   "outputs": [],
   "source": []
  }
 ],
 "metadata": {
  "kernelspec": {
   "display_name": "Julia 1.6.2",
   "language": "julia",
   "name": "julia-1.6"
  },
  "language_info": {
   "file_extension": ".jl",
   "mimetype": "application/julia",
   "name": "julia",
   "version": "1.6.2"
  }
 },
 "nbformat": 4,
 "nbformat_minor": 2
}
