{
 "cells": [
  {
   "cell_type": "code",
   "execution_count": 1,
   "metadata": {},
   "outputs": [
    {
     "name": "stderr",
     "output_type": "stream",
     "text": [
      "\u001b[32m\u001b[1m  Activating\u001b[22m\u001b[39m project at `~/Desktop/ECON 627`\n"
     ]
    },
    {
     "data": {
      "text/plain": [
       "TaskLocalRNG()"
      ]
     },
     "metadata": {},
     "output_type": "display_data"
    }
   ],
   "source": [
    "using Pkg\n",
    "Pkg.activate(joinpath(pwd(),\"..\"))\n",
    "using Random, Distributions, PrettyTables, Printf, Plots, Optim, ForwardDiff\n",
    "Random.seed!(1234)"
   ]
  },
  {
   "cell_type": "markdown",
   "metadata": {},
   "source": [
    "# (a): Generate Data"
   ]
  },
  {
   "cell_type": "code",
   "execution_count": 2,
   "metadata": {},
   "outputs": [
    {
     "data": {
      "text/plain": [
       "5"
      ]
     },
     "metadata": {},
     "output_type": "display_data"
    }
   ],
   "source": [
    "const θ_0 = 5"
   ]
  },
  {
   "cell_type": "code",
   "execution_count": 3,
   "metadata": {},
   "outputs": [
    {
     "data": {
      "text/plain": [
       "Λ (generic function with 1 method)"
      ]
     },
     "metadata": {},
     "output_type": "display_data"
    }
   ],
   "source": [
    "function Λ(X, θ)\n",
    "    Λ = 2 * (1 .+ exp.(5 .- θ .* X)).^(-1)\n",
    "    return Λ = Λ\n",
    "end\n"
   ]
  },
  {
   "cell_type": "code",
   "execution_count": 4,
   "metadata": {},
   "outputs": [
    {
     "data": {
      "text/plain": [
       "data (generic function with 1 method)"
      ]
     },
     "metadata": {},
     "output_type": "display_data"
    }
   ],
   "source": [
    "function data(n)\n",
    "    Z1 = rand(Normal(2,1),n)\n",
    "    Z2 = rand(Normal(-2,1),n)\n",
    "    V = rand(Normal(0,1),n)\n",
    "    ϵ = rand(Normal(0,1),n)\n",
    "    \n",
    "    U = 0.9 * V + ϵ\n",
    "    X = exp.(Z1 + Z2) + V\n",
    "\n",
    "    Y = Λ(X, θ_0) + U\n",
    "\n",
    "    return (Y = Y, X = X, Z1 = Z1, Z2 = Z2)\n",
    "\n",
    "    \n",
    "end"
   ]
  },
  {
   "cell_type": "markdown",
   "metadata": {},
   "source": [
    "# (b): Criterion function"
   ]
  },
  {
   "cell_type": "code",
   "execution_count": 5,
   "metadata": {},
   "outputs": [
    {
     "data": {
      "text/plain": [
       "Qn (generic function with 1 method)"
      ]
     },
     "metadata": {},
     "output_type": "display_data"
    }
   ],
   "source": [
    "function Qn(Y, X, Z1, Z2, θ, A)\n",
    "    n = length(Y)\n",
    "    Z = [Z1 Z2]\n",
    "    U = Y - Λ(X,θ)\n",
    "    Qn =  1/2 * (Z' * U/n)' * A * (Z' * U/n)\n",
    "    return Qn = Qn\n",
    "end"
   ]
  },
  {
   "cell_type": "markdown",
   "metadata": {},
   "source": [
    "# (c) "
   ]
  },
  {
   "cell_type": "code",
   "execution_count": 6,
   "metadata": {},
   "outputs": [
    {
     "data": {
      "image/png": "[encoded data removed]",
      "image/svg+xml": "<?xml version=\"1.0\" encoding=\"utf-8\"?>\n<svg xmlns=\"http://www.w3.org/2000/svg\" xmlns:xlink=\"http://www.w3.org/1999/xlink\" width=\"600\" height=\"400\" viewBox=\"0 0 2400 1600\">\n<defs>\n  <clipPath id=\"clip190\">\n    <rect x=\"0\" y=\"0\" width=\"2400\" height=\"1600\"/>\n  </clipPath>\n</defs>\n<path clip-path=\"url(#clip190)\" d=\"\nM0 1600 L2400 1600 L2400 0 L0 0  Z\n  \" fill=\"#ffffff\" fill-rule=\"evenodd\" fill-opacity=\"1\"/>\n<defs>\n  <clipPath id=\"clip191\">\n    <rect x=\"480\" y=\"0\" width=\"1681\" height=\"1600\"/>\n  </clipPath>\n</defs>\n<path clip-path=\"url(#clip190)\" d=\"\nM112.177 1486.45 L2352.76 1486.45 L2352.76 47.2441 L112.177 47.2441  Z\n  \" fill=\"#ffffff\" fill-rule=\"evenodd\" fill-opacity=\"1\"/>\n<defs>\n  <clipPath id=\"clip192\">\n    <rect x=\"112\" y=\"47\" width=\"2242\" height=\"1440\"/>\n  </clipPath>\n</defs>\n<polyline clip-path=\"url(#clip192)\" style=\"stroke:#000000; stroke-linecap:butt; stroke-linejoin:round; stroke-width:2; stroke-opacity:0.1; fill:none\" points=\"\n  170.292,1486.45 170.292,47.2441 \n  \"/>\n<polyline clip-path=\"url(#clip192)\" style=\"stroke:#000000; stroke-linecap:butt; stroke-linejoin:round; stroke-width:2; stroke-opacity:0.1; fill:none\" points=\"\n  700.055,1486.45 700.055,47.2441 \n  \"/>\n<polyline clip-path=\"url(#clip192)\" style=\"stroke:#000000; stroke-linecap:butt; stroke-linejoin:round; stroke-width:2; stroke-opacity:0.1; fill:none\" points=\"\n  1229.82,1486.45 1229.82,47.2441 \n  \"/>\n<polyline clip-path=\"url(#clip192)\" style=\"stroke:#000000; stroke-linecap:butt; stroke-linejoin:round; stroke-width:2; stroke-opacity:0.1; fill:none\" points=\"\n  1759.58,1486.45 1759.58,47.2441 \n  \"/>\n<polyline clip-path=\"url(#clip192)\" style=\"stroke:#000000; stroke-linecap:butt; stroke-linejoin:round; stroke-width:2; stroke-opacity:0.1; fill:none\" points=\"\n  2289.34,1486.45 2289.34,47.2441 \n  \"/>\n<polyline clip-path=\"url(#clip190)\" style=\"stroke:#000000; stroke-linecap:butt; stroke-linejoin:round; stroke-width:4; stroke-opacity:1; fill:none\" points=\"\n  112.177,1486.45 2352.76,1486.45 \n  \"/>\n<polyline clip-path=\"url(#clip190)\" style=\"stroke:#000000; stroke-linecap:butt; stroke-linejoin:round; stroke-width:4; stroke-opacity:1; fill:none\" points=\"\n  170.292,1486.45 170.292,1467.55 \n  \"/>\n<polyline clip-path=\"url(#clip190)\" style=\"stroke:#000000; stroke-linecap:butt; stroke-linejoin:round; stroke-width:4; stroke-opacity:1; fill:none\" points=\"\n  700.055,1486.45 700.055,1467.55 \n  \"/>\n<polyline clip-path=\"url(#clip190)\" style=\"stroke:#000000; stroke-linecap:butt; stroke-linejoin:round; stroke-width:4; stroke-opacity:1; fill:none\" points=\"\n  1229.82,1486.45 1229.82,1467.55 \n  \"/>\n<polyline clip-path=\"url(#clip190)\" style=\"stroke:#000000; stroke-linecap:butt; stroke-linejoin:round; stroke-width:4; stroke-opacity:1; fill:none\" points=\"\n  1759.58,1486.45 1759.58,1467.55 \n  \"/>\n<polyline clip-path=\"url(#clip190)\" style=\"stroke:#000000; stroke-linecap:butt; stroke-linejoin:round; stroke-width:4; stroke-opacity:1; fill:none\" points=\"\n  2289.34,1486.45 2289.34,1467.55 \n  \"/>\n<path clip-path=\"url(#clip190)\" d=\"M124.355 1532.02 L154.031 1532.02 L154.031 1535.95 L124.355 1535.95 L124.355 1532.02 Z\" fill=\"#000000\" fill-rule=\"evenodd\" fill-opacity=\"1\" /><path clip-path=\"url(#clip190)\" d=\"M168.151 1544.91 L184.47 1544.91 L184.47 1548.85 L162.526 1548.85 L162.526 1544.91 Q165.188 1542.16 169.771 1537.53 Q174.378 1532.88 175.558 1531.53 Q177.804 1529.01 178.683 1527.27 Q179.586 1525.51 179.586 1523.82 Q179.586 1521.07 177.642 1519.33 Q175.72 1517.6 172.619 1517.6 Q170.419 1517.6 167.966 1518.36 Q165.535 1519.13 162.757 1520.68 L162.757 1515.95 Q165.582 1514.82 168.035 1514.24 Q170.489 1513.66 172.526 1513.66 Q177.896 1513.66 181.091 1516.35 Q184.285 1519.03 184.285 1523.52 Q184.285 1525.65 183.475 1527.57 Q182.688 1529.47 180.581 1532.07 Q180.003 1532.74 176.901 1535.95 Q173.799 1539.15 168.151 1544.91 Z\" fill=\"#000000\" fill-rule=\"evenodd\" fill-opacity=\"1\" /><path clip-path=\"url(#clip190)\" d=\"M204.285 1517.37 Q200.674 1517.37 198.845 1520.93 Q197.04 1524.47 197.04 1531.6 Q197.04 1538.71 198.845 1542.27 Q200.674 1545.82 204.285 1545.82 Q207.919 1545.82 209.725 1542.27 Q211.554 1538.71 211.554 1531.6 Q211.554 1524.47 209.725 1520.93 Q207.919 1517.37 204.285 1517.37 M204.285 1513.66 Q210.095 1513.66 213.151 1518.27 Q216.229 1522.85 216.229 1531.6 Q216.229 1540.33 213.151 1544.94 Q210.095 1549.52 204.285 1549.52 Q198.475 1549.52 195.396 1544.94 Q192.341 1540.33 192.341 1531.6 Q192.341 1522.85 195.396 1518.27 Q198.475 1513.66 204.285 1513.66 Z\" fill=\"#000000\" fill-rule=\"evenodd\" fill-opacity=\"1\" /><path clip-path=\"url(#clip190)\" d=\"M654.118 1532.02 L683.793 1532.02 L683.793 1535.95 L654.118 1535.95 L654.118 1532.02 Z\" fill=\"#000000\" fill-rule=\"evenodd\" fill-opacity=\"1\" /><path clip-path=\"url(#clip190)\" d=\"M694.696 1544.91 L702.335 1544.91 L702.335 1518.55 L694.025 1520.21 L694.025 1515.95 L702.289 1514.29 L706.965 1514.29 L706.965 1544.91 L714.603 1544.91 L714.603 1548.85 L694.696 1548.85 L694.696 1544.91 Z\" fill=\"#000000\" fill-rule=\"evenodd\" fill-opacity=\"1\" /><path clip-path=\"url(#clip190)\" d=\"M734.048 1517.37 Q730.437 1517.37 728.608 1520.93 Q726.802 1524.47 726.802 1531.6 Q726.802 1538.71 728.608 1542.27 Q730.437 1545.82 734.048 1545.82 Q737.682 1545.82 739.488 1542.27 Q741.316 1538.71 741.316 1531.6 Q741.316 1524.47 739.488 1520.93 Q737.682 1517.37 734.048 1517.37 M734.048 1513.66 Q739.858 1513.66 742.914 1518.27 Q745.992 1522.85 745.992 1531.6 Q745.992 1540.33 742.914 1544.94 Q739.858 1549.52 734.048 1549.52 Q728.238 1549.52 725.159 1544.94 Q722.103 1540.33 722.103 1531.6 Q722.103 1522.85 725.159 1518.27 Q728.238 1513.66 734.048 1513.66 Z\" fill=\"#000000\" fill-rule=\"evenodd\" fill-opacity=\"1\" /><path clip-path=\"url(#clip190)\" d=\"M1229.82 1517.37 Q1226.21 1517.37 1224.38 1520.93 Q1222.57 1524.47 1222.57 1531.6 Q1222.57 1538.71 1224.38 1542.27 Q1226.21 1545.82 1229.82 1545.82 Q1233.45 1545.82 1235.26 1542.27 Q1237.09 1538.71 1237.09 1531.6 Q1237.09 1524.47 1235.26 1520.93 Q1233.45 1517.37 1229.82 1517.37 M1229.82 1513.66 Q1235.63 1513.66 1238.68 1518.27 Q1241.76 1522.85 1241.76 1531.6 Q1241.76 1540.33 1238.68 1544.94 Q1235.63 1549.52 1229.82 1549.52 Q1224.01 1549.52 1220.93 1544.94 Q1217.87 1540.33 1217.87 1531.6 Q1217.87 1522.85 1220.93 1518.27 Q1224.01 1513.66 1229.82 1513.66 Z\" fill=\"#000000\" fill-rule=\"evenodd\" fill-opacity=\"1\" /><path clip-path=\"url(#clip190)\" d=\"M1734.27 1544.91 L1741.91 1544.91 L1741.91 1518.55 L1733.6 1520.21 L1733.6 1515.95 L1741.86 1514.29 L1746.54 1514.29 L1746.54 1544.91 L1754.18 1544.91 L1754.18 1548.85 L1734.27 1548.85 L1734.27 1544.91 Z\" fill=\"#000000\" fill-rule=\"evenodd\" fill-opacity=\"1\" /><path clip-path=\"url(#clip190)\" d=\"M1773.62 1517.37 Q1770.01 1517.37 1768.18 1520.93 Q1766.37 1524.47 1766.37 1531.6 Q1766.37 1538.71 1768.18 1542.27 Q1770.01 1545.82 1773.62 1545.82 Q1777.25 1545.82 1779.06 1542.27 Q1780.89 1538.71 1780.89 1531.6 Q1780.89 1524.47 1779.06 1520.93 Q1777.25 1517.37 1773.62 1517.37 M1773.62 1513.66 Q1779.43 1513.66 1782.49 1518.27 Q1785.56 1522.85 1785.56 1531.6 Q1785.56 1540.33 1782.49 1544.94 Q1779.43 1549.52 1773.62 1549.52 Q1767.81 1549.52 1764.73 1544.94 Q1761.68 1540.33 1761.68 1531.6 Q1761.68 1522.85 1764.73 1518.27 Q1767.81 1513.66 1773.62 1513.66 Z\" fill=\"#000000\" fill-rule=\"evenodd\" fill-opacity=\"1\" /><path clip-path=\"url(#clip190)\" d=\"M2268.12 1544.91 L2284.44 1544.91 L2284.44 1548.85 L2262.49 1548.85 L2262.49 1544.91 Q2265.15 1542.16 2269.74 1537.53 Q2274.34 1532.88 2275.52 1531.53 Q2277.77 1529.01 2278.65 1527.27 Q2279.55 1525.51 2279.55 1523.82 Q2279.55 1521.07 2277.61 1519.33 Q2275.69 1517.6 2272.58 1517.6 Q2270.39 1517.6 2267.93 1518.36 Q2265.5 1519.13 2262.72 1520.68 L2262.72 1515.95 Q2265.55 1514.82 2268 1514.24 Q2270.45 1513.66 2272.49 1513.66 Q2277.86 1513.66 2281.06 1516.35 Q2284.25 1519.03 2284.25 1523.52 Q2284.25 1525.65 2283.44 1527.57 Q2282.65 1529.47 2280.55 1532.07 Q2279.97 1532.74 2276.87 1535.95 Q2273.76 1539.15 2268.12 1544.91 Z\" fill=\"#000000\" fill-rule=\"evenodd\" fill-opacity=\"1\" /><path clip-path=\"url(#clip190)\" d=\"M2304.25 1517.37 Q2300.64 1517.37 2298.81 1520.93 Q2297.01 1524.47 2297.01 1531.6 Q2297.01 1538.71 2298.81 1542.27 Q2300.64 1545.82 2304.25 1545.82 Q2307.88 1545.82 2309.69 1542.27 Q2311.52 1538.71 2311.52 1531.6 Q2311.52 1524.47 2309.69 1520.93 Q2307.88 1517.37 2304.25 1517.37 M2304.25 1513.66 Q2310.06 1513.66 2313.12 1518.27 Q2316.2 1522.85 2316.2 1531.6 Q2316.2 1540.33 2313.12 1544.94 Q2310.06 1549.52 2304.25 1549.52 Q2298.44 1549.52 2295.36 1544.94 Q2292.31 1540.33 2292.31 1531.6 Q2292.31 1522.85 2295.36 1518.27 Q2298.44 1513.66 2304.25 1513.66 Z\" fill=\"#000000\" fill-rule=\"evenodd\" fill-opacity=\"1\" /><polyline clip-path=\"url(#clip192)\" style=\"stroke:#000000; stroke-linecap:butt; stroke-linejoin:round; stroke-width:2; stroke-opacity:0.1; fill:none\" points=\"\n  112.177,1445.72 2352.76,1445.72 \n  \"/>\n<polyline clip-path=\"url(#clip192)\" style=\"stroke:#000000; stroke-linecap:butt; stroke-linejoin:round; stroke-width:2; stroke-opacity:0.1; fill:none\" points=\"\n  112.177,1194.2 2352.76,1194.2 \n  \"/>\n<polyline clip-path=\"url(#clip192)\" style=\"stroke:#000000; stroke-linecap:butt; stroke-linejoin:round; stroke-width:2; stroke-opacity:0.1; fill:none\" points=\"\n  112.177,942.692 2352.76,942.692 \n  \"/>\n<polyline clip-path=\"url(#clip192)\" style=\"stroke:#000000; stroke-linecap:butt; stroke-linejoin:round; stroke-width:2; stroke-opacity:0.1; fill:none\" points=\"\n  112.177,691.18 2352.76,691.18 \n  \"/>\n<polyline clip-path=\"url(#clip192)\" style=\"stroke:#000000; stroke-linecap:butt; stroke-linejoin:round; stroke-width:2; stroke-opacity:0.1; fill:none\" points=\"\n  112.177,439.669 2352.76,439.669 \n  \"/>\n<polyline clip-path=\"url(#clip192)\" style=\"stroke:#000000; stroke-linecap:butt; stroke-linejoin:round; stroke-width:2; stroke-opacity:0.1; fill:none\" points=\"\n  112.177,188.157 2352.76,188.157 \n  \"/>\n<polyline clip-path=\"url(#clip190)\" style=\"stroke:#000000; stroke-linecap:butt; stroke-linejoin:round; stroke-width:4; stroke-opacity:1; fill:none\" points=\"\n  112.177,1486.45 112.177,47.2441 \n  \"/>\n<polyline clip-path=\"url(#clip190)\" style=\"stroke:#000000; stroke-linecap:butt; stroke-linejoin:round; stroke-width:4; stroke-opacity:1; fill:none\" points=\"\n  112.177,1445.72 131.075,1445.72 \n  \"/>\n<polyline clip-path=\"url(#clip190)\" style=\"stroke:#000000; stroke-linecap:butt; stroke-linejoin:round; stroke-width:4; stroke-opacity:1; fill:none\" points=\"\n  112.177,1194.2 131.075,1194.2 \n  \"/>\n<polyline clip-path=\"url(#clip190)\" style=\"stroke:#000000; stroke-linecap:butt; stroke-linejoin:round; stroke-width:4; stroke-opacity:1; fill:none\" points=\"\n  112.177,942.692 131.075,942.692 \n  \"/>\n<polyline clip-path=\"url(#clip190)\" style=\"stroke:#000000; stroke-linecap:butt; stroke-linejoin:round; stroke-width:4; stroke-opacity:1; fill:none\" points=\"\n  112.177,691.18 131.075,691.18 \n  \"/>\n<polyline clip-path=\"url(#clip190)\" style=\"stroke:#000000; stroke-linecap:butt; stroke-linejoin:round; stroke-width:4; stroke-opacity:1; fill:none\" points=\"\n  112.177,439.669 131.075,439.669 \n  \"/>\n<polyline clip-path=\"url(#clip190)\" style=\"stroke:#000000; stroke-linecap:butt; stroke-linejoin:round; stroke-width:4; stroke-opacity:1; fill:none\" points=\"\n  112.177,188.157 131.075,188.157 \n  \"/>\n<path clip-path=\"url(#clip190)\" d=\"M64.2328 1431.51 Q60.6217 1431.51 58.793 1435.08 Q56.9875 1438.62 56.9875 1445.75 Q56.9875 1452.86 58.793 1456.42 Q60.6217 1459.96 64.2328 1459.96 Q67.867 1459.96 69.6726 1456.42 Q71.5013 1452.86 71.5013 1445.75 Q71.5013 1438.62 69.6726 1435.08 Q67.867 1431.51 64.2328 1431.51 M64.2328 1427.81 Q70.0429 1427.81 73.0985 1432.42 Q76.1772 1437 76.1772 1445.75 Q76.1772 1454.48 73.0985 1459.08 Q70.0429 1463.67 64.2328 1463.67 Q58.4226 1463.67 55.344 1459.08 Q52.2884 1454.48 52.2884 1445.75 Q52.2884 1437 55.344 1432.42 Q58.4226 1427.81 64.2328 1427.81 Z\" fill=\"#000000\" fill-rule=\"evenodd\" fill-opacity=\"1\" /><path clip-path=\"url(#clip190)\" d=\"M56.2699 1207.55 L63.9087 1207.55 L63.9087 1181.18 L55.5986 1182.85 L55.5986 1178.59 L63.8624 1176.92 L68.5383 1176.92 L68.5383 1207.55 L76.1772 1207.55 L76.1772 1211.48 L56.2699 1211.48 L56.2699 1207.55 Z\" fill=\"#000000\" fill-rule=\"evenodd\" fill-opacity=\"1\" /><path clip-path=\"url(#clip190)\" d=\"M59.8578 956.037 L76.1772 956.037 L76.1772 959.972 L54.2328 959.972 L54.2328 956.037 Q56.8949 953.282 61.4782 948.653 Q66.0846 944 67.2652 942.658 Q69.5105 940.134 70.3902 938.398 Q71.2929 936.639 71.2929 934.949 Q71.2929 932.195 69.3485 930.459 Q67.4272 928.722 64.3254 928.722 Q62.1263 928.722 59.6726 929.486 Q57.2421 930.25 54.4643 931.801 L54.4643 927.079 Q57.2884 925.945 59.7421 925.366 Q62.1958 924.787 64.2328 924.787 Q69.6031 924.787 72.7976 927.472 Q75.992 930.158 75.992 934.648 Q75.992 936.778 75.1818 938.699 Q74.3948 940.597 72.2883 943.19 Q71.7096 943.861 68.6078 947.079 Q65.5059 950.273 59.8578 956.037 Z\" fill=\"#000000\" fill-rule=\"evenodd\" fill-opacity=\"1\" /><path clip-path=\"url(#clip190)\" d=\"M69.0476 689.826 Q72.404 690.544 74.279 692.812 Q76.1772 695.081 76.1772 698.414 Q76.1772 703.53 72.6587 706.331 Q69.1402 709.132 62.6587 709.132 Q60.4828 709.132 58.168 708.692 Q55.8764 708.275 53.4227 707.419 L53.4227 702.905 Q55.3671 704.039 57.6819 704.618 Q59.9967 705.197 62.5198 705.197 Q66.918 705.197 69.2096 703.46 Q71.5244 701.724 71.5244 698.414 Q71.5244 695.359 69.3717 693.646 Q67.242 691.91 63.4226 691.91 L59.3949 691.91 L59.3949 688.067 L63.6078 688.067 Q67.0569 688.067 68.8855 686.701 Q70.7142 685.312 70.7142 682.72 Q70.7142 680.058 68.8161 678.646 Q66.9411 677.211 63.4226 677.211 Q61.5013 677.211 59.3023 677.627 Q57.1032 678.044 54.4643 678.924 L54.4643 674.757 Q57.1264 674.016 59.4412 673.646 Q61.7791 673.275 63.8393 673.275 Q69.1633 673.275 72.2652 675.706 Q75.367 678.113 75.367 682.234 Q75.367 685.104 73.7235 687.095 Q72.08 689.062 69.0476 689.826 Z\" fill=\"#000000\" fill-rule=\"evenodd\" fill-opacity=\"1\" /><path clip-path=\"url(#clip190)\" d=\"M66.5939 426.463 L54.7884 444.912 L66.5939 444.912 L66.5939 426.463 M65.367 422.389 L71.2466 422.389 L71.2466 444.912 L76.1772 444.912 L76.1772 448.801 L71.2466 448.801 L71.2466 456.949 L66.5939 456.949 L66.5939 448.801 L50.9921 448.801 L50.9921 444.287 L65.367 422.389 Z\" fill=\"#000000\" fill-rule=\"evenodd\" fill-opacity=\"1\" /><path clip-path=\"url(#clip190)\" d=\"M55.2745 170.877 L73.6309 170.877 L73.6309 174.812 L59.5569 174.812 L59.5569 183.284 Q60.5754 182.937 61.5939 182.775 Q62.6124 182.59 63.6309 182.59 Q69.418 182.59 72.7976 185.761 Q76.1772 188.932 76.1772 194.349 Q76.1772 199.928 72.705 203.029 Q69.2328 206.108 62.9134 206.108 Q60.7374 206.108 58.4689 205.738 Q56.2236 205.367 53.8162 204.627 L53.8162 199.928 Q55.8995 201.062 58.1217 201.617 Q60.3439 202.173 62.8208 202.173 Q66.8254 202.173 69.1633 200.066 Q71.5013 197.96 71.5013 194.349 Q71.5013 190.738 69.1633 188.631 Q66.8254 186.525 62.8208 186.525 Q60.9458 186.525 59.0708 186.942 Q57.2189 187.358 55.2745 188.238 L55.2745 170.877 Z\" fill=\"#000000\" fill-rule=\"evenodd\" fill-opacity=\"1\" /><polyline clip-path=\"url(#clip192)\" style=\"stroke:#009af9; stroke-linecap:butt; stroke-linejoin:round; stroke-width:4; stroke-opacity:1; fill:none\" points=\"\n  175.59,598.176 180.887,597.478 186.185,596.775 191.483,596.065 196.78,595.348 202.078,594.624 207.376,593.893 212.673,593.155 217.971,592.41 223.268,591.658 \n  228.566,590.899 233.864,590.132 239.161,589.358 244.459,588.576 249.757,587.786 255.054,586.989 260.352,586.183 265.649,585.37 270.947,584.548 276.245,583.718 \n  281.542,582.879 286.84,582.032 292.138,581.176 297.435,580.311 302.733,579.437 308.03,578.554 313.328,577.662 318.626,576.76 323.923,575.849 329.221,574.928 \n  334.519,573.998 339.816,573.057 345.114,572.106 350.412,571.144 355.709,570.172 361.007,569.19 366.304,568.196 371.602,567.192 376.9,566.176 382.197,565.148 \n  387.495,564.109 392.793,563.058 398.09,561.995 403.388,560.92 408.685,559.832 413.983,558.732 419.281,557.618 424.578,556.492 429.876,555.352 435.174,554.198 \n  440.471,553.03 445.769,551.848 451.066,550.652 456.364,549.441 461.662,548.215 466.959,546.974 472.257,545.717 477.555,544.445 482.852,543.156 488.15,541.851 \n  493.447,540.529 498.745,539.19 504.043,537.833 509.34,536.459 514.638,535.067 519.936,533.656 525.233,532.226 530.531,530.777 535.828,529.309 541.126,527.82 \n  546.424,526.311 551.721,524.781 557.019,523.23 562.317,521.658 567.614,520.063 572.912,518.446 578.209,516.805 583.507,515.141 588.805,513.453 594.102,511.741 \n  599.4,510.004 604.698,508.241 609.995,506.452 615.293,504.637 620.591,502.794 625.888,500.924 631.186,499.025 636.483,497.097 641.781,495.14 647.079,493.153 \n  652.376,491.135 657.674,489.086 662.972,487.004 668.269,484.89 673.567,482.742 678.864,480.559 684.162,478.342 689.46,476.09 694.757,473.8 700.055,471.474 \n  705.353,469.109 710.65,466.705 715.948,464.262 721.245,461.778 726.543,459.252 731.841,456.685 737.138,454.073 742.436,451.418 747.734,448.717 753.031,445.97 \n  758.329,443.176 763.626,440.334 768.924,437.443 774.222,434.501 779.519,431.508 784.817,428.463 790.115,425.364 795.412,422.211 800.71,419.002 806.007,415.736 \n  811.305,412.412 816.603,409.029 821.9,405.586 827.198,402.081 832.496,398.514 837.793,394.883 843.091,391.187 848.389,387.425 853.686,383.596 858.984,379.698 \n  864.281,375.73 869.579,371.692 874.877,367.582 880.174,363.399 885.472,359.142 890.77,354.809 896.067,350.399 901.365,345.913 906.662,341.347 911.96,336.702 \n  917.258,331.976 922.555,327.169 927.853,322.279 933.151,317.306 938.448,312.249 943.746,307.108 949.043,301.882 954.341,296.571 959.639,291.174 964.936,285.693 \n  970.234,280.128 975.532,274.479 980.829,268.748 986.127,262.937 991.424,257.048 996.722,251.083 1002.02,245.047 1007.32,238.943 1012.61,232.778 1017.91,226.556 \n  1023.21,220.285 1028.51,213.975 1033.81,207.633 1039.1,201.272 1044.4,194.903 1049.7,188.542 1055,182.203 1060.29,175.904 1065.59,169.664 1070.89,163.503 \n  1076.19,157.445 1081.48,151.511 1086.78,145.727 1092.08,140.12 1097.38,134.713 1102.67,129.535 1107.97,124.609 1113.27,119.96 1118.57,115.608 1123.87,111.572 \n  1129.16,107.865 1134.46,104.495 1139.76,101.466 1145.06,98.7769 1150.35,96.4204 1155.65,94.3859 1160.95,92.6591 1166.25,91.2243 1171.54,90.0656 1176.84,89.1687 \n  1182.14,88.5233 1187.44,88.1246 1192.73,87.9763 1198.03,88.0932 1203.33,88.5072 1208.63,89.2758 1213.92,90.502 1219.22,92.3799 1224.52,95.3365 1229.82,100.892 \n  1235.12,134.374 1240.41,196.706 1245.71,270.715 1251.01,348.027 1256.31,424.493 1261.6,498.561 1266.9,569.487 1272.2,636.908 1277.5,700.718 1282.79,760.933 \n  1288.09,817.619 1293.39,870.858 1298.69,920.739 1303.98,967.363 1309.28,1010.83 1314.58,1051.26 1319.88,1088.76 1325.18,1123.45 1330.47,1155.47 1335.77,1184.95 \n  1341.07,1212.04 1346.37,1236.86 1351.66,1259.55 1356.96,1280.26 1362.26,1299.11 1367.56,1316.23 1372.85,1331.74 1378.15,1345.76 1383.45,1358.4 1388.75,1369.78 \n  1394.04,1379.98 1399.34,1389.11 1404.64,1397.26 1409.94,1404.5 1415.23,1410.92 1420.53,1416.59 1425.83,1421.57 1431.13,1425.92 1436.43,1429.71 1441.72,1432.98 \n  1447.02,1435.77 1452.32,1438.14 1457.62,1440.12 1462.91,1441.74 1468.21,1443.05 1473.51,1444.06 1478.81,1444.81 1484.1,1445.32 1489.4,1445.62 1494.7,1445.72 \n  1500,1445.64 1505.29,1445.4 1510.59,1445.02 1515.89,1444.51 1521.19,1443.88 1526.48,1443.14 1531.78,1442.31 1537.08,1441.4 1542.38,1440.41 1547.68,1439.35 \n  1552.97,1438.23 1558.27,1437.06 1563.57,1435.84 1568.87,1434.58 1574.16,1433.28 1579.46,1431.95 1584.76,1430.6 1590.06,1429.22 1595.35,1427.82 1600.65,1426.4 \n  1605.95,1424.98 1611.25,1423.54 1616.54,1422.09 1621.84,1420.64 1627.14,1419.18 1632.44,1417.72 1637.74,1416.26 1643.03,1414.8 1648.33,1413.35 1653.63,1411.9 \n  1658.93,1410.45 1664.22,1409.01 1669.52,1407.58 1674.82,1406.15 1680.12,1404.74 1685.41,1403.33 1690.71,1401.93 1696.01,1400.55 1701.31,1399.17 1706.6,1397.81 \n  1711.9,1396.45 1717.2,1395.11 1722.5,1393.78 1727.79,1392.47 1733.09,1391.16 1738.39,1389.87 1743.69,1388.6 1748.99,1387.33 1754.28,1386.08 1759.58,1384.84 \n  1764.88,1383.62 1770.18,1382.41 1775.47,1381.21 1780.77,1380.02 1786.07,1378.85 1791.37,1377.69 1796.66,1376.55 1801.96,1375.41 1807.26,1374.29 1812.56,1373.19 \n  1817.85,1372.09 1823.15,1371.01 1828.45,1369.94 1833.75,1368.88 1839.04,1367.84 1844.34,1366.81 1849.64,1365.79 1854.94,1364.78 1860.24,1363.78 1865.53,1362.8 \n  1870.83,1361.83 1876.13,1360.86 1881.43,1359.91 1886.72,1358.97 1892.02,1358.05 1897.32,1357.13 1902.62,1356.22 1907.91,1355.32 1913.21,1354.44 1918.51,1353.56 \n  1923.81,1352.7 1929.1,1351.84 1934.4,1351 1939.7,1350.16 1945,1349.33 1950.3,1348.52 1955.59,1347.71 1960.89,1346.91 1966.19,1346.12 1971.49,1345.34 \n  1976.78,1344.57 1982.08,1343.8 1987.38,1343.05 1992.68,1342.3 1997.97,1341.57 2003.27,1340.84 2008.57,1340.11 2013.87,1339.4 2019.16,1338.69 2024.46,1337.99 \n  2029.76,1337.3 2035.06,1336.62 2040.35,1335.94 2045.65,1335.28 2050.95,1334.61 2056.25,1333.96 2061.55,1333.31 2066.84,1332.67 2072.14,1332.04 2077.44,1331.41 \n  2082.74,1330.79 2088.03,1330.17 2093.33,1329.57 2098.63,1328.96 2103.93,1328.37 2109.22,1327.78 2114.52,1327.19 2119.82,1326.62 2125.12,1326.05 2130.41,1325.48 \n  2135.71,1324.92 2141.01,1324.36 2146.31,1323.81 2151.6,1323.27 2156.9,1322.73 2162.2,1322.2 2167.5,1321.67 2172.8,1321.15 2178.09,1320.63 2183.39,1320.12 \n  2188.69,1319.61 2193.99,1319.11 2199.28,1318.61 2204.58,1318.12 2209.88,1317.63 2215.18,1317.14 2220.47,1316.66 2225.77,1316.19 2231.07,1315.72 2236.37,1315.25 \n  2241.66,1314.79 2246.96,1314.33 2252.26,1313.88 2257.56,1313.43 2262.86,1312.98 2268.15,1312.54 2273.45,1312.11 2278.75,1311.67 2284.05,1311.24 2289.34,1310.82 \n  \n  \"/>\n<polyline clip-path=\"url(#clip192)\" style=\"stroke:#e26f46; stroke-linecap:butt; stroke-linejoin:round; stroke-width:4; stroke-opacity:1; fill:none\" points=\"\n  1192.73,2925.65 1192.73,-1391.96 \n  \"/>\n<polyline clip-path=\"url(#clip192)\" style=\"stroke:#3da44d; stroke-linecap:butt; stroke-linejoin:round; stroke-width:4; stroke-opacity:1; fill:none\" points=\"\n  1494.7,2925.65 1494.7,-1391.96 \n  \"/>\n<polyline clip-path=\"url(#clip192)\" style=\"stroke:#c271d2; stroke-linecap:butt; stroke-linejoin:round; stroke-width:4; stroke-opacity:1; fill:none\" points=\"\n  1494.7,2925.65 1494.7,-1391.96 \n  \"/>\n<path clip-path=\"url(#clip190)\" d=\"\nM1834.77 354.418 L2278.07 354.418 L2278.07 95.2176 L1834.77 95.2176  Z\n  \" fill=\"#ffffff\" fill-rule=\"evenodd\" fill-opacity=\"1\"/>\n<polyline clip-path=\"url(#clip190)\" style=\"stroke:#000000; stroke-linecap:butt; stroke-linejoin:round; stroke-width:4; stroke-opacity:1; fill:none\" points=\"\n  1834.77,354.418 2278.07,354.418 2278.07,95.2176 1834.77,95.2176 1834.77,354.418 \n  \"/>\n<polyline clip-path=\"url(#clip190)\" style=\"stroke:#009af9; stroke-linecap:butt; stroke-linejoin:round; stroke-width:4; stroke-opacity:1; fill:none\" points=\"\n  1859.66,147.058 2009.03,147.058 \n  \"/>\n<path clip-path=\"url(#clip190)\" d=\"M2049.95 132.949 Q2044.85 132.949 2041.85 136.745 Q2038.86 140.541 2038.86 147.092 Q2038.86 153.62 2041.85 157.416 Q2044.85 161.213 2049.95 161.213 Q2055.04 161.213 2058 157.416 Q2060.99 153.62 2060.99 147.092 Q2060.99 140.541 2058 136.745 Q2055.04 132.949 2049.95 132.949 M2056.5 163.713 L2062.66 170.449 L2057.01 170.449 L2051.89 164.916 Q2051.13 164.963 2050.71 164.986 Q2050.32 165.009 2049.95 165.009 Q2042.66 165.009 2038.28 160.148 Q2033.93 155.264 2033.93 147.092 Q2033.93 138.898 2038.28 134.037 Q2042.66 129.153 2049.95 129.153 Q2057.22 129.153 2061.57 134.037 Q2065.92 138.898 2065.92 147.092 Q2065.92 153.111 2063.49 157.393 Q2061.08 161.676 2056.5 163.713 Z\" fill=\"#000000\" fill-rule=\"evenodd\" fill-opacity=\"1\" /><path clip-path=\"url(#clip190)\" d=\"M2094.6 148.689 L2094.6 164.338 L2090.34 164.338 L2090.34 148.828 Q2090.34 145.148 2088.91 143.319 Q2087.47 141.49 2084.6 141.49 Q2081.15 141.49 2079.16 143.69 Q2077.17 145.889 2077.17 149.685 L2077.17 164.338 L2072.89 164.338 L2072.89 138.412 L2077.17 138.412 L2077.17 142.44 Q2078.7 140.102 2080.76 138.944 Q2082.84 137.787 2085.55 137.787 Q2090.02 137.787 2092.31 140.565 Q2094.6 143.319 2094.6 148.689 Z\" fill=\"#000000\" fill-rule=\"evenodd\" fill-opacity=\"1\" /><polyline clip-path=\"url(#clip190)\" style=\"stroke:#e26f46; stroke-linecap:butt; stroke-linejoin:round; stroke-width:4; stroke-opacity:1; fill:none\" points=\"\n  1859.66,198.898 2009.03,198.898 \n  \"/>\n<path clip-path=\"url(#clip190)\" d=\"M2033.93 181.618 L2040.9 181.618 L2049.72 205.136 L2058.58 181.618 L2065.55 181.618 L2065.55 216.178 L2060.99 216.178 L2060.99 185.83 L2052.08 209.534 L2047.38 209.534 L2038.47 185.83 L2038.47 216.178 L2033.93 216.178 L2033.93 181.618 Z\" fill=\"#000000\" fill-rule=\"evenodd\" fill-opacity=\"1\" /><path clip-path=\"url(#clip190)\" d=\"M2086.43 203.145 Q2081.27 203.145 2079.28 204.326 Q2077.28 205.506 2077.28 208.354 Q2077.28 210.622 2078.77 211.965 Q2080.27 213.284 2082.84 213.284 Q2086.38 213.284 2088.51 210.784 Q2090.66 208.261 2090.66 204.094 L2090.66 203.145 L2086.43 203.145 M2094.92 201.386 L2094.92 216.178 L2090.66 216.178 L2090.66 212.242 Q2089.21 214.603 2087.03 215.738 Q2084.85 216.849 2081.71 216.849 Q2077.72 216.849 2075.36 214.627 Q2073.03 212.381 2073.03 208.631 Q2073.03 204.256 2075.94 202.034 Q2078.88 199.812 2084.69 199.812 L2090.66 199.812 L2090.66 199.395 Q2090.66 196.455 2088.72 194.858 Q2086.8 193.238 2083.3 193.238 Q2081.08 193.238 2078.97 193.77 Q2076.87 194.303 2074.92 195.367 L2074.92 191.432 Q2077.26 190.53 2079.46 190.09 Q2081.66 189.627 2083.74 189.627 Q2089.37 189.627 2092.15 192.543 Q2094.92 195.46 2094.92 201.386 Z\" fill=\"#000000\" fill-rule=\"evenodd\" fill-opacity=\"1\" /><path clip-path=\"url(#clip190)\" d=\"M2125.25 190.252 L2115.87 202.867 L2125.73 216.178 L2120.71 216.178 L2113.16 205.992 L2105.62 216.178 L2100.59 216.178 L2110.66 202.613 L2101.45 190.252 L2106.47 190.252 L2113.35 199.488 L2120.22 190.252 L2125.25 190.252 Z\" fill=\"#000000\" fill-rule=\"evenodd\" fill-opacity=\"1\" /><path clip-path=\"url(#clip190)\" d=\"M2161.03 184.789 Q2155.94 184.789 2152.93 188.585 Q2149.95 192.381 2149.95 198.932 Q2149.95 205.46 2152.93 209.256 Q2155.94 213.053 2161.03 213.053 Q2166.13 213.053 2169.09 209.256 Q2172.08 205.46 2172.08 198.932 Q2172.08 192.381 2169.09 188.585 Q2166.13 184.789 2161.03 184.789 M2167.59 215.553 L2173.74 222.289 L2168.09 222.289 L2162.98 216.756 Q2162.21 216.803 2161.8 216.826 Q2161.4 216.849 2161.03 216.849 Q2153.74 216.849 2149.37 211.988 Q2145.02 207.104 2145.02 198.932 Q2145.02 190.738 2149.37 185.877 Q2153.74 180.993 2161.03 180.993 Q2168.3 180.993 2172.65 185.877 Q2177.01 190.738 2177.01 198.932 Q2177.01 204.951 2174.58 209.233 Q2172.17 213.516 2167.59 215.553 Z\" fill=\"#000000\" fill-rule=\"evenodd\" fill-opacity=\"1\" /><path clip-path=\"url(#clip190)\" d=\"M2205.69 200.529 L2205.69 216.178 L2201.43 216.178 L2201.43 200.668 Q2201.43 196.988 2199.99 195.159 Q2198.56 193.33 2195.69 193.33 Q2192.24 193.33 2190.25 195.53 Q2188.26 197.729 2188.26 201.525 L2188.26 216.178 L2183.97 216.178 L2183.97 190.252 L2188.26 190.252 L2188.26 194.28 Q2189.78 191.942 2191.84 190.784 Q2193.93 189.627 2196.64 189.627 Q2201.1 189.627 2203.4 192.405 Q2205.69 195.159 2205.69 200.529 Z\" fill=\"#000000\" fill-rule=\"evenodd\" fill-opacity=\"1\" /><polyline clip-path=\"url(#clip190)\" style=\"stroke:#3da44d; stroke-linecap:butt; stroke-linejoin:round; stroke-width:4; stroke-opacity:1; fill:none\" points=\"\n  1859.66,250.738 2009.03,250.738 \n  \"/>\n<path clip-path=\"url(#clip190)\" d=\"M2033.93 233.458 L2040.9 233.458 L2049.72 256.976 L2058.58 233.458 L2065.55 233.458 L2065.55 268.018 L2060.99 268.018 L2060.99 237.67 L2052.08 261.374 L2047.38 261.374 L2038.47 237.67 L2038.47 268.018 L2033.93 268.018 L2033.93 233.458 Z\" fill=\"#000000\" fill-rule=\"evenodd\" fill-opacity=\"1\" /><path clip-path=\"url(#clip190)\" d=\"M2074.65 242.092 L2078.91 242.092 L2078.91 268.018 L2074.65 268.018 L2074.65 242.092 M2074.65 231.999 L2078.91 231.999 L2078.91 237.393 L2074.65 237.393 L2074.65 231.999 Z\" fill=\"#000000\" fill-rule=\"evenodd\" fill-opacity=\"1\" /><path clip-path=\"url(#clip190)\" d=\"M2109.37 252.369 L2109.37 268.018 L2105.11 268.018 L2105.11 252.508 Q2105.11 248.828 2103.67 246.999 Q2102.24 245.17 2099.37 245.17 Q2095.92 245.17 2093.93 247.37 Q2091.94 249.569 2091.94 253.365 L2091.94 268.018 L2087.66 268.018 L2087.66 242.092 L2091.94 242.092 L2091.94 246.12 Q2093.47 243.782 2095.53 242.624 Q2097.61 241.467 2100.32 241.467 Q2104.78 241.467 2107.08 244.245 Q2109.37 246.999 2109.37 252.369 Z\" fill=\"#000000\" fill-rule=\"evenodd\" fill-opacity=\"1\" /><path clip-path=\"url(#clip190)\" d=\"M2147.15 236.629 Q2142.05 236.629 2139.04 240.425 Q2136.06 244.221 2136.06 250.772 Q2136.06 257.3 2139.04 261.096 Q2142.05 264.893 2147.15 264.893 Q2152.24 264.893 2155.2 261.096 Q2158.19 257.3 2158.19 250.772 Q2158.19 244.221 2155.2 240.425 Q2152.24 236.629 2147.15 236.629 M2153.7 267.393 L2159.85 274.129 L2154.21 274.129 L2149.09 268.596 Q2148.33 268.643 2147.91 268.666 Q2147.52 268.689 2147.15 268.689 Q2139.85 268.689 2135.48 263.828 Q2131.13 258.944 2131.13 250.772 Q2131.13 242.578 2135.48 237.717 Q2139.85 232.833 2147.15 232.833 Q2154.41 232.833 2158.77 237.717 Q2163.12 242.578 2163.12 250.772 Q2163.12 256.791 2160.69 261.073 Q2158.28 265.356 2153.7 267.393 Z\" fill=\"#000000\" fill-rule=\"evenodd\" fill-opacity=\"1\" /><path clip-path=\"url(#clip190)\" d=\"M2191.8 252.369 L2191.8 268.018 L2187.54 268.018 L2187.54 252.508 Q2187.54 248.828 2186.1 246.999 Q2184.67 245.17 2181.8 245.17 Q2178.35 245.17 2176.36 247.37 Q2174.37 249.569 2174.37 253.365 L2174.37 268.018 L2170.09 268.018 L2170.09 242.092 L2174.37 242.092 L2174.37 246.12 Q2175.9 243.782 2177.96 242.624 Q2180.04 241.467 2182.75 241.467 Q2187.21 241.467 2189.51 244.245 Q2191.8 246.999 2191.8 252.369 Z\" fill=\"#000000\" fill-rule=\"evenodd\" fill-opacity=\"1\" /><polyline clip-path=\"url(#clip190)\" style=\"stroke:#c271d2; stroke-linecap:butt; stroke-linejoin:round; stroke-width:4; stroke-opacity:1; fill:none\" points=\"\n  1859.66,302.578 2009.03,302.578 \n  \"/>\n<path clip-path=\"url(#clip190)\" d=\"M2033.93 285.298 L2063.16 285.298 L2063.16 289.233 L2050.9 289.233 L2050.9 319.858 L2046.2 319.858 L2046.2 289.233 L2033.93 289.233 L2033.93 285.298 Z\" fill=\"#000000\" fill-rule=\"evenodd\" fill-opacity=\"1\" /><path clip-path=\"url(#clip190)\" d=\"M2059.85 309.626 L2059.85 293.932 L2064.11 293.932 L2064.11 309.464 Q2064.11 313.145 2065.55 314.996 Q2066.98 316.825 2069.85 316.825 Q2073.3 316.825 2075.29 314.626 Q2077.31 312.427 2077.31 308.631 L2077.31 293.932 L2081.57 293.932 L2081.57 319.858 L2077.31 319.858 L2077.31 315.876 Q2075.76 318.237 2073.7 319.395 Q2071.66 320.529 2068.95 320.529 Q2064.48 320.529 2062.17 317.751 Q2059.85 314.973 2059.85 309.626 M2070.57 293.307 L2070.57 293.307 Z\" fill=\"#000000\" fill-rule=\"evenodd\" fill-opacity=\"1\" /><path clip-path=\"url(#clip190)\" d=\"M2105.36 297.913 Q2104.65 297.497 2103.79 297.311 Q2102.96 297.103 2101.94 297.103 Q2098.33 297.103 2096.38 299.464 Q2094.46 301.802 2094.46 306.2 L2094.46 319.858 L2090.18 319.858 L2090.18 293.932 L2094.46 293.932 L2094.46 297.96 Q2095.8 295.598 2097.96 294.464 Q2100.11 293.307 2103.19 293.307 Q2103.63 293.307 2104.16 293.376 Q2104.69 293.423 2105.34 293.538 L2105.36 297.913 Z\" fill=\"#000000\" fill-rule=\"evenodd\" fill-opacity=\"1\" /><path clip-path=\"url(#clip190)\" d=\"M2130.97 305.83 L2130.97 307.913 L2111.38 307.913 Q2111.66 312.311 2114.02 314.626 Q2116.4 316.918 2120.64 316.918 Q2123.09 316.918 2125.39 316.316 Q2127.7 315.714 2129.97 314.51 L2129.97 318.538 Q2127.68 319.51 2125.27 320.02 Q2122.86 320.529 2120.39 320.529 Q2114.18 320.529 2110.55 316.918 Q2106.94 313.307 2106.94 307.149 Q2106.94 300.784 2110.36 297.057 Q2113.81 293.307 2119.65 293.307 Q2124.88 293.307 2127.91 296.686 Q2130.97 300.043 2130.97 305.83 M2126.71 304.58 Q2126.66 301.085 2124.74 299.001 Q2122.84 296.918 2119.69 296.918 Q2116.13 296.918 2113.97 298.932 Q2111.84 300.946 2111.52 304.603 L2126.71 304.58 Z\" fill=\"#000000\" fill-rule=\"evenodd\" fill-opacity=\"1\" /><path clip-path=\"url(#clip190)\" d=\"M2170.43 303.422 L2155.69 303.422 Q2156.03 310.344 2157.63 313.284 Q2159.62 316.895 2163.07 316.895 Q2166.54 316.895 2168.46 313.26 Q2170.15 310.066 2170.43 303.422 M2170.36 299.487 Q2169.71 292.913 2168.46 290.598 Q2166.47 286.941 2163.07 286.941 Q2159.53 286.941 2157.65 290.552 Q2156.17 293.469 2155.73 299.487 L2170.36 299.487 M2163.07 283.469 Q2168.63 283.469 2171.8 288.376 Q2174.97 293.26 2174.97 301.918 Q2174.97 310.552 2171.8 315.459 Q2168.63 320.39 2163.07 320.39 Q2157.49 320.39 2154.34 315.459 Q2151.17 310.552 2151.17 301.918 Q2151.17 293.26 2154.34 288.376 Q2157.49 283.469 2163.07 283.469 Z\" fill=\"#000000\" fill-rule=\"evenodd\" fill-opacity=\"1\" /><path clip-path=\"url(#clip190)\" d=\"M2201.73 327.728 L2201.73 331.038 L2177.1 331.038 L2177.1 327.728 L2201.73 327.728 Z\" fill=\"#000000\" fill-rule=\"evenodd\" fill-opacity=\"1\" /><path clip-path=\"url(#clip190)\" d=\"M2216.33 288.376 Q2212.72 288.376 2210.9 291.941 Q2209.09 295.483 2209.09 302.612 Q2209.09 309.719 2210.9 313.284 Q2212.72 316.825 2216.33 316.825 Q2219.97 316.825 2221.77 313.284 Q2223.6 309.719 2223.6 302.612 Q2223.6 295.483 2221.77 291.941 Q2219.97 288.376 2216.33 288.376 M2216.33 284.673 Q2222.15 284.673 2225.2 289.279 Q2228.28 293.862 2228.28 302.612 Q2228.28 311.339 2225.2 315.946 Q2222.15 320.529 2216.33 320.529 Q2210.52 320.529 2207.45 315.946 Q2204.39 311.339 2204.39 302.612 Q2204.39 293.862 2207.45 289.279 Q2210.52 284.673 2216.33 284.673 Z\" fill=\"#000000\" fill-rule=\"evenodd\" fill-opacity=\"1\" /></svg>\n",
      "text/html": [
       "<?xml version=\"1.0\" encoding=\"utf-8\"?>\n",
       "<svg xmlns=\"http://www.w3.org/2000/svg\" xmlns:xlink=\"http://www.w3.org/1999/xlink\" width=\"600\" height=\"400\" viewBox=\"0 0 2400 1600\">\n",
       "<defs>\n",
       "  <clipPath id=\"clip240\">\n",
       "    <rect x=\"0\" y=\"0\" width=\"2400\" height=\"1600\"/>\n",
       "  </clipPath>\n",
       "</defs>\n",
       "<path clip-path=\"url(#clip240)\" d=\"\n",
       "M0 1600 L2400 1600 L2400 0 L0 0  Z\n",
       "  \" fill=\"#ffffff\" fill-rule=\"evenodd\" fill-opacity=\"1\"/>\n",
       "<defs>\n",
       "  <clipPath id=\"clip241\">\n",
       "    <rect x=\"480\" y=\"0\" width=\"1681\" height=\"1600\"/>\n",
       "  </clipPath>\n",
       "</defs>\n",
       "<path clip-path=\"url(#clip240)\" d=\"\n",
       "M112.177 1486.45 L2352.76 1486.45 L2352.76 47.2441 L112.177 47.2441  Z\n",
       "  \" fill=\"#ffffff\" fill-rule=\"evenodd\" fill-opacity=\"1\"/>\n",
       "<defs>\n",
       "  <clipPath id=\"clip242\">\n",
       "    <rect x=\"112\" y=\"47\" width=\"2242\" height=\"1440\"/>\n",
       "  </clipPath>\n",
       "</defs>\n",
       "<polyline clip-path=\"url(#clip242)\" style=\"stroke:#000000; stroke-linecap:butt; stroke-linejoin:round; stroke-width:2; stroke-opacity:0.1; fill:none\" points=\"\n",
       "  170.292,1486.45 170.292,47.2441 \n",
       "  \"/>\n",
       "<polyline clip-path=\"url(#clip242)\" style=\"stroke:#000000; stroke-linecap:butt; stroke-linejoin:round; stroke-width:2; stroke-opacity:0.1; fill:none\" points=\"\n",
       "  700.055,1486.45 700.055,47.2441 \n",
       "  \"/>\n",
       "<polyline clip-path=\"url(#clip242)\" style=\"stroke:#000000; stroke-linecap:butt; stroke-linejoin:round; stroke-width:2; stroke-opacity:0.1; fill:none\" points=\"\n",
       "  1229.82,1486.45 1229.82,47.2441 \n",
       "  \"/>\n",
       "<polyline clip-path=\"url(#clip242)\" style=\"stroke:#000000; stroke-linecap:butt; stroke-linejoin:round; stroke-width:2; stroke-opacity:0.1; fill:none\" points=\"\n",
       "  1759.58,1486.45 1759.58,47.2441 \n",
       "  \"/>\n",
       "<polyline clip-path=\"url(#clip242)\" style=\"stroke:#000000; stroke-linecap:butt; stroke-linejoin:round; stroke-width:2; stroke-opacity:0.1; fill:none\" points=\"\n",
       "  2289.34,1486.45 2289.34,47.2441 \n",
       "  \"/>\n",
       "<polyline clip-path=\"url(#clip240)\" style=\"stroke:#000000; stroke-linecap:butt; stroke-linejoin:round; stroke-width:4; stroke-opacity:1; fill:none\" points=\"\n",
       "  112.177,1486.45 2352.76,1486.45 \n",
       "  \"/>\n",
       "<polyline clip-path=\"url(#clip240)\" style=\"stroke:#000000; stroke-linecap:butt; stroke-linejoin:round; stroke-width:4; stroke-opacity:1; fill:none\" points=\"\n",
       "  170.292,1486.45 170.292,1467.55 \n",
       "  \"/>\n",
       "<polyline clip-path=\"url(#clip240)\" style=\"stroke:#000000; stroke-linecap:butt; stroke-linejoin:round; stroke-width:4; stroke-opacity:1; fill:none\" points=\"\n",
       "  700.055,1486.45 700.055,1467.55 \n",
       "  \"/>\n",
       "<polyline clip-path=\"url(#clip240)\" style=\"stroke:#000000; stroke-linecap:butt; stroke-linejoin:round; stroke-width:4; stroke-opacity:1; fill:none\" points=\"\n",
       "  1229.82,1486.45 1229.82,1467.55 \n",
       "  \"/>\n",
       "<polyline clip-path=\"url(#clip240)\" style=\"stroke:#000000; stroke-linecap:butt; stroke-linejoin:round; stroke-width:4; stroke-opacity:1; fill:none\" points=\"\n",
       "  1759.58,1486.45 1759.58,1467.55 \n",
       "  \"/>\n",
       "<polyline clip-path=\"url(#clip240)\" style=\"stroke:#000000; stroke-linecap:butt; stroke-linejoin:round; stroke-width:4; stroke-opacity:1; fill:none\" points=\"\n",
       "  2289.34,1486.45 2289.34,1467.55 \n",
       "  \"/>\n",
       "<path clip-path=\"url(#clip240)\" d=\"M124.355 1532.02 L154.031 1532.02 L154.031 1535.95 L124.355 1535.95 L124.355 1532.02 Z\" fill=\"#000000\" fill-rule=\"evenodd\" fill-opacity=\"1\" /><path clip-path=\"url(#clip240)\" d=\"M168.151 1544.91 L184.47 1544.91 L184.47 1548.85 L162.526 1548.85 L162.526 1544.91 Q165.188 1542.16 169.771 1537.53 Q174.378 1532.88 175.558 1531.53 Q177.804 1529.01 178.683 1527.27 Q179.586 1525.51 179.586 1523.82 Q179.586 1521.07 177.642 1519.33 Q175.72 1517.6 172.619 1517.6 Q170.419 1517.6 167.966 1518.36 Q165.535 1519.13 162.757 1520.68 L162.757 1515.95 Q165.582 1514.82 168.035 1514.24 Q170.489 1513.66 172.526 1513.66 Q177.896 1513.66 181.091 1516.35 Q184.285 1519.03 184.285 1523.52 Q184.285 1525.65 183.475 1527.57 Q182.688 1529.47 180.581 1532.07 Q180.003 1532.74 176.901 1535.95 Q173.799 1539.15 168.151 1544.91 Z\" fill=\"#000000\" fill-rule=\"evenodd\" fill-opacity=\"1\" /><path clip-path=\"url(#clip240)\" d=\"M204.285 1517.37 Q200.674 1517.37 198.845 1520.93 Q197.04 1524.47 197.04 1531.6 Q197.04 1538.71 198.845 1542.27 Q200.674 1545.82 204.285 1545.82 Q207.919 1545.82 209.725 1542.27 Q211.554 1538.71 211.554 1531.6 Q211.554 1524.47 209.725 1520.93 Q207.919 1517.37 204.285 1517.37 M204.285 1513.66 Q210.095 1513.66 213.151 1518.27 Q216.229 1522.85 216.229 1531.6 Q216.229 1540.33 213.151 1544.94 Q210.095 1549.52 204.285 1549.52 Q198.475 1549.52 195.396 1544.94 Q192.341 1540.33 192.341 1531.6 Q192.341 1522.85 195.396 1518.27 Q198.475 1513.66 204.285 1513.66 Z\" fill=\"#000000\" fill-rule=\"evenodd\" fill-opacity=\"1\" /><path clip-path=\"url(#clip240)\" d=\"M654.118 1532.02 L683.793 1532.02 L683.793 1535.95 L654.118 1535.95 L654.118 1532.02 Z\" fill=\"#000000\" fill-rule=\"evenodd\" fill-opacity=\"1\" /><path clip-path=\"url(#clip240)\" d=\"M694.696 1544.91 L702.335 1544.91 L702.335 1518.55 L694.025 1520.21 L694.025 1515.95 L702.289 1514.29 L706.965 1514.29 L706.965 1544.91 L714.603 1544.91 L714.603 1548.85 L694.696 1548.85 L694.696 1544.91 Z\" fill=\"#000000\" fill-rule=\"evenodd\" fill-opacity=\"1\" /><path clip-path=\"url(#clip240)\" d=\"M734.048 1517.37 Q730.437 1517.37 728.608 1520.93 Q726.802 1524.47 726.802 1531.6 Q726.802 1538.71 728.608 1542.27 Q730.437 1545.82 734.048 1545.82 Q737.682 1545.82 739.488 1542.27 Q741.316 1538.71 741.316 1531.6 Q741.316 1524.47 739.488 1520.93 Q737.682 1517.37 734.048 1517.37 M734.048 1513.66 Q739.858 1513.66 742.914 1518.27 Q745.992 1522.85 745.992 1531.6 Q745.992 1540.33 742.914 1544.94 Q739.858 1549.52 734.048 1549.52 Q728.238 1549.52 725.159 1544.94 Q722.103 1540.33 722.103 1531.6 Q722.103 1522.85 725.159 1518.27 Q728.238 1513.66 734.048 1513.66 Z\" fill=\"#000000\" fill-rule=\"evenodd\" fill-opacity=\"1\" /><path clip-path=\"url(#clip240)\" d=\"M1229.82 1517.37 Q1226.21 1517.37 1224.38 1520.93 Q1222.57 1524.47 1222.57 1531.6 Q1222.57 1538.71 1224.38 1542.27 Q1226.21 1545.82 1229.82 1545.82 Q1233.45 1545.82 1235.26 1542.27 Q1237.09 1538.71 1237.09 1531.6 Q1237.09 1524.47 1235.26 1520.93 Q1233.45 1517.37 1229.82 1517.37 M1229.82 1513.66 Q1235.63 1513.66 1238.68 1518.27 Q1241.76 1522.85 1241.76 1531.6 Q1241.76 1540.33 1238.68 1544.94 Q1235.63 1549.52 1229.82 1549.52 Q1224.01 1549.52 1220.93 1544.94 Q1217.87 1540.33 1217.87 1531.6 Q1217.87 1522.85 1220.93 1518.27 Q1224.01 1513.66 1229.82 1513.66 Z\" fill=\"#000000\" fill-rule=\"evenodd\" fill-opacity=\"1\" /><path clip-path=\"url(#clip240)\" d=\"M1734.27 1544.91 L1741.91 1544.91 L1741.91 1518.55 L1733.6 1520.21 L1733.6 1515.95 L1741.86 1514.29 L1746.54 1514.29 L1746.54 1544.91 L1754.18 1544.91 L1754.18 1548.85 L1734.27 1548.85 L1734.27 1544.91 Z\" fill=\"#000000\" fill-rule=\"evenodd\" fill-opacity=\"1\" /><path clip-path=\"url(#clip240)\" d=\"M1773.62 1517.37 Q1770.01 1517.37 1768.18 1520.93 Q1766.37 1524.47 1766.37 1531.6 Q1766.37 1538.71 1768.18 1542.27 Q1770.01 1545.82 1773.62 1545.82 Q1777.25 1545.82 1779.06 1542.27 Q1780.89 1538.71 1780.89 1531.6 Q1780.89 1524.47 1779.06 1520.93 Q1777.25 1517.37 1773.62 1517.37 M1773.62 1513.66 Q1779.43 1513.66 1782.49 1518.27 Q1785.56 1522.85 1785.56 1531.6 Q1785.56 1540.33 1782.49 1544.94 Q1779.43 1549.52 1773.62 1549.52 Q1767.81 1549.52 1764.73 1544.94 Q1761.68 1540.33 1761.68 1531.6 Q1761.68 1522.85 1764.73 1518.27 Q1767.81 1513.66 1773.62 1513.66 Z\" fill=\"#000000\" fill-rule=\"evenodd\" fill-opacity=\"1\" /><path clip-path=\"url(#clip240)\" d=\"M2268.12 1544.91 L2284.44 1544.91 L2284.44 1548.85 L2262.49 1548.85 L2262.49 1544.91 Q2265.15 1542.16 2269.74 1537.53 Q2274.34 1532.88 2275.52 1531.53 Q2277.77 1529.01 2278.65 1527.27 Q2279.55 1525.51 2279.55 1523.82 Q2279.55 1521.07 2277.61 1519.33 Q2275.69 1517.6 2272.58 1517.6 Q2270.39 1517.6 2267.93 1518.36 Q2265.5 1519.13 2262.72 1520.68 L2262.72 1515.95 Q2265.55 1514.82 2268 1514.24 Q2270.45 1513.66 2272.49 1513.66 Q2277.86 1513.66 2281.06 1516.35 Q2284.25 1519.03 2284.25 1523.52 Q2284.25 1525.65 2283.44 1527.57 Q2282.65 1529.47 2280.55 1532.07 Q2279.97 1532.74 2276.87 1535.95 Q2273.76 1539.15 2268.12 1544.91 Z\" fill=\"#000000\" fill-rule=\"evenodd\" fill-opacity=\"1\" /><path clip-path=\"url(#clip240)\" d=\"M2304.25 1517.37 Q2300.64 1517.37 2298.81 1520.93 Q2297.01 1524.47 2297.01 1531.6 Q2297.01 1538.71 2298.81 1542.27 Q2300.64 1545.82 2304.25 1545.82 Q2307.88 1545.82 2309.69 1542.27 Q2311.52 1538.71 2311.52 1531.6 Q2311.52 1524.47 2309.69 1520.93 Q2307.88 1517.37 2304.25 1517.37 M2304.25 1513.66 Q2310.06 1513.66 2313.12 1518.27 Q2316.2 1522.85 2316.2 1531.6 Q2316.2 1540.33 2313.12 1544.94 Q2310.06 1549.52 2304.25 1549.52 Q2298.44 1549.52 2295.36 1544.94 Q2292.31 1540.33 2292.31 1531.6 Q2292.31 1522.85 2295.36 1518.27 Q2298.44 1513.66 2304.25 1513.66 Z\" fill=\"#000000\" fill-rule=\"evenodd\" fill-opacity=\"1\" /><polyline clip-path=\"url(#clip242)\" style=\"stroke:#000000; stroke-linecap:butt; stroke-linejoin:round; stroke-width:2; stroke-opacity:0.1; fill:none\" points=\"\n",
       "  112.177,1445.72 2352.76,1445.72 \n",
       "  \"/>\n",
       "<polyline clip-path=\"url(#clip242)\" style=\"stroke:#000000; stroke-linecap:butt; stroke-linejoin:round; stroke-width:2; stroke-opacity:0.1; fill:none\" points=\"\n",
       "  112.177,1194.2 2352.76,1194.2 \n",
       "  \"/>\n",
       "<polyline clip-path=\"url(#clip242)\" style=\"stroke:#000000; stroke-linecap:butt; stroke-linejoin:round; stroke-width:2; stroke-opacity:0.1; fill:none\" points=\"\n",
       "  112.177,942.692 2352.76,942.692 \n",
       "  \"/>\n",
       "<polyline clip-path=\"url(#clip242)\" style=\"stroke:#000000; stroke-linecap:butt; stroke-linejoin:round; stroke-width:2; stroke-opacity:0.1; fill:none\" points=\"\n",
       "  112.177,691.18 2352.76,691.18 \n",
       "  \"/>\n",
       "<polyline clip-path=\"url(#clip242)\" style=\"stroke:#000000; stroke-linecap:butt; stroke-linejoin:round; stroke-width:2; stroke-opacity:0.1; fill:none\" points=\"\n",
       "  112.177,439.669 2352.76,439.669 \n",
       "  \"/>\n",
       "<polyline clip-path=\"url(#clip242)\" style=\"stroke:#000000; stroke-linecap:butt; stroke-linejoin:round; stroke-width:2; stroke-opacity:0.1; fill:none\" points=\"\n",
       "  112.177,188.157 2352.76,188.157 \n",
       "  \"/>\n",
       "<polyline clip-path=\"url(#clip240)\" style=\"stroke:#000000; stroke-linecap:butt; stroke-linejoin:round; stroke-width:4; stroke-opacity:1; fill:none\" points=\"\n",
       "  112.177,1486.45 112.177,47.2441 \n",
       "  \"/>\n",
       "<polyline clip-path=\"url(#clip240)\" style=\"stroke:#000000; stroke-linecap:butt; stroke-linejoin:round; stroke-width:4; stroke-opacity:1; fill:none\" points=\"\n",
       "  112.177,1445.72 131.075,1445.72 \n",
       "  \"/>\n",
       "<polyline clip-path=\"url(#clip240)\" style=\"stroke:#000000; stroke-linecap:butt; stroke-linejoin:round; stroke-width:4; stroke-opacity:1; fill:none\" points=\"\n",
       "  112.177,1194.2 131.075,1194.2 \n",
       "  \"/>\n",
       "<polyline clip-path=\"url(#clip240)\" style=\"stroke:#000000; stroke-linecap:butt; stroke-linejoin:round; stroke-width:4; stroke-opacity:1; fill:none\" points=\"\n",
       "  112.177,942.692 131.075,942.692 \n",
       "  \"/>\n",
       "<polyline clip-path=\"url(#clip240)\" style=\"stroke:#000000; stroke-linecap:butt; stroke-linejoin:round; stroke-width:4; stroke-opacity:1; fill:none\" points=\"\n",
       "  112.177,691.18 131.075,691.18 \n",
       "  \"/>\n",
       "<polyline clip-path=\"url(#clip240)\" style=\"stroke:#000000; stroke-linecap:butt; stroke-linejoin:round; stroke-width:4; stroke-opacity:1; fill:none\" points=\"\n",
       "  112.177,439.669 131.075,439.669 \n",
       "  \"/>\n",
       "<polyline clip-path=\"url(#clip240)\" style=\"stroke:#000000; stroke-linecap:butt; stroke-linejoin:round; stroke-width:4; stroke-opacity:1; fill:none\" points=\"\n",
       "  112.177,188.157 131.075,188.157 \n",
       "  \"/>\n",
       "<path clip-path=\"url(#clip240)\" d=\"M64.2328 1431.51 Q60.6217 1431.51 58.793 1435.08 Q56.9875 1438.62 56.9875 1445.75 Q56.9875 1452.86 58.793 1456.42 Q60.6217 1459.96 64.2328 1459.96 Q67.867 1459.96 69.6726 1456.42 Q71.5013 1452.86 71.5013 1445.75 Q71.5013 1438.62 69.6726 1435.08 Q67.867 1431.51 64.2328 1431.51 M64.2328 1427.81 Q70.0429 1427.81 73.0985 1432.42 Q76.1772 1437 76.1772 1445.75 Q76.1772 1454.48 73.0985 1459.08 Q70.0429 1463.67 64.2328 1463.67 Q58.4226 1463.67 55.344 1459.08 Q52.2884 1454.48 52.2884 1445.75 Q52.2884 1437 55.344 1432.42 Q58.4226 1427.81 64.2328 1427.81 Z\" fill=\"#000000\" fill-rule=\"evenodd\" fill-opacity=\"1\" /><path clip-path=\"url(#clip240)\" d=\"M56.2699 1207.55 L63.9087 1207.55 L63.9087 1181.18 L55.5986 1182.85 L55.5986 1178.59 L63.8624 1176.92 L68.5383 1176.92 L68.5383 1207.55 L76.1772 1207.55 L76.1772 1211.48 L56.2699 1211.48 L56.2699 1207.55 Z\" fill=\"#000000\" fill-rule=\"evenodd\" fill-opacity=\"1\" /><path clip-path=\"url(#clip240)\" d=\"M59.8578 956.037 L76.1772 956.037 L76.1772 959.972 L54.2328 959.972 L54.2328 956.037 Q56.8949 953.282 61.4782 948.653 Q66.0846 944 67.2652 942.658 Q69.5105 940.134 70.3902 938.398 Q71.2929 936.639 71.2929 934.949 Q71.2929 932.195 69.3485 930.459 Q67.4272 928.722 64.3254 928.722 Q62.1263 928.722 59.6726 929.486 Q57.2421 930.25 54.4643 931.801 L54.4643 927.079 Q57.2884 925.945 59.7421 925.366 Q62.1958 924.787 64.2328 924.787 Q69.6031 924.787 72.7976 927.472 Q75.992 930.158 75.992 934.648 Q75.992 936.778 75.1818 938.699 Q74.3948 940.597 72.2883 943.19 Q71.7096 943.861 68.6078 947.079 Q65.5059 950.273 59.8578 956.037 Z\" fill=\"#000000\" fill-rule=\"evenodd\" fill-opacity=\"1\" /><path clip-path=\"url(#clip240)\" d=\"M69.0476 689.826 Q72.404 690.544 74.279 692.812 Q76.1772 695.081 76.1772 698.414 Q76.1772 703.53 72.6587 706.331 Q69.1402 709.132 62.6587 709.132 Q60.4828 709.132 58.168 708.692 Q55.8764 708.275 53.4227 707.419 L53.4227 702.905 Q55.3671 704.039 57.6819 704.618 Q59.9967 705.197 62.5198 705.197 Q66.918 705.197 69.2096 703.46 Q71.5244 701.724 71.5244 698.414 Q71.5244 695.359 69.3717 693.646 Q67.242 691.91 63.4226 691.91 L59.3949 691.91 L59.3949 688.067 L63.6078 688.067 Q67.0569 688.067 68.8855 686.701 Q70.7142 685.312 70.7142 682.72 Q70.7142 680.058 68.8161 678.646 Q66.9411 677.211 63.4226 677.211 Q61.5013 677.211 59.3023 677.627 Q57.1032 678.044 54.4643 678.924 L54.4643 674.757 Q57.1264 674.016 59.4412 673.646 Q61.7791 673.275 63.8393 673.275 Q69.1633 673.275 72.2652 675.706 Q75.367 678.113 75.367 682.234 Q75.367 685.104 73.7235 687.095 Q72.08 689.062 69.0476 689.826 Z\" fill=\"#000000\" fill-rule=\"evenodd\" fill-opacity=\"1\" /><path clip-path=\"url(#clip240)\" d=\"M66.5939 426.463 L54.7884 444.912 L66.5939 444.912 L66.5939 426.463 M65.367 422.389 L71.2466 422.389 L71.2466 444.912 L76.1772 444.912 L76.1772 448.801 L71.2466 448.801 L71.2466 456.949 L66.5939 456.949 L66.5939 448.801 L50.9921 448.801 L50.9921 444.287 L65.367 422.389 Z\" fill=\"#000000\" fill-rule=\"evenodd\" fill-opacity=\"1\" /><path clip-path=\"url(#clip240)\" d=\"M55.2745 170.877 L73.6309 170.877 L73.6309 174.812 L59.5569 174.812 L59.5569 183.284 Q60.5754 182.937 61.5939 182.775 Q62.6124 182.59 63.6309 182.59 Q69.418 182.59 72.7976 185.761 Q76.1772 188.932 76.1772 194.349 Q76.1772 199.928 72.705 203.029 Q69.2328 206.108 62.9134 206.108 Q60.7374 206.108 58.4689 205.738 Q56.2236 205.367 53.8162 204.627 L53.8162 199.928 Q55.8995 201.062 58.1217 201.617 Q60.3439 202.173 62.8208 202.173 Q66.8254 202.173 69.1633 200.066 Q71.5013 197.96 71.5013 194.349 Q71.5013 190.738 69.1633 188.631 Q66.8254 186.525 62.8208 186.525 Q60.9458 186.525 59.0708 186.942 Q57.2189 187.358 55.2745 188.238 L55.2745 170.877 Z\" fill=\"#000000\" fill-rule=\"evenodd\" fill-opacity=\"1\" /><polyline clip-path=\"url(#clip242)\" style=\"stroke:#009af9; stroke-linecap:butt; stroke-linejoin:round; stroke-width:4; stroke-opacity:1; fill:none\" points=\"\n",
       "  175.59,598.176 180.887,597.478 186.185,596.775 191.483,596.065 196.78,595.348 202.078,594.624 207.376,593.893 212.673,593.155 217.971,592.41 223.268,591.658 \n",
       "  228.566,590.899 233.864,590.132 239.161,589.358 244.459,588.576 249.757,587.786 255.054,586.989 260.352,586.183 265.649,585.37 270.947,584.548 276.245,583.718 \n",
       "  281.542,582.879 286.84,582.032 292.138,581.176 297.435,580.311 302.733,579.437 308.03,578.554 313.328,577.662 318.626,576.76 323.923,575.849 329.221,574.928 \n",
       "  334.519,573.998 339.816,573.057 345.114,572.106 350.412,571.144 355.709,570.172 361.007,569.19 366.304,568.196 371.602,567.192 376.9,566.176 382.197,565.148 \n",
       "  387.495,564.109 392.793,563.058 398.09,561.995 403.388,560.92 408.685,559.832 413.983,558.732 419.281,557.618 424.578,556.492 429.876,555.352 435.174,554.198 \n",
       "  440.471,553.03 445.769,551.848 451.066,550.652 456.364,549.441 461.662,548.215 466.959,546.974 472.257,545.717 477.555,544.445 482.852,543.156 488.15,541.851 \n",
       "  493.447,540.529 498.745,539.19 504.043,537.833 509.34,536.459 514.638,535.067 519.936,533.656 525.233,532.226 530.531,530.777 535.828,529.309 541.126,527.82 \n",
       "  546.424,526.311 551.721,524.781 557.019,523.23 562.317,521.658 567.614,520.063 572.912,518.446 578.209,516.805 583.507,515.141 588.805,513.453 594.102,511.741 \n",
       "  599.4,510.004 604.698,508.241 609.995,506.452 615.293,504.637 620.591,502.794 625.888,500.924 631.186,499.025 636.483,497.097 641.781,495.14 647.079,493.153 \n",
       "  652.376,491.135 657.674,489.086 662.972,487.004 668.269,484.89 673.567,482.742 678.864,480.559 684.162,478.342 689.46,476.09 694.757,473.8 700.055,471.474 \n",
       "  705.353,469.109 710.65,466.705 715.948,464.262 721.245,461.778 726.543,459.252 731.841,456.685 737.138,454.073 742.436,451.418 747.734,448.717 753.031,445.97 \n",
       "  758.329,443.176 763.626,440.334 768.924,437.443 774.222,434.501 779.519,431.508 784.817,428.463 790.115,425.364 795.412,422.211 800.71,419.002 806.007,415.736 \n",
       "  811.305,412.412 816.603,409.029 821.9,405.586 827.198,402.081 832.496,398.514 837.793,394.883 843.091,391.187 848.389,387.425 853.686,383.596 858.984,379.698 \n",
       "  864.281,375.73 869.579,371.692 874.877,367.582 880.174,363.399 885.472,359.142 890.77,354.809 896.067,350.399 901.365,345.913 906.662,341.347 911.96,336.702 \n",
       "  917.258,331.976 922.555,327.169 927.853,322.279 933.151,317.306 938.448,312.249 943.746,307.108 949.043,301.882 954.341,296.571 959.639,291.174 964.936,285.693 \n",
       "  970.234,280.128 975.532,274.479 980.829,268.748 986.127,262.937 991.424,257.048 996.722,251.083 1002.02,245.047 1007.32,238.943 1012.61,232.778 1017.91,226.556 \n",
       "  1023.21,220.285 1028.51,213.975 1033.81,207.633 1039.1,201.272 1044.4,194.903 1049.7,188.542 1055,182.203 1060.29,175.904 1065.59,169.664 1070.89,163.503 \n",
       "  1076.19,157.445 1081.48,151.511 1086.78,145.727 1092.08,140.12 1097.38,134.713 1102.67,129.535 1107.97,124.609 1113.27,119.96 1118.57,115.608 1123.87,111.572 \n",
       "  1129.16,107.865 1134.46,104.495 1139.76,101.466 1145.06,98.7769 1150.35,96.4204 1155.65,94.3859 1160.95,92.6591 1166.25,91.2243 1171.54,90.0656 1176.84,89.1687 \n",
       "  1182.14,88.5233 1187.44,88.1246 1192.73,87.9763 1198.03,88.0932 1203.33,88.5072 1208.63,89.2758 1213.92,90.502 1219.22,92.3799 1224.52,95.3365 1229.82,100.892 \n",
       "  1235.12,134.374 1240.41,196.706 1245.71,270.715 1251.01,348.027 1256.31,424.493 1261.6,498.561 1266.9,569.487 1272.2,636.908 1277.5,700.718 1282.79,760.933 \n",
       "  1288.09,817.619 1293.39,870.858 1298.69,920.739 1303.98,967.363 1309.28,1010.83 1314.58,1051.26 1319.88,1088.76 1325.18,1123.45 1330.47,1155.47 1335.77,1184.95 \n",
       "  1341.07,1212.04 1346.37,1236.86 1351.66,1259.55 1356.96,1280.26 1362.26,1299.11 1367.56,1316.23 1372.85,1331.74 1378.15,1345.76 1383.45,1358.4 1388.75,1369.78 \n",
       "  1394.04,1379.98 1399.34,1389.11 1404.64,1397.26 1409.94,1404.5 1415.23,1410.92 1420.53,1416.59 1425.83,1421.57 1431.13,1425.92 1436.43,1429.71 1441.72,1432.98 \n",
       "  1447.02,1435.77 1452.32,1438.14 1457.62,1440.12 1462.91,1441.74 1468.21,1443.05 1473.51,1444.06 1478.81,1444.81 1484.1,1445.32 1489.4,1445.62 1494.7,1445.72 \n",
       "  1500,1445.64 1505.29,1445.4 1510.59,1445.02 1515.89,1444.51 1521.19,1443.88 1526.48,1443.14 1531.78,1442.31 1537.08,1441.4 1542.38,1440.41 1547.68,1439.35 \n",
       "  1552.97,1438.23 1558.27,1437.06 1563.57,1435.84 1568.87,1434.58 1574.16,1433.28 1579.46,1431.95 1584.76,1430.6 1590.06,1429.22 1595.35,1427.82 1600.65,1426.4 \n",
       "  1605.95,1424.98 1611.25,1423.54 1616.54,1422.09 1621.84,1420.64 1627.14,1419.18 1632.44,1417.72 1637.74,1416.26 1643.03,1414.8 1648.33,1413.35 1653.63,1411.9 \n",
       "  1658.93,1410.45 1664.22,1409.01 1669.52,1407.58 1674.82,1406.15 1680.12,1404.74 1685.41,1403.33 1690.71,1401.93 1696.01,1400.55 1701.31,1399.17 1706.6,1397.81 \n",
       "  1711.9,1396.45 1717.2,1395.11 1722.5,1393.78 1727.79,1392.47 1733.09,1391.16 1738.39,1389.87 1743.69,1388.6 1748.99,1387.33 1754.28,1386.08 1759.58,1384.84 \n",
       "  1764.88,1383.62 1770.18,1382.41 1775.47,1381.21 1780.77,1380.02 1786.07,1378.85 1791.37,1377.69 1796.66,1376.55 1801.96,1375.41 1807.26,1374.29 1812.56,1373.19 \n",
       "  1817.85,1372.09 1823.15,1371.01 1828.45,1369.94 1833.75,1368.88 1839.04,1367.84 1844.34,1366.81 1849.64,1365.79 1854.94,1364.78 1860.24,1363.78 1865.53,1362.8 \n",
       "  1870.83,1361.83 1876.13,1360.86 1881.43,1359.91 1886.72,1358.97 1892.02,1358.05 1897.32,1357.13 1902.62,1356.22 1907.91,1355.32 1913.21,1354.44 1918.51,1353.56 \n",
       "  1923.81,1352.7 1929.1,1351.84 1934.4,1351 1939.7,1350.16 1945,1349.33 1950.3,1348.52 1955.59,1347.71 1960.89,1346.91 1966.19,1346.12 1971.49,1345.34 \n",
       "  1976.78,1344.57 1982.08,1343.8 1987.38,1343.05 1992.68,1342.3 1997.97,1341.57 2003.27,1340.84 2008.57,1340.11 2013.87,1339.4 2019.16,1338.69 2024.46,1337.99 \n",
       "  2029.76,1337.3 2035.06,1336.62 2040.35,1335.94 2045.65,1335.28 2050.95,1334.61 2056.25,1333.96 2061.55,1333.31 2066.84,1332.67 2072.14,1332.04 2077.44,1331.41 \n",
       "  2082.74,1330.79 2088.03,1330.17 2093.33,1329.57 2098.63,1328.96 2103.93,1328.37 2109.22,1327.78 2114.52,1327.19 2119.82,1326.62 2125.12,1326.05 2130.41,1325.48 \n",
       "  2135.71,1324.92 2141.01,1324.36 2146.31,1323.81 2151.6,1323.27 2156.9,1322.73 2162.2,1322.2 2167.5,1321.67 2172.8,1321.15 2178.09,1320.63 2183.39,1320.12 \n",
       "  2188.69,1319.61 2193.99,1319.11 2199.28,1318.61 2204.58,1318.12 2209.88,1317.63 2215.18,1317.14 2220.47,1316.66 2225.77,1316.19 2231.07,1315.72 2236.37,1315.25 \n",
       "  2241.66,1314.79 2246.96,1314.33 2252.26,1313.88 2257.56,1313.43 2262.86,1312.98 2268.15,1312.54 2273.45,1312.11 2278.75,1311.67 2284.05,1311.24 2289.34,1310.82 \n",
       "  \n",
       "  \"/>\n",
       "<polyline clip-path=\"url(#clip242)\" style=\"stroke:#e26f46; stroke-linecap:butt; stroke-linejoin:round; stroke-width:4; stroke-opacity:1; fill:none\" points=\"\n",
       "  1192.73,2925.65 1192.73,-1391.96 \n",
       "  \"/>\n",
       "<polyline clip-path=\"url(#clip242)\" style=\"stroke:#3da44d; stroke-linecap:butt; stroke-linejoin:round; stroke-width:4; stroke-opacity:1; fill:none\" points=\"\n",
       "  1494.7,2925.65 1494.7,-1391.96 \n",
       "  \"/>\n",
       "<polyline clip-path=\"url(#clip242)\" style=\"stroke:#c271d2; stroke-linecap:butt; stroke-linejoin:round; stroke-width:4; stroke-opacity:1; fill:none\" points=\"\n",
       "  1494.7,2925.65 1494.7,-1391.96 \n",
       "  \"/>\n",
       "<path clip-path=\"url(#clip240)\" d=\"\n",
       "M1834.77 354.418 L2278.07 354.418 L2278.07 95.2176 L1834.77 95.2176  Z\n",
       "  \" fill=\"#ffffff\" fill-rule=\"evenodd\" fill-opacity=\"1\"/>\n",
       "<polyline clip-path=\"url(#clip240)\" style=\"stroke:#000000; stroke-linecap:butt; stroke-linejoin:round; stroke-width:4; stroke-opacity:1; fill:none\" points=\"\n",
       "  1834.77,354.418 2278.07,354.418 2278.07,95.2176 1834.77,95.2176 1834.77,354.418 \n",
       "  \"/>\n",
       "<polyline clip-path=\"url(#clip240)\" style=\"stroke:#009af9; stroke-linecap:butt; stroke-linejoin:round; stroke-width:4; stroke-opacity:1; fill:none\" points=\"\n",
       "  1859.66,147.058 2009.03,147.058 \n",
       "  \"/>\n",
       "<path clip-path=\"url(#clip240)\" d=\"M2049.95 132.949 Q2044.85 132.949 2041.85 136.745 Q2038.86 140.541 2038.86 147.092 Q2038.86 153.62 2041.85 157.416 Q2044.85 161.213 2049.95 161.213 Q2055.04 161.213 2058 157.416 Q2060.99 153.62 2060.99 147.092 Q2060.99 140.541 2058 136.745 Q2055.04 132.949 2049.95 132.949 M2056.5 163.713 L2062.66 170.449 L2057.01 170.449 L2051.89 164.916 Q2051.13 164.963 2050.71 164.986 Q2050.32 165.009 2049.95 165.009 Q2042.66 165.009 2038.28 160.148 Q2033.93 155.264 2033.93 147.092 Q2033.93 138.898 2038.28 134.037 Q2042.66 129.153 2049.95 129.153 Q2057.22 129.153 2061.57 134.037 Q2065.92 138.898 2065.92 147.092 Q2065.92 153.111 2063.49 157.393 Q2061.08 161.676 2056.5 163.713 Z\" fill=\"#000000\" fill-rule=\"evenodd\" fill-opacity=\"1\" /><path clip-path=\"url(#clip240)\" d=\"M2094.6 148.689 L2094.6 164.338 L2090.34 164.338 L2090.34 148.828 Q2090.34 145.148 2088.91 143.319 Q2087.47 141.49 2084.6 141.49 Q2081.15 141.49 2079.16 143.69 Q2077.17 145.889 2077.17 149.685 L2077.17 164.338 L2072.89 164.338 L2072.89 138.412 L2077.17 138.412 L2077.17 142.44 Q2078.7 140.102 2080.76 138.944 Q2082.84 137.787 2085.55 137.787 Q2090.02 137.787 2092.31 140.565 Q2094.6 143.319 2094.6 148.689 Z\" fill=\"#000000\" fill-rule=\"evenodd\" fill-opacity=\"1\" /><polyline clip-path=\"url(#clip240)\" style=\"stroke:#e26f46; stroke-linecap:butt; stroke-linejoin:round; stroke-width:4; stroke-opacity:1; fill:none\" points=\"\n",
       "  1859.66,198.898 2009.03,198.898 \n",
       "  \"/>\n",
       "<path clip-path=\"url(#clip240)\" d=\"M2033.93 181.618 L2040.9 181.618 L2049.72 205.136 L2058.58 181.618 L2065.55 181.618 L2065.55 216.178 L2060.99 216.178 L2060.99 185.83 L2052.08 209.534 L2047.38 209.534 L2038.47 185.83 L2038.47 216.178 L2033.93 216.178 L2033.93 181.618 Z\" fill=\"#000000\" fill-rule=\"evenodd\" fill-opacity=\"1\" /><path clip-path=\"url(#clip240)\" d=\"M2086.43 203.145 Q2081.27 203.145 2079.28 204.326 Q2077.28 205.506 2077.28 208.354 Q2077.28 210.622 2078.77 211.965 Q2080.27 213.284 2082.84 213.284 Q2086.38 213.284 2088.51 210.784 Q2090.66 208.261 2090.66 204.094 L2090.66 203.145 L2086.43 203.145 M2094.92 201.386 L2094.92 216.178 L2090.66 216.178 L2090.66 212.242 Q2089.21 214.603 2087.03 215.738 Q2084.85 216.849 2081.71 216.849 Q2077.72 216.849 2075.36 214.627 Q2073.03 212.381 2073.03 208.631 Q2073.03 204.256 2075.94 202.034 Q2078.88 199.812 2084.69 199.812 L2090.66 199.812 L2090.66 199.395 Q2090.66 196.455 2088.72 194.858 Q2086.8 193.238 2083.3 193.238 Q2081.08 193.238 2078.97 193.77 Q2076.87 194.303 2074.92 195.367 L2074.92 191.432 Q2077.26 190.53 2079.46 190.09 Q2081.66 189.627 2083.74 189.627 Q2089.37 189.627 2092.15 192.543 Q2094.92 195.46 2094.92 201.386 Z\" fill=\"#000000\" fill-rule=\"evenodd\" fill-opacity=\"1\" /><path clip-path=\"url(#clip240)\" d=\"M2125.25 190.252 L2115.87 202.867 L2125.73 216.178 L2120.71 216.178 L2113.16 205.992 L2105.62 216.178 L2100.59 216.178 L2110.66 202.613 L2101.45 190.252 L2106.47 190.252 L2113.35 199.488 L2120.22 190.252 L2125.25 190.252 Z\" fill=\"#000000\" fill-rule=\"evenodd\" fill-opacity=\"1\" /><path clip-path=\"url(#clip240)\" d=\"M2161.03 184.789 Q2155.94 184.789 2152.93 188.585 Q2149.95 192.381 2149.95 198.932 Q2149.95 205.46 2152.93 209.256 Q2155.94 213.053 2161.03 213.053 Q2166.13 213.053 2169.09 209.256 Q2172.08 205.46 2172.08 198.932 Q2172.08 192.381 2169.09 188.585 Q2166.13 184.789 2161.03 184.789 M2167.59 215.553 L2173.74 222.289 L2168.09 222.289 L2162.98 216.756 Q2162.21 216.803 2161.8 216.826 Q2161.4 216.849 2161.03 216.849 Q2153.74 216.849 2149.37 211.988 Q2145.02 207.104 2145.02 198.932 Q2145.02 190.738 2149.37 185.877 Q2153.74 180.993 2161.03 180.993 Q2168.3 180.993 2172.65 185.877 Q2177.01 190.738 2177.01 198.932 Q2177.01 204.951 2174.58 209.233 Q2172.17 213.516 2167.59 215.553 Z\" fill=\"#000000\" fill-rule=\"evenodd\" fill-opacity=\"1\" /><path clip-path=\"url(#clip240)\" d=\"M2205.69 200.529 L2205.69 216.178 L2201.43 216.178 L2201.43 200.668 Q2201.43 196.988 2199.99 195.159 Q2198.56 193.33 2195.69 193.33 Q2192.24 193.33 2190.25 195.53 Q2188.26 197.729 2188.26 201.525 L2188.26 216.178 L2183.97 216.178 L2183.97 190.252 L2188.26 190.252 L2188.26 194.28 Q2189.78 191.942 2191.84 190.784 Q2193.93 189.627 2196.64 189.627 Q2201.1 189.627 2203.4 192.405 Q2205.69 195.159 2205.69 200.529 Z\" fill=\"#000000\" fill-rule=\"evenodd\" fill-opacity=\"1\" /><polyline clip-path=\"url(#clip240)\" style=\"stroke:#3da44d; stroke-linecap:butt; stroke-linejoin:round; stroke-width:4; stroke-opacity:1; fill:none\" points=\"\n",
       "  1859.66,250.738 2009.03,250.738 \n",
       "  \"/>\n",
       "<path clip-path=\"url(#clip240)\" d=\"M2033.93 233.458 L2040.9 233.458 L2049.72 256.976 L2058.58 233.458 L2065.55 233.458 L2065.55 268.018 L2060.99 268.018 L2060.99 237.67 L2052.08 261.374 L2047.38 261.374 L2038.47 237.67 L2038.47 268.018 L2033.93 268.018 L2033.93 233.458 Z\" fill=\"#000000\" fill-rule=\"evenodd\" fill-opacity=\"1\" /><path clip-path=\"url(#clip240)\" d=\"M2074.65 242.092 L2078.91 242.092 L2078.91 268.018 L2074.65 268.018 L2074.65 242.092 M2074.65 231.999 L2078.91 231.999 L2078.91 237.393 L2074.65 237.393 L2074.65 231.999 Z\" fill=\"#000000\" fill-rule=\"evenodd\" fill-opacity=\"1\" /><path clip-path=\"url(#clip240)\" d=\"M2109.37 252.369 L2109.37 268.018 L2105.11 268.018 L2105.11 252.508 Q2105.11 248.828 2103.67 246.999 Q2102.24 245.17 2099.37 245.17 Q2095.92 245.17 2093.93 247.37 Q2091.94 249.569 2091.94 253.365 L2091.94 268.018 L2087.66 268.018 L2087.66 242.092 L2091.94 242.092 L2091.94 246.12 Q2093.47 243.782 2095.53 242.624 Q2097.61 241.467 2100.32 241.467 Q2104.78 241.467 2107.08 244.245 Q2109.37 246.999 2109.37 252.369 Z\" fill=\"#000000\" fill-rule=\"evenodd\" fill-opacity=\"1\" /><path clip-path=\"url(#clip240)\" d=\"M2147.15 236.629 Q2142.05 236.629 2139.04 240.425 Q2136.06 244.221 2136.06 250.772 Q2136.06 257.3 2139.04 261.096 Q2142.05 264.893 2147.15 264.893 Q2152.24 264.893 2155.2 261.096 Q2158.19 257.3 2158.19 250.772 Q2158.19 244.221 2155.2 240.425 Q2152.24 236.629 2147.15 236.629 M2153.7 267.393 L2159.85 274.129 L2154.21 274.129 L2149.09 268.596 Q2148.33 268.643 2147.91 268.666 Q2147.52 268.689 2147.15 268.689 Q2139.85 268.689 2135.48 263.828 Q2131.13 258.944 2131.13 250.772 Q2131.13 242.578 2135.48 237.717 Q2139.85 232.833 2147.15 232.833 Q2154.41 232.833 2158.77 237.717 Q2163.12 242.578 2163.12 250.772 Q2163.12 256.791 2160.69 261.073 Q2158.28 265.356 2153.7 267.393 Z\" fill=\"#000000\" fill-rule=\"evenodd\" fill-opacity=\"1\" /><path clip-path=\"url(#clip240)\" d=\"M2191.8 252.369 L2191.8 268.018 L2187.54 268.018 L2187.54 252.508 Q2187.54 248.828 2186.1 246.999 Q2184.67 245.17 2181.8 245.17 Q2178.35 245.17 2176.36 247.37 Q2174.37 249.569 2174.37 253.365 L2174.37 268.018 L2170.09 268.018 L2170.09 242.092 L2174.37 242.092 L2174.37 246.12 Q2175.9 243.782 2177.96 242.624 Q2180.04 241.467 2182.75 241.467 Q2187.21 241.467 2189.51 244.245 Q2191.8 246.999 2191.8 252.369 Z\" fill=\"#000000\" fill-rule=\"evenodd\" fill-opacity=\"1\" /><polyline clip-path=\"url(#clip240)\" style=\"stroke:#c271d2; stroke-linecap:butt; stroke-linejoin:round; stroke-width:4; stroke-opacity:1; fill:none\" points=\"\n",
       "  1859.66,302.578 2009.03,302.578 \n",
       "  \"/>\n",
       "<path clip-path=\"url(#clip240)\" d=\"M2033.93 285.298 L2063.16 285.298 L2063.16 289.233 L2050.9 289.233 L2050.9 319.858 L2046.2 319.858 L2046.2 289.233 L2033.93 289.233 L2033.93 285.298 Z\" fill=\"#000000\" fill-rule=\"evenodd\" fill-opacity=\"1\" /><path clip-path=\"url(#clip240)\" d=\"M2059.85 309.626 L2059.85 293.932 L2064.11 293.932 L2064.11 309.464 Q2064.11 313.145 2065.55 314.996 Q2066.98 316.825 2069.85 316.825 Q2073.3 316.825 2075.29 314.626 Q2077.31 312.427 2077.31 308.631 L2077.31 293.932 L2081.57 293.932 L2081.57 319.858 L2077.31 319.858 L2077.31 315.876 Q2075.76 318.237 2073.7 319.395 Q2071.66 320.529 2068.95 320.529 Q2064.48 320.529 2062.17 317.751 Q2059.85 314.973 2059.85 309.626 M2070.57 293.307 L2070.57 293.307 Z\" fill=\"#000000\" fill-rule=\"evenodd\" fill-opacity=\"1\" /><path clip-path=\"url(#clip240)\" d=\"M2105.36 297.913 Q2104.65 297.497 2103.79 297.311 Q2102.96 297.103 2101.94 297.103 Q2098.33 297.103 2096.38 299.464 Q2094.46 301.802 2094.46 306.2 L2094.46 319.858 L2090.18 319.858 L2090.18 293.932 L2094.46 293.932 L2094.46 297.96 Q2095.8 295.598 2097.96 294.464 Q2100.11 293.307 2103.19 293.307 Q2103.63 293.307 2104.16 293.376 Q2104.69 293.423 2105.34 293.538 L2105.36 297.913 Z\" fill=\"#000000\" fill-rule=\"evenodd\" fill-opacity=\"1\" /><path clip-path=\"url(#clip240)\" d=\"M2130.97 305.83 L2130.97 307.913 L2111.38 307.913 Q2111.66 312.311 2114.02 314.626 Q2116.4 316.918 2120.64 316.918 Q2123.09 316.918 2125.39 316.316 Q2127.7 315.714 2129.97 314.51 L2129.97 318.538 Q2127.68 319.51 2125.27 320.02 Q2122.86 320.529 2120.39 320.529 Q2114.18 320.529 2110.55 316.918 Q2106.94 313.307 2106.94 307.149 Q2106.94 300.784 2110.36 297.057 Q2113.81 293.307 2119.65 293.307 Q2124.88 293.307 2127.91 296.686 Q2130.97 300.043 2130.97 305.83 M2126.71 304.58 Q2126.66 301.085 2124.74 299.001 Q2122.84 296.918 2119.69 296.918 Q2116.13 296.918 2113.97 298.932 Q2111.84 300.946 2111.52 304.603 L2126.71 304.58 Z\" fill=\"#000000\" fill-rule=\"evenodd\" fill-opacity=\"1\" /><path clip-path=\"url(#clip240)\" d=\"M2170.43 303.422 L2155.69 303.422 Q2156.03 310.344 2157.63 313.284 Q2159.62 316.895 2163.07 316.895 Q2166.54 316.895 2168.46 313.26 Q2170.15 310.066 2170.43 303.422 M2170.36 299.487 Q2169.71 292.913 2168.46 290.598 Q2166.47 286.941 2163.07 286.941 Q2159.53 286.941 2157.65 290.552 Q2156.17 293.469 2155.73 299.487 L2170.36 299.487 M2163.07 283.469 Q2168.63 283.469 2171.8 288.376 Q2174.97 293.26 2174.97 301.918 Q2174.97 310.552 2171.8 315.459 Q2168.63 320.39 2163.07 320.39 Q2157.49 320.39 2154.34 315.459 Q2151.17 310.552 2151.17 301.918 Q2151.17 293.26 2154.34 288.376 Q2157.49 283.469 2163.07 283.469 Z\" fill=\"#000000\" fill-rule=\"evenodd\" fill-opacity=\"1\" /><path clip-path=\"url(#clip240)\" d=\"M2201.73 327.728 L2201.73 331.038 L2177.1 331.038 L2177.1 327.728 L2201.73 327.728 Z\" fill=\"#000000\" fill-rule=\"evenodd\" fill-opacity=\"1\" /><path clip-path=\"url(#clip240)\" d=\"M2216.33 288.376 Q2212.72 288.376 2210.9 291.941 Q2209.09 295.483 2209.09 302.612 Q2209.09 309.719 2210.9 313.284 Q2212.72 316.825 2216.33 316.825 Q2219.97 316.825 2221.77 313.284 Q2223.6 309.719 2223.6 302.612 Q2223.6 295.483 2221.77 291.941 Q2219.97 288.376 2216.33 288.376 M2216.33 284.673 Q2222.15 284.673 2225.2 289.279 Q2228.28 293.862 2228.28 302.612 Q2228.28 311.339 2225.2 315.946 Q2222.15 320.529 2216.33 320.529 Q2210.52 320.529 2207.45 315.946 Q2204.39 311.339 2204.39 302.612 Q2204.39 293.862 2207.45 289.279 Q2210.52 284.673 2216.33 284.673 Z\" fill=\"#000000\" fill-rule=\"evenodd\" fill-opacity=\"1\" /></svg>\n"
      ]
     },
     "metadata": {},
     "output_type": "display_data"
    }
   ],
   "source": [
    "A = [1 0; 0 1]\n",
    "n = 10^5\n",
    "\n",
    "result = zeros((400,2))\n",
    "(Y, X, Z1, Z2) = data(n)\n",
    "for i in 1:400\n",
    "    θ_i = -20 + 0.1 * i\n",
    "    result[i,1] = Qn(Y, X, Z1, Z2, θ_i, A)\n",
    "    result[i,2] = θ_i\n",
    "end\n",
    "\n",
    "plot(result[:,2], result[:,1], label = \"Qn\")\n",
    "vline!([result[argmax(result[:,1]),2]], label = \"Max Qn\")\n",
    "vline!([result[argmin(result[:,1]),2]], label = \"Min Qn\")\n",
    "vline!([5.0], label = \"Ture θ_0\")"
   ]
  },
  {
   "cell_type": "markdown",
   "metadata": {},
   "source": [
    "This criterion function successfully identified $\\theta_0$, since the argmin of $Q_n$ is very close to $\\theta_0$"
   ]
  },
  {
   "cell_type": "markdown",
   "metadata": {},
   "source": [
    "# (d)"
   ]
  },
  {
   "cell_type": "code",
   "execution_count": 7,
   "metadata": {},
   "outputs": [
    {
     "name": "stdout",
     "output_type": "stream",
     "text": [
      "[-5.0][4.933374518169704][4.933374518165532]"
     ]
    }
   ],
   "source": [
    "A = [1 0; 0 1]\n",
    "n = 10^5\n",
    "\n",
    "(Y, X, Z1, Z2) = data(n)\n",
    "\n",
    "result = optimize(θ -> Qn(Y, X, Z1, Z2, θ, A), [-5.0], NewtonTrustRegion(); autodiff = :forward)\n",
    "θ_1 = Optim.minimizer(result)\n",
    "\n",
    "result = optimize(θ -> Qn(Y, X, Z1, Z2, θ, A), [0.0], NewtonTrustRegion(); autodiff = :forward)\n",
    "θ_2 = Optim.minimizer(result)\n",
    "\n",
    "result = optimize(θ -> Qn(Y, X, Z1, Z2, θ, A), [20.0], NewtonTrustRegion(); autodiff = :forward)\n",
    "θ_3 = Optim.minimizer(result)\n",
    "\n",
    "\n",
    "print(θ_1, θ_2, θ_3 )"
   ]
  },
  {
   "cell_type": "markdown",
   "metadata": {},
   "source": [
    "We can see that, when we start from a positive value, the solutions correctly point to the optimal $\\theta$, while it stays at the starting point if we starts from $-5$. I guess, with this method, Julia will only search along the direction that makes the criterion function lower. Therefore, if we start from a negative number, Julia won't search the right side. Moreover, it can also detect that there is no minimum on the left side, which makes it stop searching. "
   ]
  },
  {
   "cell_type": "markdown",
   "metadata": {},
   "source": [
    "# (e)"
   ]
  },
  {
   "cell_type": "markdown",
   "metadata": {},
   "source": [
    "With efficient weighting matrix, we have:\n",
    "\n",
    "\\begin{equation}\n",
    "A_n^{*'} A_n^* \\longrightarrow_p A^{*'} A^* = (E[g(W_i, \\theta_0) g(W_i, \\theta_0)'])^{-1}  =\\Omega_0^{-1}\n",
    "\\end{equation}\n",
    "\n",
    "Therefore, we have:\n",
    "\n",
    "\n",
    "$$\n",
    "\\frac{\\partial^2 Q_n^*(\\theta_0)}{\\partial \\theta \\partial \\theta'} = \\left[ \\frac{1}{n} \\sum_{i = 1}^n  \\frac{\\partial g(W_i, \\theta_0)}{\\partial \\theta'}  \\right]' A_n^{*'} A_n^* \\left[ \\frac{1}{n} \\sum_{i = 1}^n  \\frac{\\partial g(W_i, \\theta_0)}{\\partial \\theta'}  \\right] + \\left[ \\frac{1}{n} \\sum_{i = 1}^n  \\frac{\\partial^2 g(W_i, \\theta_0)}{\\partial \\theta \\partial \\theta'}  \\right]' A_n^{*'} A_n^* \\left[ \\frac{1}{n} \\sum_{i = 1}^n   g(W_i, \\theta_0) \\right] $$\n",
    "\n",
    "$$ \\longrightarrow_p E\\left[ \\frac{\\partial g(W_i, \\theta_0)}{\\partial \\theta'}  \\right]' A^{*'} A^* E\\left[ \\frac{\\partial g(W_i, \\theta_0)}{\\partial \\theta'}  \\right]  = \\Gamma_0' \\Omega_0^{-1} \\Gamma_0 = V_0^{-1} \\\\\n",
    "$$\n",
    "\n",
    "Since we can estimate $\\theta_0$ consistantly,\n",
    "\n",
    "$$\n",
    "\\left( \\frac{\\partial^2 Q_n^*(\\hat{\\theta}_n)}{\\partial \\theta \\partial \\theta'} \\right)^{-1} = \\left( \\frac{\\partial^2 Q_n^*(\\theta_0)}{\\partial \\theta \\partial \\theta'} + \\frac{\\partial^3 Q_n^*(\\theta_0)}{\\partial \\theta \\partial \\theta' \\partial \\theta'} (\\hat{\\theta}_n - \\theta_0) \\right)^{-1}\n",
    "$$\n",
    "\n",
    "$$\n",
    "\\longrightarrow_p V_0\n",
    "$$\n"
   ]
  },
  {
   "cell_type": "markdown",
   "metadata": {},
   "source": [
    "# (f)"
   ]
  },
  {
   "cell_type": "code",
   "execution_count": 8,
   "metadata": {},
   "outputs": [
    {
     "data": {
      "text/plain": [
       "TwoStepGMM (generic function with 1 method)"
      ]
     },
     "metadata": {},
     "output_type": "display_data"
    }
   ],
   "source": [
    "function TwoStepGMM(Y,X, Z1, Z2)\n",
    "    A = [1 0; 0 1]\n",
    "    n = length(Y)\n",
    "    result1 = optimize(θ -> Qn(Y, X, Z1, Z2, θ, A), [0.0], NewtonTrustRegion(); autodiff = :forward)\n",
    "    θ_1 = Optim.minimizer(result1)\n",
    "    θ_1 = θ_1[1]\n",
    "\n",
    "    Z = [Z1 Z2]\n",
    "    U = Y - Λ(X,θ_1)\n",
    "    ZU = Z .* U\n",
    "\n",
    "    A1 = (ZU' * ZU) /n\n",
    "    A1 = inv(A1)\n",
    "\n",
    "    result2 = optimize(θ -> Qn(Y, X, Z1, Z2, θ, A1), [θ_1], NewtonTrustRegion(); autodiff = :forward)\n",
    "    θ_2 = Optim.minimizer(result2)\n",
    "    θ_2 = θ_2[1]\n",
    "\n",
    "    f(θ) = Qn(Y, X, Z1, Z2, θ, A1)\n",
    "    V = ForwardDiff.hessian(f, [θ_2])\n",
    "    V = V[1]\n",
    "    V = V^(-1)\n",
    "\n",
    "  \n",
    "    return (θ_2 = θ_2, V = V)\n",
    "end"
   ]
  },
  {
   "cell_type": "markdown",
   "metadata": {},
   "source": [
    "# (g)"
   ]
  },
  {
   "cell_type": "code",
   "execution_count": 9,
   "metadata": {},
   "outputs": [
    {
     "name": "stdout",
     "output_type": "stream",
     "text": [
      "┌─────────┬──────────┬──────────┐\n",
      "│\u001b[1m α = 0.1 \u001b[0m│\u001b[1m α = 0.05 \u001b[0m│\u001b[1m α = 0.01 \u001b[0m│\n",
      "├─────────┼──────────┼──────────┤\n",
      "│  0.9187 │   0.9492 │   0.9795 │\n",
      "└─────────┴──────────┴──────────┘\n"
     ]
    }
   ],
   "source": [
    "R = 10^4\n",
    "cover = zeros(3)\n",
    "for i in 1:R\n",
    "    (Y, X, Z1, Z2) = data(200)\n",
    "    (θ, V)  = TwoStepGMM(Y, X, Z1, Z2)\n",
    "    cover[1] +=   (abs(θ - θ_0) < quantile(Normal(0,1), 1 - 0.1/2) * sqrt(V/200)) /R\n",
    "    cover[2] +=   (abs(θ - θ_0) < quantile(Normal(0,1), 1 - 0.05/2) * sqrt(V/200)) /R\n",
    "    cover[3] +=   (abs(θ - θ_0) < quantile(Normal(0,1), 1 - 0.01/2) * sqrt(V/200)) /R\n",
    "end\n",
    "\n",
    "header = [\"α = 0.1\", \"α = 0.05\", \"α = 0.01\"]\n",
    "cover = cover'\n",
    "pretty_table(cover; header = header)\n",
    "\n",
    "\n"
   ]
  },
  {
   "cell_type": "markdown",
   "metadata": {},
   "source": [
    "We can see that the simulated coverage probability is pretty close to their nominal coverage level."
   ]
  }
 ],
 "metadata": {
  "kernelspec": {
   "display_name": "Julia 1.7.2",
   "language": "julia",
   "name": "julia-1.7"
  },
  "language_info": {
   "file_extension": ".jl",
   "mimetype": "application/julia",
   "name": "julia",
   "version": "1.7.2"
  }
 },
 "nbformat": 4,
 "nbformat_minor": 2
}
