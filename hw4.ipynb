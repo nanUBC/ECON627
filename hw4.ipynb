{
 "cells": [
  {
   "cell_type": "markdown",
   "metadata": {},
   "source": [
    "# Setting the Environment"
   ]
  },
  {
   "cell_type": "code",
   "execution_count": 1,
   "metadata": {},
   "outputs": [
    {
     "name": "stderr",
     "output_type": "stream",
     "text": [
      "\u001b[32m\u001b[1m  Activating\u001b[22m\u001b[39m environment at `~/Desktop/ECON 627/Project.toml`\n"
     ]
    }
   ],
   "source": [
    "using Pkg\n",
    "Pkg.activate(joinpath(pwd(),\"..\"))\n",
    "using Random, Distributions\n",
    "Random.seed!(1234)"
   ]
  },
  {
   "cell_type": "code",
   "execution_count": 7,
   "metadata": {},
   "outputs": [
    {
     "data": {
      "text/plain": [
       "0.15"
      ]
     },
     "metadata": {},
     "output_type": "display_data"
    }
   ],
   "source": [
    "const ρ = 0.9\n",
    "const β = 0.15"
   ]
  },
  {
   "cell_type": "code",
   "execution_count": 11,
   "metadata": {},
   "outputs": [
    {
     "data": {
      "text/plain": [
       "gendata (generic function with 1 method)"
      ]
     },
     "metadata": {},
     "output_type": "display_data"
    }
   ],
   "source": [
    "function gendata(n)\n",
    "    #generate w and z\n",
    "    W = rand(n)\n",
    "    Z = -0.5 .*(w .< 0.2) - 0.1 .*(w .>= 0.2).* (w.<0.4) + 0.1 .*(w .>= 0.4) .*(w.<0.6) + (w.>=0.6)\n",
    "\n",
    "    #generate ϵ, v and u\n",
    "    mvnormal = MvNormal([0;0], [1 ρ ; ρ 1])\n",
    "    err = rand(mvnormal, n)'\n",
    "\n",
    "    ϵ = err[:,1]\n",
    "    V = err[:,2]\n",
    "\n",
    "    U = (1 .+ Z) .* ϵ\n",
    "\n",
    "    #generate X and y\n",
    "    X = 4 .* Z.^2 + V\n",
    "    Y = β .* X + U\n",
    "\n",
    "    #generate g(Z)\n",
    "    gZ = (4 .* Z.^2 + V) ./ ((1 .+ Z).^2 .* ϵ.^2)\n",
    "\n",
    "    return (Y = Y, X = X, Z = Z, gZ = gZ)\n",
    "end\n"
   ]
  },
  {
   "cell_type": "code",
   "execution_count": 12,
   "metadata": {},
   "outputs": [
    {
     "data": {
      "text/plain": [
       "est2SLS (generic function with 1 method)"
      ]
     },
     "metadata": {},
     "output_type": "display_data"
    }
   ],
   "source": [
    "function est2SLS(y, x, z)\n",
    "    # Set some parameter\n",
    "    n = size(y,1)\n",
    "    Q = (z'* x)/n\n",
    "    W = inv(z' * z/n)\n",
    "\n",
    "    #Beta\n",
    "    beta2SLS = (Q' * W * Q)^(-1) * Q' * W * (z' * y)/n\n",
    "\n",
    "    return (beta2SLS=beta2SLS)\n",
    "end"
   ]
  },
  {
   "cell_type": "code",
   "execution_count": null,
   "metadata": {},
   "outputs": [],
   "source": [
    "function feasibleIV(Y,X,Z)\n",
    "    \n"
   ]
  },
  {
   "cell_type": "code",
   "execution_count": null,
   "metadata": {},
   "outputs": [],
   "source": [
    "(Y, X, Z, gZ) = gendata(100)\n",
    "beta1 = est2SLS(Y, X, Z)\n",
    "beta2 = est2SLS(Y, X, gZ)"
   ]
  }
 ],
 "metadata": {
  "kernelspec": {
   "display_name": "Julia 1.6.2",
   "language": "julia",
   "name": "julia-1.6"
  },
  "language_info": {
   "file_extension": ".jl",
   "mimetype": "application/julia",
   "name": "julia",
   "version": "1.6.2"
  },
  "orig_nbformat": 4
 },
 "nbformat": 4,
 "nbformat_minor": 2
}
