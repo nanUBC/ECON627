{
 "cells": [
  {
   "cell_type": "markdown",
   "metadata": {},
   "source": [
    "# Setting the Environment"
   ]
  },
  {
   "cell_type": "code",
   "execution_count": 65,
   "metadata": {},
   "outputs": [
    {
     "name": "stderr",
     "output_type": "stream",
     "text": [
      "\u001b[32m\u001b[1m  Activating\u001b[22m\u001b[39m environment at `~/Desktop/ECON 627/Project.toml`\n"
     ]
    },
    {
     "data": {
      "text/plain": [
       "MersenneTwister(1234)"
      ]
     },
     "metadata": {},
     "output_type": "display_data"
    }
   ],
   "source": [
    "using Pkg\n",
    "Pkg.activate(joinpath(pwd(),\"..\"))\n",
    "using Random, Distributions, PrettyTables\n",
    "Random.seed!(1234)"
   ]
  },
  {
   "cell_type": "code",
   "execution_count": 18,
   "metadata": {},
   "outputs": [
    {
     "data": {
      "text/plain": [
       "0.15"
      ]
     },
     "metadata": {},
     "output_type": "display_data"
    }
   ],
   "source": [
    "const ρ = 0.9\n",
    "const β = 0.15"
   ]
  },
  {
   "cell_type": "markdown",
   "metadata": {},
   "source": [
    "# Part a - c: Data Generating"
   ]
  },
  {
   "cell_type": "code",
   "execution_count": 173,
   "metadata": {},
   "outputs": [
    {
     "data": {
      "text/plain": [
       "gendata (generic function with 1 method)"
      ]
     },
     "metadata": {},
     "output_type": "display_data"
    }
   ],
   "source": [
    "function gendata(n)\n",
    "    #generate W and z\n",
    "    W = rand(n)\n",
    "    Z = -0.5 .*(W .< 0.2) - 0.1 .*(W .>= 0.2).* (W .< 0.4) + 0.1 .*(W .>= 0.4) .*(W.<0.6) + (W.>=0.6)\n",
    "\n",
    "    #generate ϵ, v and u\n",
    "    mvnormal = MvNormal([0;0], [1 ρ ; ρ 1])\n",
    "    err = rand(mvnormal, n)'\n",
    "\n",
    "    ϵ = err[:,1]\n",
    "    V = err[:,2]\n",
    "\n",
    "    U = (1 .+ Z) .* ϵ\n",
    "\n",
    "    #generate X and y\n",
    "    X = 4 .* Z.^2 .+ V\n",
    "    Y = β .* X .+ U\n",
    "\n",
    "    #generate g(Z)\n",
    "    gZ = (4 * Z.^2 ) ./ ((1 .+ Z).^2)\n",
    "\n",
    "    return (Y = Y, X = X, Z = Z, gZ = gZ)\n",
    "end\n"
   ]
  },
  {
   "cell_type": "markdown",
   "metadata": {},
   "source": [
    "# Part d: Estimations"
   ]
  },
  {
   "cell_type": "code",
   "execution_count": 134,
   "metadata": {},
   "outputs": [
    {
     "data": {
      "text/plain": [
       "est2SLS (generic function with 1 method)"
      ]
     },
     "metadata": {},
     "output_type": "display_data"
    }
   ],
   "source": [
    "# A funciton for 2SLS estimator\n",
    "function est2SLS(y, x, z)\n",
    "    # Set some parameter\n",
    "    n = size(y,1)\n",
    "    Q = (z'* x)/n\n",
    "    W = inv(z' * z/n)\n",
    "\n",
    "    #Beta\n",
    "    beta2SLS = (Q' * W * Q)^(-1) * Q' * W * (z' * y)/n\n",
    "\n",
    "    # Asymptotic variance and standard error  \n",
    "    u = y - x * beta2SLS\n",
    "    zu = z .* u\n",
    "    Omega = (zu' * zu)/n\n",
    "\n",
    "    var = (Q' * W * Q)^(-1) * Q' * W * Omega * W * Q * (Q' * W * Q)^(-1)\n",
    "    \n",
    "    sd2SLS = sqrt(var/n)\n",
    "\n",
    "\n",
    "    return (beta2SLS=beta2SLS, sd2SLS = sd2SLS)\n",
    "end"
   ]
  },
  {
   "cell_type": "code",
   "execution_count": 156,
   "metadata": {},
   "outputs": [
    {
     "data": {
      "text/plain": [
       "feasibleIV (generic function with 1 method)"
      ]
     },
     "metadata": {},
     "output_type": "display_data"
    }
   ],
   "source": [
    "# A function for estimating the feasible IV\n",
    "function feasibleIV(Y,X,Z)\n",
    "    Zd = [1*(Z.==-0.5) 1*(Z.==-0.1) 1*(Z.==0.1) 1*(Z.==1)]\n",
    "    #E(X|Z)\n",
    "    EXZ =  (Zd' * Zd)^(-1) * Zd' * X \n",
    "\n",
    "    #E(U^2|Z)\n",
    "    (beta_hat, sd)= est2SLS(Y, X, Z)\n",
    "    U_hat = (Y .- X .* beta_hat).^2\n",
    "    EUZ =  (Zd' * Zd)^(-1) * Zd' * U_hat \n",
    "\n",
    "    #gZ2\n",
    "    gZ2 = Zd * (EXZ ./ EUZ) \n",
    "\n",
    "    return (gZ2 = gZ2)\n",
    "end"
   ]
  },
  {
   "cell_type": "markdown",
   "metadata": {},
   "source": [
    "# Part e-g: Iterations and Results"
   ]
  },
  {
   "cell_type": "code",
   "execution_count": 140,
   "metadata": {},
   "outputs": [
    {
     "data": {
      "text/plain": [
       "result (generic function with 1 method)"
      ]
     },
     "metadata": {},
     "output_type": "display_data"
    }
   ],
   "source": [
    "# A function that automatically gives the result table \n",
    "\n",
    "function result(n,R)\n",
    "    result = zeros(R,24)\n",
    "    z1 = quantile(Normal(0,1), 1 - 0.1/2)\n",
    "    z2 = quantile(Normal(0,1), 1 - 0.05/2)\n",
    "    z3 = quantile(Normal(0,1), 1 - 0.01/2)\n",
    "\n",
    "    for i in 1:R\n",
    "        (Y, X, Z, gZ) = gendata(n)\n",
    "        gZ2 = feasibleIV(Y,X,Z)\n",
    "\n",
    "        #Store all the estimation results\n",
    "        (beta1, sd1) = est2SLS(Y, X, Z)\n",
    "        (beta2, sd2) = est2SLS(Y, X, gZ)\n",
    "        (beta3, sd3) = est2SLS(Y, X, gZ2)\n",
    "        result[i,1] = beta1\n",
    "        result[i,2] = beta2\n",
    "        result[i,3] = beta3\n",
    "        result[i,4] = sd1\n",
    "        result[i,5] = sd2\n",
    "        result[i,6] = sd3\n",
    "\n",
    "        #Store the coverage result\n",
    "        result[i,7] = abs(beta1 - β) < z1 * sd1  ? 1 : 0\n",
    "        result[i,8] = abs(beta2 - β) < z1 * sd2  ? 1 : 0\n",
    "        result[i,9] = abs(beta3 - β) < z1 * sd3  ? 1 : 0\n",
    "        result[i,10] = abs(beta1 - β) < z2 * sd1  ? 1 : 0\n",
    "        result[i,11] = abs(beta2 - β) < z2 * sd2  ? 1 : 0\n",
    "        result[i,12] = abs(beta3 - β) < z2 * sd3  ? 1 : 0\n",
    "        result[i,13] = abs(beta1 - β) < z3 * sd1  ? 1 : 0\n",
    "        result[i,14] = abs(beta2 - β) < z3 * sd2  ? 1 : 0\n",
    "        result[i,15] = abs(beta3 - β) < z3 * sd3  ? 1 : 0\n",
    "        result[i,16] = abs(beta1 - 0) > z1 * sd1  ? 1 : 0\n",
    "        result[i,17] = abs(beta2 - 0) > z1 * sd2  ? 1 : 0\n",
    "        result[i,18] = abs(beta3 - 0) > z1 * sd3  ? 1 : 0\n",
    "        result[i,19] = abs(beta1 - 0) > z2 * sd1  ? 1 : 0\n",
    "        result[i,20] = abs(beta2 - 0) > z2 * sd2  ? 1 : 0\n",
    "        result[i,21] = abs(beta3 - 0) > z2 * sd3  ? 1 : 0\n",
    "        result[i,22] = abs(beta1 - 0) > z3 * sd1  ? 1 : 0\n",
    "        result[i,23] = abs(beta2 - 0) > z3 * sd2  ? 1 : 0\n",
    "        result[i,24] = abs(beta3 - 0) > z3 * sd3  ? 1 : 0\n",
    "    end\n",
    "\n",
    "    #Use tables to compute the probabilities and generate results\n",
    "    table1 = [\"α = 0.1\" mean(result[:,7]) mean(result[:,8]) mean(result[:,9]); \"α = 0.05\" mean(result[:,10]) mean(result[:,11]) mean(result[:,12]); \"α = 0.01\" mean(result[:,13]) mean(result[:,14]) mean(result[:,15])] \n",
    "\n",
    "    table2 = [\"α = 0.1\" z1*mean(result[:,4])*2 z1*mean(result[:,5])*2 z1*mean(result[:,6])*2  ; \"α = 0.05\" z2*mean(result[:,4])*2 z2*mean(result[:,5])*2 z2*mean(result[:,6])*2; \"α = 0.01\" z3*mean(result[:,4])*2 z3*mean(result[:,5])*2 z3*mean(result[:,6])*2 ] \n",
    "\n",
    "    table3 = [\"α = 0.1\" mean(result[:,16]) mean(result[:,17]) mean(result[:,18]); \"α = 0.05\" mean(result[:,19]) mean(result[:,20]) mean(result[:,21]); \"α = 0.01\" mean(result[:,22]) mean(result[:,23]) mean(result[:,24])] \n",
    "\n",
    "    header = [\" \", \"2SLS\", \"Infeasible\", \" Feasible\"]\n",
    "\n",
    "\n",
    "    println(\"Table 1 : Coverage probability\" )\n",
    "    pretty_table(table1; header = header)\n",
    "\n",
    "    println(\"Table 2 : Length of confidence intervals\" )\n",
    "    pretty_table(table2; header = header)\n",
    "\n",
    "    println(\"Table 3 : Probability of statistically signifficant\" )\n",
    "    pretty_table(table3; header = header)\n",
    "end "
   ]
  },
  {
   "cell_type": "code",
   "execution_count": 174,
   "metadata": {},
   "outputs": [
    {
     "name": "stdout",
     "output_type": "stream",
     "text": [
      "Table 1 : Coverage probability\n",
      "┌──────────┬────────┬────────────┬───────────┐\n",
      "│\u001b[1m          \u001b[0m│\u001b[1m   2SLS \u001b[0m│\u001b[1m Infeasible \u001b[0m│\u001b[1m  Feasible \u001b[0m│\n",
      "├──────────┼────────┼────────────┼───────────┤\n",
      "│  α = 0.1 │ 0.8893 │     0.8891 │    0.8673 │\n",
      "│ α = 0.05 │ 0.9372 │     0.9422 │    0.9218 │\n",
      "│ α = 0.01 │ 0.9852 │     0.9849 │    0.9741 │\n",
      "└──────────┴────────┴────────────┴───────────┘\n",
      "Table 2 : Length of confidence intervals\n",
      "┌──────────┬──────────┬────────────┬───────────┐\n",
      "│\u001b[1m          \u001b[0m│\u001b[1m     2SLS \u001b[0m│\u001b[1m Infeasible \u001b[0m│\u001b[1m  Feasible \u001b[0m│\n",
      "├──────────┼──────────┼────────────┼───────────┤\n",
      "│  α = 0.1 │ 0.277435 │   0.212882 │  0.204619 │\n",
      "│ α = 0.05 │ 0.330584 │   0.253664 │  0.243818 │\n",
      "│ α = 0.01 │ 0.434461 │   0.333371 │  0.320431 │\n",
      "└──────────┴──────────┴────────────┴───────────┘\n",
      "Table 3 : Probability of statistically signifficant\n",
      "┌──────────┬────────┬────────────┬───────────┐\n",
      "│\u001b[1m          \u001b[0m│\u001b[1m   2SLS \u001b[0m│\u001b[1m Infeasible \u001b[0m│\u001b[1m  Feasible \u001b[0m│\n",
      "├──────────┼────────┼────────────┼───────────┤\n",
      "│  α = 0.1 │ 0.5543 │      0.713 │    0.7661 │\n",
      "│ α = 0.05 │  0.446 │     0.6238 │     0.683 │\n",
      "│ α = 0.01 │  0.271 │     0.4424 │    0.5045 │\n",
      "└──────────┴────────┴────────────┴───────────┘\n"
     ]
    }
   ],
   "source": [
    "#Run for 100 sample size and 10000 iterations\n",
    "result(100,10000)"
   ]
  },
  {
   "cell_type": "markdown",
   "metadata": {},
   "source": [
    "# Part h\n"
   ]
  },
  {
   "cell_type": "markdown",
   "metadata": {},
   "source": [
    "All the method seems to have coverage probablity close to $1 - \\alpha$. As we can see in the average confidence interval table, the infeasible IV gives much smaller confidence inteval. Therefore, the result in question 1 doesn't hold with finite sample."
   ]
  },
  {
   "cell_type": "markdown",
   "metadata": {},
   "source": [
    "# Part i"
   ]
  },
  {
   "cell_type": "markdown",
   "metadata": {},
   "source": [
    "The feasible IV gives the smallest confidence interval and the highest significant probability, therefore we can conclude it is the most powerful method among the three.\n",
    "\n",
    "Compared with the feasible IV, the infeasible IV has larger confidence interval and lower significant probability."
   ]
  },
  {
   "cell_type": "markdown",
   "metadata": {},
   "source": [
    "# Part j"
   ]
  },
  {
   "cell_type": "code",
   "execution_count": 175,
   "metadata": {},
   "outputs": [
    {
     "name": "stdout",
     "output_type": "stream",
     "text": [
      "Table 1 : Coverage probability\n",
      "┌──────────┬───────┬────────────┬───────────┐\n",
      "│\u001b[1m          \u001b[0m│\u001b[1m  2SLS \u001b[0m│\u001b[1m Infeasible \u001b[0m│\u001b[1m  Feasible \u001b[0m│\n",
      "├──────────┼───────┼────────────┼───────────┤\n",
      "│  α = 0.1 │ 0.912 │      0.905 │     0.898 │\n",
      "│ α = 0.05 │  0.97 │      0.954 │      0.95 │\n",
      "│ α = 0.01 │ 0.995 │      0.991 │     0.986 │\n",
      "└──────────┴───────┴────────────┴───────────┘\n",
      "Table 2 : Length of confidence intervals\n",
      "┌──────────┬──────────┬────────────┬───────────┐\n",
      "│\u001b[1m          \u001b[0m│\u001b[1m     2SLS \u001b[0m│\u001b[1m Infeasible \u001b[0m│\u001b[1m  Feasible \u001b[0m│\n",
      "├──────────┼──────────┼────────────┼───────────┤\n",
      "│  α = 0.1 │ 0.138957 │   0.105818 │  0.104741 │\n",
      "│ α = 0.05 │ 0.165578 │    0.12609 │  0.124806 │\n",
      "│ α = 0.01 │ 0.217606 │   0.165711 │  0.164023 │\n",
      "└──────────┴──────────┴────────────┴───────────┘\n",
      "Table 3 : Probability of statistically signifficant\n",
      "┌──────────┬───────┬────────────┬───────────┐\n",
      "│\u001b[1m          \u001b[0m│\u001b[1m  2SLS \u001b[0m│\u001b[1m Infeasible \u001b[0m│\u001b[1m  Feasible \u001b[0m│\n",
      "├──────────┼───────┼────────────┼───────────┤\n",
      "│  α = 0.1 │ 0.962 │      0.995 │     0.998 │\n",
      "│ α = 0.05 │ 0.926 │       0.99 │     0.994 │\n",
      "│ α = 0.01 │ 0.821 │       0.96 │     0.967 │\n",
      "└──────────┴───────┴────────────┴───────────┘\n"
     ]
    }
   ],
   "source": [
    "#Run for 400 sample size and 10000 iterations\n",
    "result(400,1000)"
   ]
  },
  {
   "cell_type": "markdown",
   "metadata": {},
   "source": [
    "Compared with the result with $n = 100$, we have much smaller confidence interval and much higher significant probability. The difference betweem the feasible IV and the infeasible IV is much smaller, which is in accord with the fact that they have the same asymptotic distribution. "
   ]
  }
 ],
 "metadata": {
  "kernelspec": {
   "display_name": "Julia 1.6.2",
   "language": "julia",
   "name": "julia-1.6"
  },
  "language_info": {
   "file_extension": ".jl",
   "mimetype": "application/julia",
   "name": "julia",
   "version": "1.6.2"
  },
  "orig_nbformat": 4
 },
 "nbformat": 4,
 "nbformat_minor": 2
}
