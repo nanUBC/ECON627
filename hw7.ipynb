{
 "cells": [
  {
   "cell_type": "code",
   "execution_count": 110,
   "metadata": {},
   "outputs": [
    {
     "name": "stderr",
     "output_type": "stream",
     "text": [
      "\u001b[32m\u001b[1m  Activating\u001b[22m\u001b[39m environment at `~/Desktop/ECON 627/Project.toml`\n"
     ]
    },
    {
     "data": {
      "text/plain": [
       "MersenneTwister(1234)"
      ]
     },
     "metadata": {},
     "output_type": "display_data"
    }
   ],
   "source": [
    "using Pkg\n",
    "Pkg.activate(joinpath(pwd(),\"..\"))\n",
    "using Random, Distributions, PrettyTables, Printf, Plots, Optim\n",
    "Random.seed!(1234)"
   ]
  },
  {
   "cell_type": "markdown",
   "metadata": {},
   "source": [
    "# Part (a): Data Generating"
   ]
  },
  {
   "cell_type": "code",
   "execution_count": 121,
   "metadata": {},
   "outputs": [
    {
     "data": {
      "text/plain": [
       "data (generic function with 1 method)"
      ]
     },
     "metadata": {},
     "output_type": "display_data"
    }
   ],
   "source": [
    "function data(n)\n",
    "    U = randn(n)\n",
    "    x = randn(n)\n",
    "    Y =  (-0.5 .+ x .+ U .>= 0) \n",
    "    one = ones(n)\n",
    "    X = [one x]\n",
    "    return (Y = Y, X = X)\n",
    "end"
   ]
  },
  {
   "cell_type": "markdown",
   "metadata": {},
   "source": [
    "# Part(b): Criterion Function"
   ]
  },
  {
   "cell_type": "code",
   "execution_count": 51,
   "metadata": {},
   "outputs": [
    {
     "data": {
      "text/plain": [
       "Qn (generic function with 1 method)"
      ]
     },
     "metadata": {},
     "output_type": "display_data"
    }
   ],
   "source": [
    "function Qn(beta, Y, X)\n",
    "    n = length(Y)\n",
    "    Xβ = X * beta\n",
    "    ΦXβ = cdf(Normal(0,1), Xβ)\n",
    "    Qn = - 1/n * Y' * log.(ΦXβ) - 1/n * (1 .- Y)' * log.(1 .- ΦXβ)\n",
    "    return Qn = Qn\n",
    "end\n"
   ]
  },
  {
   "cell_type": "markdown",
   "metadata": {},
   "source": [
    "# Part(c): Minimization"
   ]
  },
  {
   "cell_type": "code",
   "execution_count": 131,
   "metadata": {},
   "outputs": [
    {
     "data": {
      "text/plain": [
       "2-element Vector{Float64}:\n",
       " -0.354983642597063\n",
       "  1.419856815883338"
      ]
     },
     "metadata": {},
     "output_type": "display_data"
    }
   ],
   "source": [
    "(Y,X) = data(100)\n",
    "result=optimize(b->Qn(b,Y,X),[0.0;0.0;])\n",
    "b_n=Optim.minimizer(result)"
   ]
  },
  {
   "cell_type": "markdown",
   "metadata": {},
   "source": [
    "# Part(d): Logit Estimation"
   ]
  },
  {
   "cell_type": "code",
   "execution_count": 132,
   "metadata": {},
   "outputs": [
    {
     "data": {
      "text/plain": [
       "logit (generic function with 1 method)"
      ]
     },
     "metadata": {},
     "output_type": "display_data"
    }
   ],
   "source": [
    "function logit(beta, Y, X)\n",
    "    n = length(Y)\n",
    "    Xβ = X * beta\n",
    "    Λ = exp.(Xβ) ./ (1 .+ exp.(Xβ))\n",
    "    logit = - 1/n * Y' * log.(Λ) - 1/n * (1 .- Y)' * log.(1 .- Λ)\n",
    "    return logit = logit\n",
    "end\n"
   ]
  },
  {
   "cell_type": "code",
   "execution_count": 135,
   "metadata": {},
   "outputs": [
    {
     "data": {
      "text/plain": [
       "2-element Vector{Float64}:\n",
       " -1.1701227217263606\n",
       "  1.866946196535078"
      ]
     },
     "metadata": {},
     "output_type": "display_data"
    }
   ],
   "source": [
    "(Y,X) = data(100)\n",
    "result=optimize(b->logit(b,Y,X),[0.0;0.0;])\n",
    "b_n=Optim.minimizer(result)"
   ]
  },
  {
   "cell_type": "markdown",
   "metadata": {},
   "source": [
    "# Part(e): Linear Probability"
   ]
  },
  {
   "cell_type": "code",
   "execution_count": 133,
   "metadata": {},
   "outputs": [
    {
     "data": {
      "text/plain": [
       "linear (generic function with 1 method)"
      ]
     },
     "metadata": {},
     "output_type": "display_data"
    }
   ],
   "source": [
    "function linear(Y,X)\n",
    "    beta = inv(X' * X) * X' * Y\n",
    "    return beta = beta\n",
    "end"
   ]
  },
  {
   "cell_type": "markdown",
   "metadata": {},
   "source": [
    "# Part(f): Iteration"
   ]
  },
  {
   "cell_type": "code",
   "execution_count": 147,
   "metadata": {},
   "outputs": [
    {
     "name": "stdout",
     "output_type": "stream",
     "text": [
      "┌───────────┬───────────┬──────────┬───────────┐\n",
      "│\u001b[1m           \u001b[0m│\u001b[1m       MLE \u001b[0m│\u001b[1m    Logit \u001b[0m│\u001b[1m    Linear \u001b[0m│\n",
      "├───────────┼───────────┼──────────┼───────────┤\n",
      "│ Mean Bias │ 0.0359918 │ 0.775107 │ -0.735457 │\n",
      "│      RMSE │  0.233287 │  0.87827 │  0.736234 │\n",
      "└───────────┴───────────┴──────────┴───────────┘\n"
     ]
    }
   ],
   "source": [
    "R = 1000\n",
    "error = zeros((R,6))\n",
    "for i in 1:R\n",
    "    (Y,X) = data(100)\n",
    "    result1=optimize(b->Qn(b,Y,X),[0.0;0.0;])\n",
    "    b1=Optim.minimizer(result1)\n",
    "    result2=optimize(b->logit(b,Y,X),[0.0;0.0;])\n",
    "    b2=Optim.minimizer(result2)\n",
    "    b3 = linear(Y,X)\n",
    "    b21 = b1[2]\n",
    "    b22 = b2[2]\n",
    "    b23 = b3[2]\n",
    "    error[i,1] = b21 - 1\n",
    "    error[i,2] = b22 - 1\n",
    "    error[i,3] = b23 - 1\n",
    "    error[i,4] = (b21 - 1)^2\n",
    "    error[i,5] = (b22 - 1)^2\n",
    "    error[i,6] = (b23 - 1)^2\n",
    "end\n",
    "\n",
    "table =[\"Mean Bias\" mean(error[:,1]) mean(error[:,2]) mean(error[:,3]) ; \"RMSE\" sqrt(mean(error[:,4])) sqrt(mean(error[:,5])) sqrt(mean(error[:,6]))]\n",
    "header = [\"\",  \"MLE\", \"Logit\",  \"Linear\"]\n",
    "pretty_table(table; header = header)\n"
   ]
  },
  {
   "cell_type": "markdown",
   "metadata": {},
   "source": [
    "# Part(g)"
   ]
  },
  {
   "cell_type": "markdown",
   "metadata": {},
   "source": [
    "Based our result, the ML estimation with standard normal CDF gives the lowest mean bias and lowest RMSE"
   ]
  },
  {
   "cell_type": "markdown",
   "metadata": {},
   "source": [
    "# Part(h): More Sample"
   ]
  },
  {
   "cell_type": "code",
   "execution_count": 148,
   "metadata": {},
   "outputs": [
    {
     "name": "stdout",
     "output_type": "stream",
     "text": [
      "┌───────────┬────────────┬──────────┬───────────┐\n",
      "│\u001b[1m           \u001b[0m│\u001b[1m        MLE \u001b[0m│\u001b[1m    Logit \u001b[0m│\u001b[1m    Linear \u001b[0m│\n",
      "├───────────┼────────────┼──────────┼───────────┤\n",
      "│ Mean Bias │ 0.00487937 │ 0.720133 │ -0.734766 │\n",
      "│      RMSE │  0.0653197 │ 0.729704 │  0.734836 │\n",
      "└───────────┴────────────┴──────────┴───────────┘\n"
     ]
    }
   ],
   "source": [
    "R = 1000\n",
    "error = zeros((R,6))\n",
    "for i in 1:R\n",
    "    (Y,X) = data(1000)\n",
    "    result1=optimize(b->Qn(b,Y,X),[0.0;0.0;])\n",
    "    b1=Optim.minimizer(result1)\n",
    "    result2=optimize(b->logit(b,Y,X),[0.0;0.0;])\n",
    "    b2=Optim.minimizer(result2)\n",
    "    b3 = linear(Y,X)\n",
    "    b21 = b1[2]\n",
    "    b22 = b2[2]\n",
    "    b23 = b3[2]\n",
    "    error[i,1] = b21 - 1\n",
    "    error[i,2] = b22 - 1\n",
    "    error[i,3] = b23 - 1\n",
    "    error[i,4] = (b21 - 1)^2\n",
    "    error[i,5] = (b22 - 1)^2\n",
    "    error[i,6] = (b23 - 1)^2\n",
    "end\n",
    "\n",
    "table =[\"Mean Bias\" mean(error[:,1]) mean(error[:,2]) mean(error[:,3]) ; \"RMSE\" sqrt(mean(error[:,4])) sqrt(mean(error[:,5])) sqrt(mean(error[:,6]))]\n",
    "header = [\"\",  \"MLE\", \"Logit\",  \"Linear\"]\n",
    "pretty_table(table; header = header)"
   ]
  },
  {
   "cell_type": "markdown",
   "metadata": {},
   "source": [
    "As we can see, with more sample in each iteration, the bias and RMSE of MLE is decreased, while the bias for other two methods are almost the same as previous simulation. ML estimator seems to be constant, since the bias shrinks as sample size goes larger."
   ]
  }
 ],
 "metadata": {
  "interpreter": {
   "hash": "634e0762cbbe303414265a2d51d47e421048193dc48cb9746ac3275b7b204b82"
  },
  "kernelspec": {
   "display_name": "Julia 1.6.2",
   "language": "julia",
   "name": "julia-1.6"
  },
  "language_info": {
   "file_extension": ".jl",
   "mimetype": "application/julia",
   "name": "julia",
   "version": "1.6.2"
  },
  "orig_nbformat": 4
 },
 "nbformat": 4,
 "nbformat_minor": 2
}
