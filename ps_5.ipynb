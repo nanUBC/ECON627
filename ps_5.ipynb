{
 "cells": [
  {
   "cell_type": "markdown",
   "metadata": {},
   "source": [
    "# Econometrics Assignment 4\n",
    "## Nicolas Wesseler"
   ]
  },
  {
   "cell_type": "markdown",
   "metadata": {},
   "source": [
    "### Activate Environment"
   ]
  },
  {
   "cell_type": "code",
   "execution_count": 7,
   "metadata": {},
   "outputs": [
    {
     "name": "stderr",
     "output_type": "stream",
     "text": [
      "\u001b[32m\u001b[1m  Activating\u001b[22m\u001b[39m environment at `~/Desktop/ECON 627/Project.toml`\n"
     ]
    },
    {
     "data": {
      "text/plain": [
       "MersenneTwister(1234)"
      ]
     },
     "metadata": {},
     "output_type": "display_data"
    }
   ],
   "source": [
    "using Pkg\n",
    "Pkg.activate(joinpath(pwd(),\"..\"))\n",
    "using Random, Distributions, PrettyTables, Printf\n",
    "Random.seed!(1234)"
   ]
  },
  {
   "cell_type": "markdown",
   "metadata": {},
   "source": [
    "### Install missing packages"
   ]
  },
  {
   "cell_type": "code",
   "execution_count": 8,
   "metadata": {},
   "outputs": [],
   "source": [
    "#Pkg.add(\"Optim\")\n",
    "#Pkg.add(\"ForwardDiff\")\n",
    "#Pkg.add(\"PrettyTables\")\n",
    "#Pkg.add(\"Parameters\")\n",
    "#Pkg.add(\"Distributions\")\n",
    "#Pkg.add(\"Statistics\")"
   ]
  },
  {
   "cell_type": "markdown",
   "metadata": {},
   "source": [
    "### Load Packages"
   ]
  },
  {
   "cell_type": "markdown",
   "metadata": {},
   "source": [
    "## Question 3: Monte Carlo simulations for the overidentifying restrictions test"
   ]
  },
  {
   "cell_type": "markdown",
   "metadata": {},
   "source": [
    "I first simulate data for the following model:\n",
    "\n",
    "$$Y_i = \\beta X_i + U_i$$\n",
    "$$X_i = Z_i' \\pi + V_i$$"
   ]
  },
  {
   "cell_type": "markdown",
   "metadata": {},
   "source": [
    "Define the parameters"
   ]
  },
  {
   "cell_type": "code",
   "execution_count": 51,
   "metadata": {},
   "outputs": [],
   "source": [
    "const R = 10000;\n",
    "const β = 1;\n",
    "const ρ = 0.9;\n",
    "const pi = [1, 1];"
   ]
  },
  {
   "cell_type": "markdown",
   "metadata": {},
   "source": [
    "## a) Generate n = 100 observations"
   ]
  },
  {
   "cell_type": "code",
   "execution_count": 52,
   "metadata": {},
   "outputs": [
    {
     "data": {
      "text/plain": [
       "generate_data (generic function with 1 method)"
      ]
     },
     "metadata": {},
     "output_type": "display_data"
    }
   ],
   "source": [
    "function generate_data(n, δ)\n",
    "\n",
    "    # Errors\n",
    "    mvnormal_Z = MvNormal([0;0],[1 0 ; 0 1] )\n",
    "    mvnormal_error = MvNormal([0;0],[1 ρ ; ρ 1] )\n",
    "    errors = rand(mvnormal_error,n)'\n",
    "    e = errors[:,1]\n",
    "    V = errors[:,2]\n",
    "    Z = rand(mvnormal_Z,n)\n",
    "    U = (Z[1,:] .+ Z[2,:]) .*e \n",
    "\n",
    "    # Vector X\n",
    "    X = Z'* pi + V\n",
    "\n",
    "    # Vector y\n",
    "    y = β*X + U\n",
    "\n",
    "    ϵ = U .+ Z'* δ\n",
    "    y_alt =  β*X + ϵ\n",
    "\n",
    "    # Return the data\n",
    "    return(y=y, X=X, Z=Z, y_alt = y_alt)\n",
    "end"
   ]
  },
  {
   "cell_type": "markdown",
   "metadata": {},
   "source": [
    "## b) Compute Efficient 2-step GMM and GMM efficient weight matrix"
   ]
  },
  {
   "cell_type": "code",
   "execution_count": 42,
   "metadata": {},
   "outputs": [
    {
     "data": {
      "text/plain": [
       "(coef_GMM = 0.9268097142677967, Ω_GMM = [1.6589783811479473 0.46515282652479256; 0.46515282652479256 1.9373051266507728])"
      ]
     },
     "metadata": {},
     "output_type": "display_data"
    }
   ],
   "source": [
    "function two_step_gmm(Y,X,Z)\n",
    "    n = size(X,1)\n",
    "\n",
    "    # 2 SLS\n",
    "    xz = Z*X/n\n",
    "    zz = Z*Z'/n\n",
    "    zy = Z*y/n\n",
    "    β_2SLS = (xz'*inv(zz)xz)\\(xz'*inv(zz)zy)\n",
    "    \n",
    "    # Efficient GMM\n",
    "    res = y - X*β_2SLS\n",
    "    zu = Z' .* res\n",
    "    Ω = zu'*zu / n  \n",
    "\n",
    "    β_GMM = (xz'*inv(Ω)xz)\\(xz'*inv(Ω)*zy) \n",
    "    u_hat = y - X*β_GMM\n",
    "    zu2 = Z' .* u_hat\n",
    "    Ω_GMM = zu2'*zu2 /n\n",
    "\n",
    "    return (coef_GMM = β_GMM, Ω_GMM = Ω_GMM)\n",
    "end\n",
    "coef_GMM, Ω_GMM = two_step_gmm(y,X,Z)  "
   ]
  },
  {
   "cell_type": "markdown",
   "metadata": {},
   "source": [
    "## c) Calculate the overidentifying restrictions test statistic"
   ]
  },
  {
   "cell_type": "code",
   "execution_count": 53,
   "metadata": {},
   "outputs": [
    {
     "data": {
      "text/plain": [
       "(J = 0.00023600857082162714, r = 0)"
      ]
     },
     "metadata": {},
     "output_type": "display_data"
    }
   ],
   "source": [
    "function J_test(y,Z,coef_GMM, Ω_GMM)\n",
    "   n = size(y,1)\n",
    "    u_hat = y - X*coef_GMM\n",
    "    zu = Z * u_hat \n",
    "\n",
    "    J = 1/n *  zu' * inv(Ω_GMM) * zu\n",
    "\n",
    "    r = J > quantile(Chisq(1), .95) ? 1 : 0\n",
    "     \n",
    "\n",
    "    return (J = J, r = r)\n",
    "end\n",
    "J, r = J_test(y,Z,coef_GMM, Ω_GMM)"
   ]
  },
  {
   "cell_type": "markdown",
   "metadata": {},
   "source": [
    "We don't reject $H_0$ as there is no evidence for overidentification. "
   ]
  },
  {
   "cell_type": "markdown",
   "metadata": {},
   "source": [
    "## d) Repeat the test 10,000 times"
   ]
  },
  {
   "cell_type": "code",
   "execution_count": 54,
   "metadata": {},
   "outputs": [
    {
     "data": {
      "text/plain": [
       "0.0442"
      ]
     },
     "metadata": {},
     "output_type": "display_data"
    }
   ],
   "source": [
    "rejection_rate = []\n",
    "for i in 1:R\n",
    "    (y,X,Z,y_alt) = generate_data(100, [0;0])\n",
    "    (coef_GMM, Ω_GMM) = two_step_gmm(y,X,Z) \n",
    "    (J,r) = J_test(y,Z,coef_GMM, Ω_GMM)\n",
    "    append!(rejection_rate, r)\n",
    "end\n",
    "mean_rr = mean(rejection_rate)"
   ]
  },
  {
   "cell_type": "code",
   "execution_count": 29,
   "metadata": {},
   "outputs": [
    {
     "data": {
      "text/plain": [
       "(coef_GMM = 0.976793026070875, Ω_GMM = [541.8868418230556 146.21779654010848; 146.21779654010848 376.7432620215407])"
      ]
     },
     "metadata": {},
     "output_type": "display_data"
    }
   ],
   "source": [
    "(y,X,Z,y_alt) = generate_data(100, [0;0])\n",
    "(coef_GMM, Ω_GMM) = two_step_gmm(y,X,Z) "
   ]
  },
  {
   "cell_type": "markdown",
   "metadata": {},
   "source": [
    "The average rejection rate is 0.0459 and therefore very close to the nominal 5\\% level."
   ]
  },
  {
   "cell_type": "markdown",
   "metadata": {},
   "source": [
    "## e) Power of the Test "
   ]
  },
  {
   "cell_type": "markdown",
   "metadata": {},
   "source": [
    "$$Z_i \\epsilon_i = Z_i U_i + Z_i Z_i' \\delta$$\n",
    "$$E[Z_i \\epsilon_i] = E[Z_i U_i] + E[Z_i Z_i'] \\delta$$\n",
    "$$E[Z_i \\epsilon_i] = 0 + I \\delta$$\n",
    "$$E[Z_i \\epsilon_i] = \\delta$$\n"
   ]
  },
  {
   "cell_type": "markdown",
   "metadata": {},
   "source": [
    "$$Z_i X_i' = Z_i Z_i' \\pi + Z_i V_i $$\n",
    "$$E[Z_i X_i'] = E[Z_i Z_i'] \\pi + E[Z_i V_i] $$\n",
    "$$E[Z_i X_i'] = I \\pi + 0 $$\n",
    "$$E[Z_i X_i'] = \\pi$$"
   ]
  },
  {
   "cell_type": "markdown",
   "metadata": {},
   "source": [
    "## f) g) h) i) "
   ]
  },
  {
   "cell_type": "code",
   "execution_count": 55,
   "metadata": {},
   "outputs": [
    {
     "name": "stdout",
     "output_type": "stream",
     "text": [
      "[0.2, -0.2]Rejection Rate is 0.6021\n"
     ]
    },
    {
     "name": "stdout",
     "output_type": "stream",
     "text": [
      "[1.0, -1.0]Rejection Rate is 1.0\n"
     ]
    },
    {
     "name": "stdout",
     "output_type": "stream",
     "text": [
      "[20.0, 20.0]Rejection Rate is 1.0\n"
     ]
    }
   ],
   "source": [
    "Δ = [0.2 1 20; -0.2 -1 20]\n",
    "for j in 1:3\n",
    "    δ = Δ[:,j]\n",
    "    rejection_rate = []\n",
    "    for i in 1:R\n",
    "        (y,X,Z,y_alt) = generate_data(100,δ)\n",
    "        (coef_GMM, Ω_GMM) = two_step_gmm(y_alt,X,Z) \n",
    "        (J,r) = J_test(y_alt,Z,coef_GMM, Ω_GMM)\n",
    "        append!(rejection_rate, r)\n",
    "    end\n",
    "    mean_rr = mean(rejection_rate)\n",
    "    println( δ,  \"Rejection Rate is \", mean_rr)\n",
    "end"
   ]
  },
  {
   "cell_type": "code",
   "execution_count": 16,
   "metadata": {},
   "outputs": [
    {
     "data": {
      "text/plain": [
       "(12827.847923825599, 1)"
      ]
     },
     "metadata": {},
     "output_type": "display_data"
    }
   ],
   "source": [
    "y,X,Z,y_alt = generate_data(100,[20.0; 20.0])\n",
    "coef_GMM, Ω_GMM = two_step_gmm(y_alt,X,Z) \n",
    "estgmm = J_test(y_alt,Z,coef_GMM, Ω_GMM)"
   ]
  },
  {
   "cell_type": "markdown",
   "metadata": {},
   "source": [
    "The J-test is based on the null hypothesis that $E[Z_i \\epsilon_i] = 0$. When setting $E[Z_i \\epsilon_i] \\neq 0$ but $\\delta_1 = - \\delta_2$ the power of the test increases ad the more so the greater $|\\delta|$. This makes sense since the $H_0$ extends farther away from the real value and so it is easier to reject it when false. "
   ]
  }
 ],
 "metadata": {
  "interpreter": {
   "hash": "6f3459a7eaad7388d7351a557bbe5239a0aa1912c8a80cc899cc91528b7b4fb5"
  },
  "kernelspec": {
   "display_name": "Julia 1.6.2",
   "language": "julia",
   "name": "julia-1.6"
  },
  "language_info": {
   "file_extension": ".jl",
   "mimetype": "application/julia",
   "name": "julia",
   "version": "1.6.2"
  }
 },
 "nbformat": 4,
 "nbformat_minor": 2
}
