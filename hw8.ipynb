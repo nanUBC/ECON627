{
 "cells": [
  {
   "cell_type": "code",
   "execution_count": 26,
   "metadata": {},
   "outputs": [
    {
     "name": "stderr",
     "output_type": "stream",
     "text": [
      "\u001b[32m\u001b[1m  Activating\u001b[22m\u001b[39m environment at `~/Desktop/ECON 627/Project.toml`\n"
     ]
    },
    {
     "data": {
      "text/plain": [
       "MersenneTwister(1234)"
      ]
     },
     "execution_count": 26,
     "metadata": {},
     "output_type": "execute_result"
    }
   ],
   "source": [
    "using Pkg\n",
    "Pkg.activate(joinpath(pwd(),\"..\"))\n",
    "using Random, Distributions, PrettyTables, Printf, Plots, Optim\n",
    "Random.seed!(1234)"
   ]
  },
  {
   "cell_type": "code",
   "execution_count": 27,
   "metadata": {},
   "outputs": [
    {
     "data": {
      "text/plain": [
       "data (generic function with 1 method)"
      ]
     },
     "execution_count": 27,
     "metadata": {},
     "output_type": "execute_result"
    }
   ],
   "source": [
    "function data(n)\n",
    "    mvnormal = MvNormal([0;0], [1 0.99 ; 0.99 1])\n",
    "    err = rand(mvnormal, n)'\n",
    "\n",
    "    U = err[:,1]\n",
    "    V = err[:,2]\n",
    "\n",
    "    X2 = randn(n)\n",
    "    Z = randn(n)\n",
    "    X1 = Z + X2 + V\n",
    "    Y = sin.(X1 + X2) + U\n",
    "\n",
    "    return (Y = Y, X1 = X1, X2 = X2, Z = Z)\n",
    "end"
   ]
  },
  {
   "cell_type": "code",
   "execution_count": 89,
   "metadata": {},
   "outputs": [
    {
     "data": {
      "text/plain": [
       "Qn (generic function with 1 method)"
      ]
     },
     "execution_count": 89,
     "metadata": {},
     "output_type": "execute_result"
    }
   ],
   "source": [
    "function Qn(gamma, Y, X1, X2)\n",
    "    n = length(Y)\n",
    "    Qn = 0\n",
    "    gamma = gamma[1]\n",
    "    for i in 1:n\n",
    "        Yi = Y[i]\n",
    "        X1i = X1[i]\n",
    "        X2i = X2[i]\n",
    "        gi = sin(gamma * X1i + X2i)\n",
    "        Qn += 1/n * (Yi - gi)^2\n",
    "    end\n",
    "    return Qn = Qn\n",
    "end\n"
   ]
  },
  {
   "cell_type": "code",
   "execution_count": 57,
   "metadata": {},
   "outputs": [
    {
     "data": {
      "text/plain": [
       "FV (generic function with 2 methods)"
      ]
     },
     "execution_count": 57,
     "metadata": {},
     "output_type": "execute_result"
    }
   ],
   "source": [
    "function FV(Y, X1, X2, Z)\n",
    "    W = [Z X2]\n",
    "    beta = inv(W'*W)*W'*X1\n",
    "    X1_hat = W * beta\n",
    "    \n",
    "    result = optimize(gamma -> Qn(gamma,Y,X1_hat, X2),[0.0;])\n",
    "    gamma_FV = Optim.minimizer(result)\n",
    "    return gamma_FV = gamma_FV\n",
    "end"
   ]
  },
  {
   "cell_type": "code",
   "execution_count": 90,
   "metadata": {},
   "outputs": [
    {
     "data": {
      "text/plain": [
       "Qn2 (generic function with 1 method)"
      ]
     },
     "execution_count": 90,
     "metadata": {},
     "output_type": "execute_result"
    }
   ],
   "source": [
    "function Qn2(gamma, Y, X1, X2, V)\n",
    "    gamma1 = gamma[1]\n",
    "    gamma2 = gamma[2]\n",
    "\n",
    "    n = length(Y)\n",
    "    Qn2 = 0\n",
    "\n",
    "    for i in 1:n\n",
    "        Yi = Y[i]\n",
    "        X1i = X1[i]\n",
    "        X2i = X2[i]\n",
    "        Vi = V[i]\n",
    "        gi = sin(gamma1 * X1i + X2i)\n",
    "        Qn2 += 1/n * (Yi - gi - gamma2 * Vi)^2\n",
    "    end\n",
    "    return Qn2 = Qn2\n",
    "end"
   ]
  },
  {
   "cell_type": "code",
   "execution_count": 82,
   "metadata": {},
   "outputs": [
    {
     "data": {
      "text/plain": [
       "CF (generic function with 2 methods)"
      ]
     },
     "execution_count": 82,
     "metadata": {},
     "output_type": "execute_result"
    }
   ],
   "source": [
    "function CF(Y, X1, X2, Z)\n",
    "    W = [Z X2]\n",
    "    beta = inv(W'*W)*W'*X1\n",
    "    X1_hat = W * beta\n",
    "    V_hat = X1 - X1_hat\n",
    "\n",
    "    result = optimize(gamma -> Qn2(gamma,Y,X1, X2, V_hat),[0.0;0.0;])\n",
    "    gamma_CF = Optim.minimizer(result)\n",
    "    return gamma_CF = gamma_CF\n",
    "end\n",
    "\n",
    "    "
   ]
  },
  {
   "cell_type": "code",
   "execution_count": 111,
   "metadata": {},
   "outputs": [
    {
     "data": {
      "text/plain": [
       "result (generic function with 1 method)"
      ]
     },
     "execution_count": 111,
     "metadata": {},
     "output_type": "execute_result"
    }
   ],
   "source": [
    "function result(n)\n",
    "    bias_FV = 0\n",
    "    bias_CF = 0\n",
    "    RMSE_FV = 0\n",
    "    RMSE_CF = 0\n",
    "\n",
    "    for r in 1:1000\n",
    "        (Y, X1, X2, Z) = data(n)\n",
    "        gamma_FV = FV(Y, X1, X2, Z)\n",
    "        gamma_CF = CF(Y, X1, X2, Z)\n",
    "        bias_FV += 1/1000 * (gamma_FV[1] - 1)\n",
    "        bias_CF += 1/1000 * (gamma_CF[1] - 1)\n",
    "        RMSE_FV += 1/1000 * (gamma_FV[1] - 1)^2\n",
    "        RMSE_CF += 1/1000 * (gamma_CF[1] - 1)^2\n",
    "    end\n",
    "\n",
    "\n",
    "    println(\"The mean bias for fitted value estimator is \", bias_FV)\n",
    "    println(\"The mean bias for control function estimator is \", bias_CF)\n",
    "    println(\"The RMSE for fitted value estimator is \", RMSE_FV)\n",
    "    println(\"The RMSE for control function estimator is \", RMSE_CF)\n",
    "end"
   ]
  },
  {
   "cell_type": "markdown",
   "metadata": {},
   "source": [
    "# Part (a): 100 samples"
   ]
  },
  {
   "cell_type": "code",
   "execution_count": 116,
   "metadata": {},
   "outputs": [
    {
     "name": "stdout",
     "output_type": "stream",
     "text": [
      "The mean bias for fitted value estimator is -0.25952934722900367\n",
      "The mean bias for control function estimator is -0.0005794762123971724\n",
      "The RMSE for fitted value estimator is 0.3916889048078497\n",
      "The RMSE for control function estimator is 0.0033243569456523152\n"
     ]
    }
   ],
   "source": [
    "result(100)"
   ]
  },
  {
   "cell_type": "markdown",
   "metadata": {},
   "source": [
    "# Part (b): 1000 samples"
   ]
  },
  {
   "cell_type": "code",
   "execution_count": 118,
   "metadata": {},
   "outputs": [
    {
     "name": "stdout",
     "output_type": "stream",
     "text": [
      "The mean bias for fitted value estimator is -0.003774085998534703\n",
      "The mean bias for control function estimator is 0.0005871224719415906\n",
      "The RMSE for fitted value estimator is 0.012167836930730855\n",
      "The RMSE for control function estimator is 8.386969371484683e-5\n"
     ]
    }
   ],
   "source": [
    "result(1000)"
   ]
  },
  {
   "cell_type": "markdown",
   "metadata": {},
   "source": [
    "# Part (c)"
   ]
  },
  {
   "cell_type": "markdown",
   "metadata": {},
   "source": [
    "From the previous result, we can see that the biases of both estimators are smaller when we have larger sample size, meaning they can both be consistent. However, compared with fitted value estimator, control function estimator has lower bias and RMSE, and is more appropriate to be the estimator for nonlinear IV models."
   ]
  }
 ],
 "metadata": {
  "kernelspec": {
   "display_name": "Julia 1.6.2",
   "language": "julia",
   "name": "julia-1.6"
  },
  "language_info": {
   "file_extension": ".jl",
   "mimetype": "application/julia",
   "name": "julia",
   "version": "1.6.2"
  },
  "orig_nbformat": 4
 },
 "nbformat": 4,
 "nbformat_minor": 2
}
